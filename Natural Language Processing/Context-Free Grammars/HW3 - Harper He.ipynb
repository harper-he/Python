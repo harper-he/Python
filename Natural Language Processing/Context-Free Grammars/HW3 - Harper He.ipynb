{
 "cells": [
  {
   "cell_type": "code",
   "execution_count": 1,
   "metadata": {},
   "outputs": [],
   "source": [
    "# IST 664 Natural Language Processing\n",
    "# Homework 3\n",
    "# Harper He\n",
    "# xhe128"
   ]
  },
  {
   "cell_type": "code",
   "execution_count": 1,
   "metadata": {},
   "outputs": [],
   "source": [
    "import nltk"
   ]
  },
  {
   "cell_type": "code",
   "execution_count": 2,
   "metadata": {},
   "outputs": [],
   "source": [
    "# develop the context-free grammar that can parse all the following sentences"
   ]
  },
  {
   "cell_type": "code",
   "execution_count": 9,
   "metadata": {},
   "outputs": [],
   "source": [
    "grammar = nltk.CFG.fromstring(\"\"\"\n",
    "  S -> NP VP\n",
    "  VP -> V NP RB | InV TO VP2 ADVP| MD InV RB | V RB ADJP \n",
    "  VP2 -> V NP\n",
    "  NP -> Prop |Det JJ N | Det N \n",
    "  ADJP -> RB JJ\n",
    "  ADVP -> CD N RB \n",
    "  V -> \"had\" | \"visit\" |  \"are\"\n",
    "  InV ->  \"came\" |\"go\" \n",
    "  Prop -> \"We\" |\"You\" | \"She\" | \"me\" \n",
    "  Det -> \"a\" | \"Their\" \n",
    "  N -> \"party\" | \"days\" | \"kids\"\n",
    "  TO -> \"to\" \n",
    "  JJ -> \"nice\" | \"naive\"\n",
    "  CD -> \"two\"\n",
    "  RB -> \"ago\" | \"now\" | \"not\" | \"always\" | \"yesterday\"\n",
    "  MD -> \"may\"\n",
    "\"\"\") "
   ]
  },
  {
   "cell_type": "code",
   "execution_count": 10,
   "metadata": {},
   "outputs": [],
   "source": [
    "rd_parser = nltk.RecursiveDescentParser(grammar)"
   ]
  },
  {
   "cell_type": "code",
   "execution_count": 11,
   "metadata": {},
   "outputs": [
    {
     "name": "stdout",
     "output_type": "stream",
     "text": [
      "(S\n",
      "  (NP (Prop We))\n",
      "  (VP (V had) (NP (Det a) (JJ nice) (N party)) (RB yesterday)))\n"
     ]
    }
   ],
   "source": [
    "sent1list = \"We had a nice party yesterday\".split()\n",
    "for tree in rd_parser.parse(sent1list):\n",
    "\tprint (tree)"
   ]
  },
  {
   "cell_type": "code",
   "execution_count": 12,
   "metadata": {},
   "outputs": [
    {
     "name": "stdout",
     "output_type": "stream",
     "text": [
      "(S\n",
      "  (NP (Prop She))\n",
      "  (VP\n",
      "    (InV came)\n",
      "    (TO to)\n",
      "    (VP2 (V visit) (NP (Prop me)))\n",
      "    (ADVP (CD two) (N days) (RB ago))))\n"
     ]
    }
   ],
   "source": [
    "sent2list = \"She came to visit me two days ago\".split()\n",
    "for tree in rd_parser.parse(sent2list):\n",
    "\tprint (tree)"
   ]
  },
  {
   "cell_type": "code",
   "execution_count": 13,
   "metadata": {},
   "outputs": [
    {
     "name": "stdout",
     "output_type": "stream",
     "text": [
      "(S (NP (Prop You)) (VP (MD may) (InV go) (RB now)))\n"
     ]
    }
   ],
   "source": [
    "sent3list = \"You may go now\".split()\n",
    "for tree in rd_parser.parse(sent3list):\n",
    "\tprint (tree)"
   ]
  },
  {
   "cell_type": "code",
   "execution_count": 14,
   "metadata": {},
   "outputs": [
    {
     "name": "stdout",
     "output_type": "stream",
     "text": [
      "(S\n",
      "  (NP (Det Their) (N kids))\n",
      "  (VP (V are) (RB not) (ADJP (RB always) (JJ naive))))\n"
     ]
    }
   ],
   "source": [
    "sent4list = \"Their kids are not always naive\".split()\n",
    "for tree in rd_parser.parse(sent4list):\n",
    "\tprint (tree)"
   ]
  },
  {
   "cell_type": "code",
   "execution_count": 10,
   "metadata": {},
   "outputs": [],
   "source": [
    "# list three more different sentences that can be parsed by this grammar \n",
    "# can you generate one that does not make sense?\n",
    "# Why can’t you have such a sentence based on your grammar?"
   ]
  },
  {
   "cell_type": "code",
   "execution_count": 21,
   "metadata": {},
   "outputs": [
    {
     "name": "stdout",
     "output_type": "stream",
     "text": [
      "(S\n",
      "  (NP (Prop You))\n",
      "  (VP (V are) (RB not) (ADJP (RB always) (JJ nice))))\n"
     ]
    }
   ],
   "source": [
    "sent5list = \"You are not always nice\".split()\n",
    "for tree in rd_parser.parse(sent5list):\n",
    "\tprint (tree)"
   ]
  },
  {
   "cell_type": "code",
   "execution_count": 22,
   "metadata": {},
   "outputs": [
    {
     "name": "stdout",
     "output_type": "stream",
     "text": [
      "(S (NP (Det Their) (N party)) (VP (V had) (NP (Prop me)) (RB ago)))\n"
     ]
    }
   ],
   "source": [
    "sent6list = \"Their party had me ago\".split()\n",
    "for tree in rd_parser.parse(sent6list):\n",
    "\tprint (tree)"
   ]
  },
  {
   "cell_type": "code",
   "execution_count": 26,
   "metadata": {
    "scrolled": true
   },
   "outputs": [
    {
     "name": "stdout",
     "output_type": "stream",
     "text": [
      "(S\n",
      "  (NP (Det a) (N kids))\n",
      "  (VP (V visit) (RB not) (ADJP (RB now) (JJ naive))))\n"
     ]
    }
   ],
   "source": [
    "sent7list = \"a kids visit not now naive\".split()\n",
    "for tree in rd_parser.parse(sent7list):\n",
    "\tprint (tree)"
   ]
  },
  {
   "cell_type": "code",
   "execution_count": 14,
   "metadata": {},
   "outputs": [],
   "source": [
    "# assuming that the above given four sentences are your mini-mini training corpus, \n",
    "# you will write a probabilistic context-free grammar. "
   ]
  },
  {
   "cell_type": "code",
   "execution_count": 27,
   "metadata": {},
   "outputs": [],
   "source": [
    "# Probabilistic CFG with verb subcategories\n",
    "prob_grammar = nltk.PCFG.fromstring(\"\"\"\n",
    "  S -> NP VP [1.0]\n",
    "  VP -> TranV NP RB [0.25] | InV TO VP2 ADVP[0.25]  | MD InV RB[0.25]  | TranV RB ADJP[0.25] \n",
    "  VP2 -> TranV NP [1.0]\n",
    "  NP -> Prop [0.666] |Det JJ N[0.166] | Det N [0.166] \n",
    "  ADJP -> RB JJ[1.0]\n",
    "  ADVP -> CD N RB [1.0]\n",
    "  InV -> \"came\" [0.5] | \"go\" [0.5]\n",
    "  TranV -> \"had\"[0.333] | \"visit\" [0.333] | \"are\"[0.333] \n",
    "  Prop -> \"We\"[0.25]  |\"You\"[0.25]  | \"She\"[0.25]  | \"me\" [0.25] \n",
    "  Det -> \"a\"[0.5]  | \"Their\" [0.5] \n",
    "  N -> \"party\"[0.333]  | \"days\" [0.333] | \"kids\"[0.333] \n",
    "  TO -> \"to\" [1.0]\n",
    "  JJ -> \"nice\"[0.5]  | \"naive\"[0.5] \n",
    "  CD -> \"two\"[1.0]\n",
    "  RB -> \"ago\"[0.2]  | \"now\"[0.2]   | \"not\" [0.2]  | \"always\"[0.2]  |\"yesterday\" [0.2] \n",
    "  MD -> \"may\"[1.0]\n",
    "\"\"\") "
   ]
  },
  {
   "cell_type": "code",
   "execution_count": 28,
   "metadata": {},
   "outputs": [],
   "source": [
    "# create a viterbi parser, a parser that expects a PCFG\n",
    "viterbi_parser = nltk.ViterbiParser(prob_grammar)"
   ]
  },
  {
   "cell_type": "code",
   "execution_count": 29,
   "metadata": {},
   "outputs": [
    {
     "name": "stdout",
     "output_type": "stream",
     "text": [
      "(S\n",
      "  (NP (Prop We))\n",
      "  (VP\n",
      "    (TranV had)\n",
      "    (NP (Det a) (JJ nice) (N party))\n",
      "    (RB yesterday))) (p=3.83108e-05)\n"
     ]
    }
   ],
   "source": [
    "# use its parse function on a list of tokens\n",
    "for tree in viterbi_parser.parse(sent1list):\n",
    "    print (tree)"
   ]
  },
  {
   "cell_type": "code",
   "execution_count": 30,
   "metadata": {},
   "outputs": [
    {
     "name": "stdout",
     "output_type": "stream",
     "text": [
      "(S\n",
      "  (NP (Prop She))\n",
      "  (VP\n",
      "    (InV came)\n",
      "    (TO to)\n",
      "    (VP2 (TranV visit) (NP (Prop me)))\n",
      "    (ADVP (CD two) (N days) (RB ago)))) (p=7.68523e-05)\n"
     ]
    }
   ],
   "source": [
    "for tree in viterbi_parser.parse(sent2list):\n",
    "    print (tree)"
   ]
  },
  {
   "cell_type": "code",
   "execution_count": 31,
   "metadata": {},
   "outputs": [
    {
     "name": "stdout",
     "output_type": "stream",
     "text": [
      "(S (NP (Prop You)) (VP (MD may) (InV go) (RB now))) (p=0.0041625)\n"
     ]
    }
   ],
   "source": [
    "for tree in viterbi_parser.parse(sent3list):\n",
    "    print (tree)"
   ]
  },
  {
   "cell_type": "code",
   "execution_count": 32,
   "metadata": {},
   "outputs": [
    {
     "name": "stdout",
     "output_type": "stream",
     "text": [
      "(S\n",
      "  (NP (Det Their) (N kids))\n",
      "  (VP (TranV are) (RB not) (ADJP (RB always) (JJ naive)))) (p=4.60189e-05)\n"
     ]
    }
   ],
   "source": [
    "for tree in viterbi_parser.parse(sent4list):\n",
    "    print (tree)"
   ]
  }
 ],
 "metadata": {
  "kernelspec": {
   "display_name": "Python 3",
   "language": "python",
   "name": "python3"
  },
  "language_info": {
   "codemirror_mode": {
    "name": "ipython",
    "version": 3
   },
   "file_extension": ".py",
   "mimetype": "text/x-python",
   "name": "python",
   "nbconvert_exporter": "python",
   "pygments_lexer": "ipython3",
   "version": "3.7.1"
  }
 },
 "nbformat": 4,
 "nbformat_minor": 2
}
