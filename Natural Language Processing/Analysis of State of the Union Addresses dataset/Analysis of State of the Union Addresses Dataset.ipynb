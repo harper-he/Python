{
 "cells": [
  {
   "cell_type": "code",
   "execution_count": null,
   "metadata": {},
   "outputs": [],
   "source": [
    "# Harper He\n",
   ]
  },
  {
   "cell_type": "code",
   "execution_count": 1,
   "metadata": {},
   "outputs": [],
   "source": [
    "import nltk"
   ]
  },
  {
   "cell_type": "code",
   "execution_count": 105,
   "metadata": {},
   "outputs": [],
   "source": [
    "#### Analysis of State of the Union Addresses dataset: Part1\n",
    "# Read file\n",
    "sup1=open('state_union_part1.txt')\n",
    "raw1=sup1.read()"
   ]
  },
  {
   "cell_type": "code",
   "execution_count": 106,
   "metadata": {},
   "outputs": [
    {
     "name": "stdout",
     "output_type": "stream",
     "text": [
      "<class 'str'>\n",
      "3087306\n"
     ]
    }
   ],
   "source": [
    "# check the type and length of the file\n",
    "print(type(raw1))\n",
    "print(len(raw1))"
   ]
  },
  {
   "cell_type": "code",
   "execution_count": 107,
   "metadata": {},
   "outputs": [
    {
     "data": {
      "text/plain": [
       "'The Project Gutenberg EBook of Complete State of the Union Addresses,\\nfrom 1790 to the Present\\n(#41 in our series of US Presidential State of the Union Addresses)\\n\\nCopyright laws are changing all over the world. Be sure to check the\\ncopyright laws for your country before downloading or redistributin'"
      ]
     },
     "execution_count": 107,
     "metadata": {},
     "output_type": "execute_result"
    }
   ],
   "source": [
    "# show some of the words\n",
    "raw1[:300]"
   ]
  },
  {
   "cell_type": "code",
   "execution_count": 111,
   "metadata": {},
   "outputs": [],
   "source": [
    "# convert string into tokens and then text\n",
    "from nltk.tokenize import *\n",
    "tokens1=word_tokenize(raw1)\n",
    "text1=nltk.Text(tokens1)"
   ]
  },
  {
   "cell_type": "code",
   "execution_count": 112,
   "metadata": {},
   "outputs": [],
   "source": [
    "# remove punctuations\n",
    "words1 = [w.lower() for w in text1 if w.isalpha()]"
   ]
  },
  {
   "cell_type": "code",
   "execution_count": 113,
   "metadata": {},
   "outputs": [
    {
     "name": "stdout",
     "output_type": "stream",
     "text": [
      "<class 'list'>\n"
     ]
    },
    {
     "data": {
      "text/plain": [
       "['the',\n",
       " 'project',\n",
       " 'gutenberg',\n",
       " 'ebook',\n",
       " 'of',\n",
       " 'complete',\n",
       " 'state',\n",
       " 'of',\n",
       " 'the',\n",
       " 'union',\n",
       " 'addresses',\n",
       " 'from',\n",
       " 'to',\n",
       " 'the',\n",
       " 'present',\n",
       " 'in',\n",
       " 'our',\n",
       " 'series',\n",
       " 'of',\n",
       " 'us',\n",
       " 'presidential',\n",
       " 'state',\n",
       " 'of',\n",
       " 'the',\n",
       " 'union',\n",
       " 'addresses',\n",
       " 'copyright',\n",
       " 'laws',\n",
       " 'are',\n",
       " 'changing']"
      ]
     },
     "execution_count": 113,
     "metadata": {},
     "output_type": "execute_result"
    }
   ],
   "source": [
    "print(type(words1))\n",
    "words1[:30]"
   ]
  },
  {
   "cell_type": "code",
   "execution_count": 88,
   "metadata": {},
   "outputs": [],
   "source": [
    "### use all lower case"
   ]
  },
  {
   "cell_type": "code",
   "execution_count": 89,
   "metadata": {},
   "outputs": [],
   "source": [
    "## list the top 50 words by frequency"
   ]
  },
  {
   "cell_type": "code",
   "execution_count": 114,
   "metadata": {},
   "outputs": [
    {
     "data": {
      "text/plain": [
       "[('the', 49523),\n",
       " ('of', 32404),\n",
       " ('to', 19129),\n",
       " ('and', 16905),\n",
       " ('in', 10464),\n",
       " ('a', 7839),\n",
       " ('that', 6658),\n",
       " ('be', 6354),\n",
       " ('it', 5492),\n",
       " ('by', 5451),\n",
       " ('which', 5243),\n",
       " ('for', 4746),\n",
       " ('our', 4318),\n",
       " ('with', 4144),\n",
       " ('is', 4000),\n",
       " ('have', 3786),\n",
       " ('as', 3734),\n",
       " ('been', 3692),\n",
       " ('on', 3370),\n",
       " ('this', 3151),\n",
       " ('has', 2788),\n",
       " ('their', 2775),\n",
       " ('from', 2758),\n",
       " ('not', 2750),\n",
       " ('states', 2725),\n",
       " ('will', 2546),\n",
       " ('was', 2231),\n",
       " ('government', 2220),\n",
       " ('at', 2198),\n",
       " ('its', 2041),\n",
       " ('all', 1949),\n",
       " ('i', 1947),\n",
       " ('an', 1940),\n",
       " ('are', 1895),\n",
       " ('united', 1864),\n",
       " ('or', 1683),\n",
       " ('they', 1575),\n",
       " ('may', 1562),\n",
       " ('congress', 1500),\n",
       " ('them', 1475),\n",
       " ('but', 1462),\n",
       " ('upon', 1455),\n",
       " ('would', 1381),\n",
       " ('public', 1375),\n",
       " ('such', 1340),\n",
       " ('other', 1269),\n",
       " ('these', 1208),\n",
       " ('any', 1171),\n",
       " ('country', 1163),\n",
       " ('should', 1159)]"
      ]
     },
     "execution_count": 114,
     "metadata": {},
     "output_type": "execute_result"
    }
   ],
   "source": [
    "# Creating a frequency distribution of words\n",
    "fdist1 = nltk.FreqDist(words1)\n",
    "# print the top 50 tokens by frequency\n",
    "fdist1.most_common(50)"
   ]
  },
  {
   "cell_type": "code",
   "execution_count": 115,
   "metadata": {},
   "outputs": [],
   "source": [
    "## list the top 50 bigrams by frequencies\n",
    "bigrams1=list(nltk.bigrams(words1))"
   ]
  },
  {
   "cell_type": "code",
   "execution_count": 116,
   "metadata": {},
   "outputs": [],
   "source": [
    "# setup for bigrams and bigram measures\n",
    "# from nltk.collocations import *\n",
    "bigram_measures = nltk.collocations.BigramAssocMeasures()"
   ]
  },
  {
   "cell_type": "code",
   "execution_count": 119,
   "metadata": {},
   "outputs": [
    {
     "data": {
      "text/plain": [
       "[(('of', 'the'), 0.023139252704378124),\n",
       " (('to', 'the'), 0.007783594908345917),\n",
       " (('in', 'the'), 0.006009076290590155),\n",
       " (('by', 'the'), 0.00399560483468185),\n",
       " (('for', 'the'), 0.0036783068036924087),\n",
       " (('united', 'states'), 0.0035686235337207503),\n",
       " (('the', 'united'), 0.003543161346048758),\n",
       " (('and', 'the'), 0.0033061671377171385),\n",
       " (('on', 'the'), 0.0032160701659547045),\n",
       " (('of', 'our'), 0.0030887592275947438),\n",
       " (('it', 'is'), 0.0028635167981886592),\n",
       " (('to', 'be'), 0.0028615581683677366),\n",
       " (('have', 'been'), 0.0026284812196779622),\n",
       " (('with', 'the'), 0.002505087540959846),\n",
       " (('that', 'the'), 0.002450245905974017),\n",
       " (('has', 'been'), 0.0024189078288392573),\n",
       " (('from', 'the'), 0.0021388237644473433),\n",
       " (('of', 'a'), 0.0019096640753994136),\n",
       " (('the', 'public'), 0.00179606354578591),\n",
       " (('will', 'be'), 0.001680504386351484),\n",
       " (('the', 'government'), 0.0016452490495748795),\n",
       " (('at', 'the'), 0.0015042277024684611),\n",
       " (('may', 'be'), 0.001306406090555291),\n",
       " (('of', 'congress'), 0.0012672334941368417),\n",
       " (('and', 'to'), 0.0012300195275393147),\n",
       " (('upon', 'the'), 0.001120336257567656),\n",
       " (('of', 'this'), 0.0011046672190002762),\n",
       " (('of', 'their'), 0.0011007499593584313),\n",
       " (('the', 'same'), 0.0011007499593584313),\n",
       " (('the', 'present'), 0.0010889981804328964),\n",
       " (('the', 'people'), 0.0010086943577750748),\n",
       " (('between', 'the'), 0.0009949839490286175),\n",
       " (('all', 'the'), 0.0009832321701030828),\n",
       " (('in', 'a'), 0.0009812735402821601),\n",
       " (('state', 'of'), 0.0009773562806403152),\n",
       " (('under', 'the'), 0.0009695217613566254),\n",
       " (('the', 'country'), 0.000959728612252013),\n",
       " (('which', 'the'), 0.000955811352610168),\n",
       " (('of', 'that'), 0.0009538527227892456),\n",
       " (('the', 'union'), 0.0009479768333264781),\n",
       " (('should', 'be'), 0.0009342664245800208),\n",
       " (('it', 'was'), 0.0009283905351172534),\n",
       " (('the', 'treasury'), 0.0009264319052963309),\n",
       " (('would', 'be'), 0.0008539626019221994),\n",
       " (('the', 'last'), 0.0008480867124594319),\n",
       " (('part', 'of'), 0.0008382935633548195),\n",
       " (('the', 'constitution'), 0.000836334933533897),\n",
       " (('can', 'not'), 0.0008147900055037498),\n",
       " (('the', 'most'), 0.0008128313756828274),\n",
       " (('and', 'of'), 0.0007971623371154476)]"
      ]
     },
     "execution_count": 119,
     "metadata": {},
     "output_type": "execute_result"
    }
   ],
   "source": [
    "# create the bigram finder and score the bigrams by frequency\n",
    "# scored is a list of bigram pairs with their score\n",
    "finder1 = BigramCollocationFinder.from_words(words1)\n",
    "scored1 = finder1.score_ngrams(bigram_measures.raw_freq)\n",
    "scored1[:50]"
   ]
  },
  {
   "cell_type": "code",
   "execution_count": 120,
   "metadata": {},
   "outputs": [
    {
     "data": {
      "text/plain": [
       "[(('bona', 'fide'), 16.63979571898761),\n",
       " (('posse', 'comitatus'), 16.63979571898761),\n",
       " (('punta', 'arenas'), 16.63979571898761),\n",
       " (('ballot', 'box'), 16.376761313153814),\n",
       " (('del', 'norte'), 16.376761313153814),\n",
       " (('millard', 'fillmore'), 16.376761313153814),\n",
       " (('guadalupe', 'hidalgo'), 15.79179881243266),\n",
       " (('porto', 'rico'), 15.79179881243266),\n",
       " (('franklin', 'pierce'), 15.63979571898761),\n",
       " (('la', 'plata'), 15.502292195237674),\n",
       " (('vera', 'cruz'), 15.376761313153814),\n",
       " (('entangling', 'alliances'), 15.306371985262416),\n",
       " (('gun', 'boats'), 14.984443890375054),\n",
       " (('costa', 'rica'), 14.961723813874972),\n",
       " (('nucleus', 'around'), 14.961723813874972),\n",
       " (('santa', 'anna'), 14.874260972624633),\n",
       " (('santa', 'fe'), 14.874260972624633),\n",
       " (('van', 'buren'), 14.874260972624633),\n",
       " (('project', 'gutenberg'), 14.874260972624631),\n",
       " (('sublime', 'porte'), 14.832440796930005),\n",
       " (('martin', 'van'), 14.70433597118232),\n",
       " (('ad', 'valorem'), 14.639795718987608),\n",
       " (('beacons', 'buoys'), 14.502292195237674),\n",
       " (('water', 'witch'), 14.502292195237674),\n",
       " (('quincy', 'adams'), 14.502292195237672),\n",
       " (('statute', 'book'), 14.43816185781796),\n",
       " (('buenos', 'ayres'), 14.376761313153816),\n",
       " (('de', 'facto'), 14.228369473261143),\n",
       " (('franking', 'privilege'), 14.206836311711502),\n",
       " (('rocky', 'mountains'), 14.15436889181737),\n",
       " (('andrew', 'jackson'), 14.071906731625393),\n",
       " (('retired', 'list'), 14.016865368067432),\n",
       " (('circulating', 'medium'), 13.917329694516518),\n",
       " (('th', 'jefferson'), 13.874260972624633),\n",
       " (('john', 'quincy'), 13.874260972624631),\n",
       " (('precious', 'metals'), 13.815367283571065),\n",
       " (('thomas', 'jefferson'), 13.786798131374292),\n",
       " (('lake', 'erie'), 13.732905123379092),\n",
       " (('almighty', 'god'), 13.70433597118232),\n",
       " (('john', 'tyler'), 13.70433597118232),\n",
       " (('san', 'jacinto'), 13.676321595012723),\n",
       " (('san', 'juan'), 13.676321595012723),\n",
       " (('san', 'francisco'), 13.676321595012721),\n",
       " (('per', 'cent'), 13.60417180925689),\n",
       " (('rio', 'grande'), 13.569406391096214),\n",
       " (('inferior', 'quality'), 13.495749349370902),\n",
       " (('grateful', 'acknowledgments'), 13.469870717545295),\n",
       " (('hudsons', 'bay'), 13.407134962197334),\n",
       " (('cumberland', 'road'), 13.245516779875564),\n",
       " (('cut', 'off'), 13.180364100350312)]"
      ]
     },
     "execution_count": 120,
     "metadata": {},
     "output_type": "execute_result"
    }
   ],
   "source": [
    "## list the top 50 bigrams by their Mutual Information scores (using min frequency 5)\n",
    "finder11 = BigramCollocationFinder.from_words(words1)\n",
    "finder11.apply_freq_filter(5)\n",
    "scored11 = finder11.score_ngrams(bigram_measures.pmi)\n",
    "scored11[:50]"
   ]
  },
  {
   "cell_type": "code",
   "execution_count": null,
   "metadata": {},
   "outputs": [],
   "source": [
    "### use all lower case, use the stop word list"
   ]
  },
  {
   "cell_type": "code",
   "execution_count": 121,
   "metadata": {},
   "outputs": [
    {
     "name": "stdout",
     "output_type": "stream",
     "text": [
      "179\n"
     ]
    },
    {
     "data": {
      "text/plain": [
       "['i',\n",
       " 'me',\n",
       " 'my',\n",
       " 'myself',\n",
       " 'we',\n",
       " 'our',\n",
       " 'ours',\n",
       " 'ourselves',\n",
       " 'you',\n",
       " \"you're\",\n",
       " \"you've\",\n",
       " \"you'll\",\n",
       " \"you'd\",\n",
       " 'your',\n",
       " 'yours',\n",
       " 'yourself',\n",
       " 'yourselves',\n",
       " 'he',\n",
       " 'him',\n",
       " 'his',\n",
       " 'himself',\n",
       " 'she',\n",
       " \"she's\",\n",
       " 'her',\n",
       " 'hers',\n",
       " 'herself',\n",
       " 'it',\n",
       " \"it's\",\n",
       " 'its',\n",
       " 'itself']"
      ]
     },
     "execution_count": 121,
     "metadata": {},
     "output_type": "execute_result"
    }
   ],
   "source": [
    "# get a list of stopwords from nltk\n",
    "from nltk.corpus import *\n",
    "nltkstopwords = nltk.corpus.stopwords.words('english')\n",
    "print(len(nltkstopwords))\n",
    "nltkstopwords[:30]"
   ]
  },
  {
   "cell_type": "code",
   "execution_count": 122,
   "metadata": {},
   "outputs": [
    {
     "data": {
      "text/plain": [
       "11461"
      ]
     },
     "execution_count": 122,
     "metadata": {},
     "output_type": "execute_result"
    }
   ],
   "source": [
    "# remove all the stop words from text1\n",
    "stoppedsup1words = [w for w in words1 if not w in nltkstopwords]\n",
    "len(set(stoppedsup1words))"
   ]
  },
  {
   "cell_type": "code",
   "execution_count": 14,
   "metadata": {},
   "outputs": [],
   "source": [
    "## list the top 50 words by frequency"
   ]
  },
  {
   "cell_type": "code",
   "execution_count": 123,
   "metadata": {},
   "outputs": [
    {
     "data": {
      "text/plain": [
       "[('states', 2725),\n",
       " ('government', 2220),\n",
       " ('united', 1864),\n",
       " ('may', 1562),\n",
       " ('congress', 1500),\n",
       " ('upon', 1455),\n",
       " ('would', 1381),\n",
       " ('public', 1375),\n",
       " ('country', 1163),\n",
       " ('great', 1073),\n",
       " ('made', 1061),\n",
       " ('state', 1045),\n",
       " ('last', 911),\n",
       " ('war', 834),\n",
       " ('present', 812),\n",
       " ('time', 808),\n",
       " ('people', 786),\n",
       " ('year', 785),\n",
       " ('power', 744),\n",
       " ('citizens', 723),\n",
       " ('subject', 711),\n",
       " ('shall', 694),\n",
       " ('without', 663),\n",
       " ('union', 643),\n",
       " ('act', 627),\n",
       " ('treaty', 624),\n",
       " ('one', 620),\n",
       " ('part', 618),\n",
       " ('mexico', 605),\n",
       " ('general', 601),\n",
       " ('every', 590),\n",
       " ('treasury', 590),\n",
       " ('necessary', 575),\n",
       " ('constitution', 557),\n",
       " ('new', 548),\n",
       " ('duty', 529),\n",
       " ('foreign', 519),\n",
       " ('two', 510),\n",
       " ('commerce', 506),\n",
       " ('nations', 502),\n",
       " ('peace', 501),\n",
       " ('system', 494),\n",
       " ('laws', 492),\n",
       " ('duties', 488),\n",
       " ('within', 479),\n",
       " ('law', 477),\n",
       " ('us', 463),\n",
       " ('interests', 451),\n",
       " ('interest', 444),\n",
       " ('amount', 443)]"
      ]
     },
     "execution_count": 123,
     "metadata": {},
     "output_type": "execute_result"
    }
   ],
   "source": [
    "# Creating a frequency distribution of words\n",
    "fdist1stoppedsup1words = nltk.FreqDist(stoppedsup1words)\n",
    "# print the top 50 tokens by frequency\n",
    "fdist1stoppedsup1words.most_common(50)"
   ]
  },
  {
   "cell_type": "code",
   "execution_count": 124,
   "metadata": {},
   "outputs": [],
   "source": [
    "## list the top 50 bigrams by frequencies\n",
    "bigrams1stoppedsup1words=list(nltk.bigrams(stoppedsup1words))"
   ]
  },
  {
   "cell_type": "code",
   "execution_count": 125,
   "metadata": {},
   "outputs": [],
   "source": [
    "# create the bigram finder and score the bigrams by frequency\n",
    "# scored is a list of bigram pairs with their score\n",
    "finder1stoppedsup1words = BigramCollocationFinder.from_words(stoppedsup1words)\n",
    "scored1stoppedsup1words = finder1stoppedsup1words.score_ngrams(bigram_measures.raw_freq)"
   ]
  },
  {
   "cell_type": "code",
   "execution_count": 126,
   "metadata": {
    "scrolled": true
   },
   "outputs": [
    {
     "data": {
      "text/plain": [
       "[(('united', 'states'), 0.007648905979748451),\n",
       " (('great', 'britain'), 0.0011502745545834663),\n",
       " (('last', 'session'), 0.0010159359204715286),\n",
       " (('public', 'debt'), 0.0007514567345636513),\n",
       " (('state', 'union'), 0.0007262682406676631),\n",
       " (('house', 'representatives'), 0.0006213161827677117),\n",
       " (('fiscal', 'year'), 0.0006045238535037195),\n",
       " (('union', 'address'), 0.0006045238535037195),\n",
       " (('report', 'secretary'), 0.0005835334419237293),\n",
       " (('public', 'lands'), 0.0005457507010797468),\n",
       " (('two', 'countries'), 0.0005121660425517623),\n",
       " (('present', 'year'), 0.0004449967254957935),\n",
       " (('within', 'limits'), 0.00041980823159980523),\n",
       " (('secretary', 'treasury'), 0.00041561014928380717),\n",
       " (('fellow', 'citizens'), 0.00040721398465181106),\n",
       " (('session', 'congress'), 0.00040721398465181106),\n",
       " (('act', 'congress'), 0.0003946197377038169),\n",
       " (('general', 'government'), 0.00039042165538781884),\n",
       " (('year', 'ending'), 0.00039042165538781884),\n",
       " (('british', 'government'), 0.0003862235730718208),\n",
       " (('two', 'governments'), 0.0003736293261238266),\n",
       " (('citizens', 'united'), 0.0003610350791758325),\n",
       " (('federal', 'government'), 0.00035683699685983445),\n",
       " (('secretary', 'war'), 0.0003526389145438364),\n",
       " (('annual', 'message'), 0.0003400446675958422),\n",
       " (('public', 'service'), 0.00033584658527984417),\n",
       " (('senate', 'house'), 0.00033584658527984417),\n",
       " (('consideration', 'congress'), 0.00032325233833185),\n",
       " (('ending', 'june'), 0.0003148561736998539),\n",
       " (('last', 'annual'), 0.0003148561736998539),\n",
       " (('attention', 'congress'), 0.00031065809138385584),\n",
       " (('government', 'united'), 0.0003064600090678578),\n",
       " (('public', 'money'), 0.0002896676798038656),\n",
       " (('indian', 'tribes'), 0.00027707343285587145),\n",
       " (('mexican', 'government'), 0.0002728753505398734),\n",
       " (('part', 'united'), 0.0002728753505398734),\n",
       " (('treasury', 'notes'), 0.0002728753505398734),\n",
       " (('upon', 'subject'), 0.00026867726822387534),\n",
       " (('commercial', 'intercourse'), 0.0002644791859078773),\n",
       " (('several', 'states'), 0.0002644791859078773),\n",
       " (('secretary', 'state'), 0.0002602811035918792),\n",
       " (('provision', 'made'), 0.00024768685664388506),\n",
       " (('article', 'treaty'), 0.00023929069201188898),\n",
       " (('claims', 'citizens'), 0.00023929069201188898),\n",
       " (('address', 'december'), 0.00023509260969589092),\n",
       " (('new', 'mexico'), 0.00023509260969589092),\n",
       " (('favorable', 'consideration'), 0.00023089452737989286),\n",
       " (('naval', 'force'), 0.00023089452737989286),\n",
       " (('bank', 'united'), 0.0002266964450638948),\n",
       " (('people', 'united'), 0.0002266964450638948)]"
      ]
     },
     "execution_count": 126,
     "metadata": {},
     "output_type": "execute_result"
    }
   ],
   "source": [
    "scored1stoppedsup1words[:50]"
   ]
  },
  {
   "cell_type": "code",
   "execution_count": 127,
   "metadata": {},
   "outputs": [
    {
     "data": {
      "text/plain": [
       "[(('bona', 'fide'), 15.539910019165042),\n",
       " (('posse', 'comitatus'), 15.539910019165042),\n",
       " (('punta', 'arenas'), 15.539910019165042),\n",
       " (('ballot', 'box'), 15.276875613331246),\n",
       " (('del', 'norte'), 15.276875613331246),\n",
       " (('millard', 'fillmore'), 15.276875613331246),\n",
       " (('clayton', 'bulwer'), 14.861838114052404),\n",
       " (('guadalupe', 'hidalgo'), 14.691913112610091),\n",
       " (('porto', 'rico'), 14.691913112610091),\n",
       " (('writ', 'mandamus'), 14.598803708218608),\n",
       " (('franklin', 'pierce'), 14.539910019165042),\n",
       " (('la', 'plata'), 14.402406495415105),\n",
       " (('vera', 'cruz'), 14.276875613331246),\n",
       " (('entangling', 'alliances'), 14.206486285439848),\n",
       " (('seminaries', 'learning'), 14.013841207497453),\n",
       " (('gun', 'boats'), 13.884558190552486),\n",
       " (('nucleus', 'around'), 13.861838114052404),\n",
       " (('ruler', 'universe'), 13.861838114052404),\n",
       " (('costa', 'rica'), 13.8618381140524),\n",
       " (('santa', 'anna'), 13.774375272802065),\n",
       " (('santa', 'fe'), 13.774375272802065),\n",
       " (('van', 'buren'), 13.774375272802065),\n",
       " (('project', 'gutenberg'), 13.774375272802063),\n",
       " (('sublime', 'porte'), 13.732555097107436),\n",
       " (('tea', 'coffee'), 13.613910600608818),\n",
       " (('martin', 'van'), 13.604450271359752),\n",
       " (('ad', 'valorem'), 13.53991001916504),\n",
       " (('beacons', 'buoys'), 13.402406495415105),\n",
       " (('water', 'witch'), 13.402406495415105),\n",
       " (('quincy', 'adams'), 13.402406495415104),\n",
       " (('statute', 'book'), 13.338276157995391),\n",
       " (('buenos', 'ayres'), 13.276875613331244),\n",
       " (('indiana', 'illinois'), 13.139372089581311),\n",
       " (('de', 'facto'), 13.128483773438575),\n",
       " (('franking', 'privilege'), 13.106950611888934),\n",
       " (('rocky', 'mountains'), 13.054483191994798),\n",
       " (('andrew', 'jackson'), 12.972021031802825),\n",
       " (('retired', 'list'), 12.916979668244863),\n",
       " (('sooner', 'later'), 12.876945006442611),\n",
       " (('circulating', 'medium'), 12.81744399469395),\n",
       " (('intent', 'meaning'), 12.798828316526604),\n",
       " (('th', 'jefferson'), 12.774375272802065),\n",
       " (('john', 'quincy'), 12.774375272802063),\n",
       " (('precious', 'metals'), 12.715481583748494),\n",
       " (('thomas', 'jefferson'), 12.686912431551724),\n",
       " (('lake', 'erie'), 12.633019423556524),\n",
       " (('almighty', 'god'), 12.604450271359752),\n",
       " (('john', 'tyler'), 12.604450271359752),\n",
       " (('san', 'jacinto'), 12.576435895190155),\n",
       " (('san', 'juan'), 12.576435895190155)]"
      ]
     },
     "execution_count": 127,
     "metadata": {},
     "output_type": "execute_result"
    }
   ],
   "source": [
    "# list the top 50 bigrams by their Mutual Information scores (using min frequency 5)\n",
    "finder11stoppedsup1words = BigramCollocationFinder.from_words(stoppedsup1words)\n",
    "finder11stoppedsup1words.apply_freq_filter(5)\n",
    "scored11stoppedsup1words = finder11stoppedsup1words.score_ngrams(bigram_measures.pmi)\n",
    "scored11stoppedsup1words[:50]"
   ]
  },
  {
   "cell_type": "code",
   "execution_count": null,
   "metadata": {},
   "outputs": [],
   "source": [
    "### use all lower case, use the stop word list, and lemmatization"
   ]
  },
  {
   "cell_type": "code",
   "execution_count": 128,
   "metadata": {},
   "outputs": [],
   "source": [
    "# NLTK has a lemmatizer that uses WordNet as a dictionary\n",
    "wnl = nltk.WordNetLemmatizer()"
   ]
  },
  {
   "cell_type": "code",
   "execution_count": 129,
   "metadata": {
    "scrolled": true
   },
   "outputs": [
    {
     "data": {
      "text/plain": [
       "['project',\n",
       " 'gutenberg',\n",
       " 'ebook',\n",
       " 'complete',\n",
       " 'state',\n",
       " 'union',\n",
       " 'address',\n",
       " 'present',\n",
       " 'series',\n",
       " 'u',\n",
       " 'presidential',\n",
       " 'state',\n",
       " 'union',\n",
       " 'address',\n",
       " 'copyright',\n",
       " 'law',\n",
       " 'changing',\n",
       " 'world',\n",
       " 'sure',\n",
       " 'check',\n",
       " 'copyright',\n",
       " 'law',\n",
       " 'country',\n",
       " 'downloading',\n",
       " 'redistributing',\n",
       " 'project',\n",
       " 'gutenberg',\n",
       " 'ebook',\n",
       " 'header',\n",
       " 'first']"
      ]
     },
     "execution_count": 129,
     "metadata": {},
     "output_type": "execute_result"
    }
   ],
   "source": [
    "Lemmasup1words = [wnl.lemmatize(t) for t in stoppedsup1words]\n",
    "Lemmasup1words[:30]"
   ]
  },
  {
   "cell_type": "code",
   "execution_count": 14,
   "metadata": {},
   "outputs": [],
   "source": [
    "## list the top 50 words by frequency"
   ]
  },
  {
   "cell_type": "code",
   "execution_count": 130,
   "metadata": {},
   "outputs": [
    {
     "data": {
      "text/plain": [
       "[('state', 3770),\n",
       " ('government', 2561),\n",
       " ('united', 1864),\n",
       " ('may', 1562),\n",
       " ('congress', 1501),\n",
       " ('upon', 1455),\n",
       " ('country', 1427),\n",
       " ('would', 1381),\n",
       " ('public', 1375),\n",
       " ('power', 1159),\n",
       " ('year', 1145),\n",
       " ('great', 1073),\n",
       " ('made', 1061),\n",
       " ('duty', 1017),\n",
       " ('law', 969),\n",
       " ('time', 914),\n",
       " ('last', 911),\n",
       " ('war', 898),\n",
       " ('interest', 895),\n",
       " ('subject', 888),\n",
       " ('present', 852),\n",
       " ('nation', 830),\n",
       " ('act', 807),\n",
       " ('citizen', 801),\n",
       " ('people', 786),\n",
       " ('treaty', 748),\n",
       " ('part', 741),\n",
       " ('shall', 694),\n",
       " ('without', 663),\n",
       " ('union', 643),\n",
       " ('right', 636),\n",
       " ('one', 634),\n",
       " ('general', 605),\n",
       " ('mexico', 605),\n",
       " ('treasury', 592),\n",
       " ('every', 590),\n",
       " ('necessary', 585),\n",
       " ('constitution', 570),\n",
       " ('territory', 562),\n",
       " ('new', 548),\n",
       " ('object', 532),\n",
       " ('foreign', 519),\n",
       " ('measure', 512),\n",
       " ('two', 510),\n",
       " ('system', 509),\n",
       " ('commerce', 506),\n",
       " ('peace', 501),\n",
       " ('consideration', 493),\n",
       " ('within', 479),\n",
       " ('service', 479)]"
      ]
     },
     "execution_count": 130,
     "metadata": {},
     "output_type": "execute_result"
    }
   ],
   "source": [
    "# Creating a frequency distribution of words\n",
    "fdist1Lemmasup1words = nltk.FreqDist(Lemmasup1words)\n",
    "# print the top 50 tokens by frequency\n",
    "fdist1Lemmasup1words.most_common(50)"
   ]
  },
  {
   "cell_type": "code",
   "execution_count": 136,
   "metadata": {},
   "outputs": [],
   "source": [
    "## list the top 50 bigrams by frequencies\n",
    "bigrams1Lemmasup1words=list(nltk.bigrams(Lemmasup1words))"
   ]
  },
  {
   "cell_type": "code",
   "execution_count": 148,
   "metadata": {},
   "outputs": [
    {
     "data": {
      "text/plain": [
       "[(('united', 'state'), 0.007653104062064449),\n",
       " (('great', 'britain'), 0.0011502745545834663),\n",
       " (('last', 'session'), 0.0010243320851035247),\n",
       " (('state', 'union'), 0.000885795368675589),\n",
       " (('public', 'debt'), 0.0007598528991956474),\n",
       " (('house', 'representative'), 0.0006213161827677117),\n",
       " (('union', 'address'), 0.0006213161827677117),\n",
       " (('report', 'secretary'), 0.0006171181004517136),\n",
       " (('fiscal', 'year'), 0.0006087219358197175),\n",
       " (('public', 'land'), 0.000562543030343739),\n",
       " (('act', 'congress'), 0.0005121660425517623),\n",
       " (('two', 'country'), 0.0005121660425517623),\n",
       " (('present', 'year'), 0.00044919480781179156),\n",
       " (('within', 'limit'), 0.00044079864317979545),\n",
       " (('public', 'money'), 0.0004366005608637974),\n",
       " (('session', 'congress'), 0.00043240247854779934),\n",
       " (('secretary', 'treasury'), 0.00041561014928380717),\n",
       " (('fellow', 'citizen'), 0.00040721398465181106),\n",
       " (('general', 'government'), 0.000403015902335813),\n",
       " (('british', 'government'), 0.00039042165538781884),\n",
       " (('secretary', 'war'), 0.00039042165538781884),\n",
       " (('year', 'ending'), 0.00039042165538781884),\n",
       " (('citizen', 'united'), 0.00037782740843982467),\n",
       " (('two', 'government'), 0.0003736293261238266),\n",
       " (('federal', 'government'), 0.0003652331614918305),\n",
       " (('annual', 'message'), 0.00035683699685983445),\n",
       " (('public', 'service'), 0.00033584658527984417),\n",
       " (('senate', 'house'), 0.00033584658527984417),\n",
       " (('consideration', 'congress'), 0.0003316485029638461),\n",
       " (('ending', 'june'), 0.0003148561736998539),\n",
       " (('last', 'annual'), 0.0003148561736998539),\n",
       " (('attention', 'congress'), 0.00031065809138385584),\n",
       " (('government', 'united'), 0.0003064600090678578),\n",
       " (('part', 'united'), 0.0002896676798038656),\n",
       " (('upon', 'subject'), 0.00028546959748786756),\n",
       " (('indian', 'tribe'), 0.00027707343285587145),\n",
       " (('mexican', 'government'), 0.00027707343285587145),\n",
       " (('naval', 'force'), 0.00027707343285587145),\n",
       " (('several', 'state'), 0.0002728753505398734),\n",
       " (('treasury', 'note'), 0.0002728753505398734),\n",
       " (('article', 'treaty'), 0.0002644791859078773),\n",
       " (('commercial', 'intercourse'), 0.0002644791859078773),\n",
       " (('state', 'would'), 0.0002644791859078773),\n",
       " (('secretary', 'state'), 0.0002602811035918792),\n",
       " (('provision', 'made'), 0.00025608302127588117),\n",
       " (('american', 'citizen'), 0.00024768685664388506),\n",
       " (('claim', 'citizen'), 0.00024768685664388506),\n",
       " (('public', 'interest'), 0.00024768685664388506),\n",
       " (('state', 'government'), 0.00024348877432788703),\n",
       " (('foreign', 'power'), 0.00023929069201188898)]"
      ]
     },
     "execution_count": 148,
     "metadata": {},
     "output_type": "execute_result"
    }
   ],
   "source": [
    "# create the bigram finder and score the bigrams by frequency\n",
    "# scored is a list of bigram pairs with their score\n",
    "finder1Lemmasup1words = BigramCollocationFinder.from_words(Lemmasup1words)\n",
    "scored1Lemmasup1words = finder1Lemmasup1words.score_ngrams(bigram_measures.raw_freq)\n",
    "scored1Lemmasup1words[:50]"
   ]
  },
  {
   "cell_type": "code",
   "execution_count": 149,
   "metadata": {},
   "outputs": [
    {
     "data": {
      "text/plain": [
       "[(('bona', 'fide'), 15.539910019165042),\n",
       " (('del', 'norte'), 15.276875613331246),\n",
       " (('millard', 'fillmore'), 15.276875613331246),\n",
       " (('punta', 'arena'), 15.276875613331246),\n",
       " (('ballot', 'box'), 15.054483191994798),\n",
       " (('clayton', 'bulwer'), 14.861838114052404),\n",
       " (('guadalupe', 'hidalgo'), 14.691913112610091),\n",
       " (('porto', 'rico'), 14.691913112610091),\n",
       " (('writ', 'mandamus'), 14.598803708218608),\n",
       " (('franklin', 'pierce'), 14.539910019165042),\n",
       " (('la', 'plata'), 14.402406495415105),\n",
       " (('vera', 'cruz'), 14.276875613331246),\n",
       " (('entangling', 'alliance'), 14.054483191994798),\n",
       " (('seminary', 'learning'), 14.0398364160304),\n",
       " (('nucleus', 'around'), 13.861838114052404),\n",
       " (('costa', 'rica'), 13.8618381140524),\n",
       " (('santa', 'anna'), 13.774375272802065),\n",
       " (('santa', 'fe'), 13.774375272802065),\n",
       " (('van', 'buren'), 13.774375272802065),\n",
       " (('sublime', 'porte'), 13.732555097107436),\n",
       " (('tea', 'coffee'), 13.613910600608818),\n",
       " (('martin', 'van'), 13.604450271359752),\n",
       " (('ad', 'valorem'), 13.53991001916504),\n",
       " (('quincy', 'adam'), 13.402406495415104),\n",
       " (('buenos', 'ayres'), 13.276875613331244),\n",
       " (('beacon', 'buoy'), 13.264902971665169),\n",
       " (('ruler', 'universe'), 13.198873101329973),\n",
       " (('indiana', 'illinois'), 13.139372089581311),\n",
       " (('de', 'facto'), 13.128483773438575),\n",
       " (('project', 'gutenberg'), 13.106950611888934),\n",
       " (('gun', 'boat'), 12.991473394468999),\n",
       " (('andrew', 'jackson'), 12.972021031802825),\n",
       " (('sooner', 'later'), 12.876945006442611),\n",
       " (('retired', 'list'), 12.852849330825148),\n",
       " (('circulating', 'medium'), 12.81744399469395),\n",
       " (('rocky', 'mountain'), 12.81744399469395),\n",
       " (('intent', 'meaning'), 12.798828316526604),\n",
       " (('th', 'jefferson'), 12.774375272802065),\n",
       " (('john', 'quincy'), 12.774375272802063),\n",
       " (('thomas', 'jefferson'), 12.686912431551724),\n",
       " (('precious', 'metal'), 12.616833995815583),\n",
       " (('almighty', 'god'), 12.604450271359752),\n",
       " (('john', 'tyler'), 12.604450271359752),\n",
       " (('san', 'jacinto'), 12.576435895190155),\n",
       " (('san', 'juan'), 12.576435895190155),\n",
       " (('san', 'francisco'), 12.576435895190153),\n",
       " (('seizure', 'confiscation'), 12.539910019165044),\n",
       " (('rio', 'grande'), 12.435573359350302),\n",
       " (('effusion', 'blood'), 12.38935034258966),\n",
       " (('inferior', 'quality'), 12.091009068019913)]"
      ]
     },
     "execution_count": 149,
     "metadata": {},
     "output_type": "execute_result"
    }
   ],
   "source": [
    "## list the top 50 bigrams by their Mutual Information scores (using min frequency 5)\n",
    "finder11Lemmasup1words = BigramCollocationFinder.from_words(Lemmasup1words)\n",
    "finder11Lemmasup1words.apply_freq_filter(5)\n",
    "scored11Lemmasup1words = finder11Lemmasup1words.score_ngrams(bigram_measures.pmi)\n",
    "scored11Lemmasup1words[:50]"
   ]
  },
  {
   "cell_type": "code",
   "execution_count": 139,
   "metadata": {},
   "outputs": [],
   "source": [
    "### Lowercase + Punctuation Removed + Stop Words Removed + Self-defined Stop Words Removed+ Lemmatization\n",
    "#self define more stop words \n",
    "morestopwords = ['would',\"upon\",\"shall\"]"
   ]
  },
  {
   "cell_type": "code",
   "execution_count": 140,
   "metadata": {},
   "outputs": [
    {
     "data": {
      "text/plain": [
       "182"
      ]
     },
     "execution_count": 140,
     "metadata": {},
     "output_type": "execute_result"
    }
   ],
   "source": [
    "stopwords = nltkstopwords + morestopwords\n",
    "len(stopwords)"
   ]
  },
  {
   "cell_type": "code",
   "execution_count": 141,
   "metadata": {},
   "outputs": [
    {
     "data": {
      "text/plain": [
       "11458"
      ]
     },
     "execution_count": 141,
     "metadata": {},
     "output_type": "execute_result"
    }
   ],
   "source": [
    "# remove all the stop words from text1\n",
    "morestoppedsup1words = [w for w in words1 if not w in stopwords]\n",
    "len(set(morestoppedsup1words))"
   ]
  },
  {
   "cell_type": "code",
   "execution_count": 142,
   "metadata": {
    "scrolled": true
   },
   "outputs": [
    {
     "data": {
      "text/plain": [
       "['project',\n",
       " 'gutenberg',\n",
       " 'ebook',\n",
       " 'complete',\n",
       " 'state',\n",
       " 'union',\n",
       " 'address',\n",
       " 'present',\n",
       " 'series',\n",
       " 'u',\n",
       " 'presidential',\n",
       " 'state',\n",
       " 'union',\n",
       " 'address',\n",
       " 'copyright',\n",
       " 'law',\n",
       " 'changing',\n",
       " 'world',\n",
       " 'sure',\n",
       " 'check',\n",
       " 'copyright',\n",
       " 'law',\n",
       " 'country',\n",
       " 'downloading',\n",
       " 'redistributing',\n",
       " 'project',\n",
       " 'gutenberg',\n",
       " 'ebook',\n",
       " 'header',\n",
       " 'first']"
      ]
     },
     "execution_count": 142,
     "metadata": {},
     "output_type": "execute_result"
    }
   ],
   "source": [
    "moreLemmasup1words = [wnl.lemmatize(t) for t in morestoppedsup1words]\n",
    "moreLemmasup1words[:30]"
   ]
  },
  {
   "cell_type": "code",
   "execution_count": 14,
   "metadata": {},
   "outputs": [],
   "source": [
    "## list the top 50 words by frequency"
   ]
  },
  {
   "cell_type": "code",
   "execution_count": 143,
   "metadata": {},
   "outputs": [
    {
     "data": {
      "text/plain": [
       "[('state', 3770),\n",
       " ('government', 2561),\n",
       " ('united', 1864),\n",
       " ('may', 1562),\n",
       " ('congress', 1501),\n",
       " ('country', 1427),\n",
       " ('public', 1375),\n",
       " ('power', 1159),\n",
       " ('year', 1145),\n",
       " ('great', 1073),\n",
       " ('made', 1061),\n",
       " ('duty', 1017),\n",
       " ('law', 969),\n",
       " ('time', 914),\n",
       " ('last', 911),\n",
       " ('war', 898),\n",
       " ('interest', 895),\n",
       " ('subject', 888),\n",
       " ('present', 852),\n",
       " ('nation', 830),\n",
       " ('act', 807),\n",
       " ('citizen', 801),\n",
       " ('people', 786),\n",
       " ('treaty', 748),\n",
       " ('part', 741),\n",
       " ('without', 663),\n",
       " ('union', 643),\n",
       " ('right', 636),\n",
       " ('one', 634),\n",
       " ('general', 605),\n",
       " ('mexico', 605),\n",
       " ('treasury', 592),\n",
       " ('every', 590),\n",
       " ('necessary', 585),\n",
       " ('constitution', 570),\n",
       " ('territory', 562),\n",
       " ('new', 548),\n",
       " ('object', 532),\n",
       " ('foreign', 519),\n",
       " ('measure', 512),\n",
       " ('two', 510),\n",
       " ('system', 509),\n",
       " ('commerce', 506),\n",
       " ('peace', 501),\n",
       " ('consideration', 493),\n",
       " ('within', 479),\n",
       " ('service', 479),\n",
       " ('condition', 476),\n",
       " ('relation', 476),\n",
       " ('effect', 469)]"
      ]
     },
     "execution_count": 143,
     "metadata": {},
     "output_type": "execute_result"
    }
   ],
   "source": [
    "# Creating a frequency distribution of words\n",
    "fdist1moreLemmasup1words = nltk.FreqDist(moreLemmasup1words)\n",
    "# print the top 50 tokens by frequency\n",
    "fdist1moreLemmasup1words.most_common(50)"
   ]
  },
  {
   "cell_type": "code",
   "execution_count": 144,
   "metadata": {},
   "outputs": [],
   "source": [
    "## list the top 50 bigrams by frequencies\n",
    "bigrams1moreLemmasup1words=list(nltk.bigrams(moreLemmasup1words))"
   ]
  },
  {
   "cell_type": "code",
   "execution_count": 146,
   "metadata": {},
   "outputs": [
    {
     "data": {
      "text/plain": [
       "[(('united', 'state'), 0.007768223152117406),\n",
       " (('great', 'britain'), 0.0011675771495777121),\n",
       " (('last', 'session'), 0.0010397402353903714),\n",
       " (('state', 'union'), 0.0008991196297842965),\n",
       " (('public', 'debt'), 0.0007712827155969558),\n",
       " (('house', 'representative'), 0.0006306621099908809),\n",
       " (('union', 'address'), 0.0006306621099908809),\n",
       " (('report', 'secretary'), 0.0006264008795179696),\n",
       " (('fiscal', 'year'), 0.0006178784185721469),\n",
       " (('public', 'land'), 0.0005710048833701219),\n",
       " (('act', 'congress'), 0.0005198701176951857),\n",
       " (('two', 'country'), 0.0005198701176951857),\n",
       " (('present', 'year'), 0.0004559516606015153),\n",
       " (('within', 'limit'), 0.0004474291996556926),\n",
       " (('public', 'money'), 0.00044316796918278124),\n",
       " (('session', 'congress'), 0.0004389067387098699),\n",
       " (('secretary', 'treasury'), 0.00042186181681822443),\n",
       " (('fellow', 'citizen'), 0.00041333935587240173),\n",
       " (('general', 'government'), 0.0004090781253994904),\n",
       " (('british', 'government'), 0.0003962944339807563),\n",
       " (('secretary', 'war'), 0.0003962944339807563),\n",
       " (('year', 'ending'), 0.0003962944339807563),\n",
       " (('citizen', 'united'), 0.0003835107425620222),\n",
       " (('two', 'government'), 0.0003792495120891109),\n",
       " (('federal', 'government'), 0.0003707270511432881),\n",
       " (('annual', 'message'), 0.0003622045901974654),\n",
       " (('public', 'service'), 0.0003408984378329086),\n",
       " (('senate', 'house'), 0.0003408984378329086),\n",
       " (('consideration', 'congress'), 0.00033663720735999727),\n",
       " (('ending', 'june'), 0.00031959228546835186),\n",
       " (('last', 'annual'), 0.00031959228546835186),\n",
       " (('attention', 'congress'), 0.00031533105499544046),\n",
       " (('government', 'united'), 0.0003110698245225291),\n",
       " (('part', 'united'), 0.0002940249026308837),\n",
       " (('indian', 'tribe'), 0.0002812412112121496),\n",
       " (('mexican', 'government'), 0.0002812412112121496),\n",
       " (('naval', 'force'), 0.0002812412112121496),\n",
       " (('several', 'state'), 0.00027697998073923825),\n",
       " (('treasury', 'note'), 0.00027697998073923825),\n",
       " (('article', 'treaty'), 0.00026845751979341555),\n",
       " (('commercial', 'intercourse'), 0.00026845751979341555),\n",
       " (('provision', 'made'), 0.00026845751979341555),\n",
       " (('secretary', 'state'), 0.0002641962893205042),\n",
       " (('state', 'government'), 0.00025567382837468145),\n",
       " (('american', 'citizen'), 0.0002514125979017701),\n",
       " (('claim', 'citizen'), 0.0002514125979017701),\n",
       " (('public', 'interest'), 0.0002514125979017701),\n",
       " (('foreign', 'power'), 0.0002428901369559474),\n",
       " (('address', 'december'), 0.00023862890648303605),\n",
       " (('new', 'mexico'), 0.00023862890648303605)]"
      ]
     },
     "execution_count": 146,
     "metadata": {},
     "output_type": "execute_result"
    }
   ],
   "source": [
    "# create the bigram finder and score the bigrams by frequency\n",
    "# scored is a list of bigram pairs with their score\n",
    "finder1moreLemmasup1words = BigramCollocationFinder.from_words(moreLemmasup1words)\n",
    "scored1moreLemmasup1words = finder1moreLemmasup1words.score_ngrams(bigram_measures.raw_freq)\n",
    "scored1moreLemmasup1words[:50]"
   ]
  },
  {
   "cell_type": "code",
   "execution_count": 147,
   "metadata": {},
   "outputs": [
    {
     "data": {
      "text/plain": [
       "[(('bona', 'fide'), 15.518370391206467),\n",
       " (('del', 'norte'), 15.255335985372675),\n",
       " (('millard', 'fillmore'), 15.255335985372675),\n",
       " (('punta', 'arena'), 15.255335985372671),\n",
       " (('ballot', 'box'), 15.032943564036223),\n",
       " (('clayton', 'bulwer'), 14.840298486093833),\n",
       " (('guadalupe', 'hidalgo'), 14.670373484651517),\n",
       " (('porto', 'rico'), 14.670373484651517),\n",
       " (('writ', 'mandamus'), 14.577264080260033),\n",
       " (('franklin', 'pierce'), 14.51837039120647),\n",
       " (('la', 'plata'), 14.380866867456534),\n",
       " (('vera', 'cruz'), 14.255335985372675),\n",
       " (('entangling', 'alliance'), 14.032943564036227),\n",
       " (('seminary', 'learning'), 14.018296788071826),\n",
       " (('costa', 'rica'), 13.840298486093829),\n",
       " (('nucleus', 'around'), 13.840298486093829),\n",
       " (('santa', 'anna'), 13.75283564484349),\n",
       " (('santa', 'fe'), 13.75283564484349),\n",
       " (('van', 'buren'), 13.75283564484349),\n",
       " (('sublime', 'porte'), 13.711015469148865),\n",
       " (('tea', 'coffee'), 13.592370972650247),\n",
       " (('martin', 'van'), 13.582910643401181),\n",
       " (('ad', 'valorem'), 13.518370391206469),\n",
       " (('quincy', 'adam'), 13.380866867456533),\n",
       " (('buenos', 'ayres'), 13.255335985372673),\n",
       " (('beacon', 'buoy'), 13.243363343706594),\n",
       " (('ruler', 'universe'), 13.177333473371398),\n",
       " (('indiana', 'illinois'), 13.117832461622736),\n",
       " (('de', 'facto'), 13.10694414548),\n",
       " (('project', 'gutenberg'), 13.085410983930363),\n",
       " (('gun', 'boat'), 12.969933766510428),\n",
       " (('andrew', 'jackson'), 12.95048140384425),\n",
       " (('sooner', 'later'), 12.85540537848404),\n",
       " (('retired', 'list'), 12.831309702866573),\n",
       " (('circulating', 'medium'), 12.795904366735378),\n",
       " (('rocky', 'mountain'), 12.795904366735378),\n",
       " (('intent', 'meaning'), 12.77728868856803),\n",
       " (('john', 'quincy'), 12.752835644843492),\n",
       " (('th', 'jefferson'), 12.75283564484349),\n",
       " (('thomas', 'jefferson'), 12.665372803593149),\n",
       " (('precious', 'metal'), 12.595294367857012),\n",
       " (('almighty', 'god'), 12.582910643401181),\n",
       " (('john', 'tyler'), 12.582910643401181),\n",
       " (('san', 'francisco'), 12.554896267231582),\n",
       " (('san', 'jacinto'), 12.55489626723158),\n",
       " (('san', 'juan'), 12.55489626723158),\n",
       " (('seizure', 'confiscation'), 12.518370391206469),\n",
       " (('rio', 'grande'), 12.414033731391731),\n",
       " (('effusion', 'blood'), 12.367810714631089),\n",
       " (('inferior', 'quality'), 12.069469440061338)]"
      ]
     },
     "execution_count": 147,
     "metadata": {},
     "output_type": "execute_result"
    }
   ],
   "source": [
    "# list the top 50 bigrams by their Mutual Information scores (using min frequency 5)\n",
    "finder11moreLemmasup1words = BigramCollocationFinder.from_words(moreLemmasup1words)\n",
    "finder11moreLemmasup1words.apply_freq_filter(5)\n",
    "scored11moreLemmasup1words = finder11moreLemmasup1words.score_ngrams(bigram_measures.pmi)\n",
    "scored11moreLemmasup1words[:50]"
   ]
  },
  {
   "cell_type": "code",
   "execution_count": 150,
   "metadata": {},
   "outputs": [],
   "source": [
    "#### Analysis of State of the Union Addresses dataset: Part2\n",
    "# Read file\n",
    "sup2=open('state_union_part2.txt')\n",
    "raw2=sup2.read()"
   ]
  },
  {
   "cell_type": "code",
   "execution_count": 151,
   "metadata": {},
   "outputs": [
    {
     "name": "stdout",
     "output_type": "stream",
     "text": [
      "<class 'str'>\n",
      "2572378\n"
     ]
    }
   ],
   "source": [
    "# check the type and length of the file\n",
    "print(type(raw2))\n",
    "print(len(raw2))"
   ]
  },
  {
   "cell_type": "code",
   "execution_count": 152,
   "metadata": {},
   "outputs": [
    {
     "data": {
      "text/plain": [
       "'The Project Gutenberg EBook of Complete State of the Union Addresses,\\nfrom 1946 to the Present\\n(#41 in our series of US Presidential State of the Union Addresses)\\n\\nCopyright laws are changing all over the world. Be sure to check the\\ncopyright laws for your country before downloading or redistributin'"
      ]
     },
     "execution_count": 152,
     "metadata": {},
     "output_type": "execute_result"
    }
   ],
   "source": [
    "# show some of the words\n",
    "raw2[:300]"
   ]
  },
  {
   "cell_type": "code",
   "execution_count": 153,
   "metadata": {},
   "outputs": [],
   "source": [
    "# convert string into tokens and then text\n",
    "tokens2=word_tokenize(raw2)\n",
    "text2=nltk.Text(tokens2)"
   ]
  },
  {
   "cell_type": "code",
   "execution_count": 154,
   "metadata": {},
   "outputs": [],
   "source": [
    "# remove punctuations\n",
    "words2 = [w.lower() for w in text2 if w.isalpha()]"
   ]
  },
  {
   "cell_type": "code",
   "execution_count": 156,
   "metadata": {},
   "outputs": [
    {
     "name": "stdout",
     "output_type": "stream",
     "text": [
      "<class 'list'>\n"
     ]
    },
    {
     "data": {
      "text/plain": [
       "['the',\n",
       " 'project',\n",
       " 'gutenberg',\n",
       " 'ebook',\n",
       " 'of',\n",
       " 'complete',\n",
       " 'state',\n",
       " 'of',\n",
       " 'the',\n",
       " 'union',\n",
       " 'addresses',\n",
       " 'from',\n",
       " 'to',\n",
       " 'the',\n",
       " 'present',\n",
       " 'in',\n",
       " 'our',\n",
       " 'series',\n",
       " 'of',\n",
       " 'us',\n",
       " 'presidential',\n",
       " 'state',\n",
       " 'of',\n",
       " 'the',\n",
       " 'union',\n",
       " 'addresses',\n",
       " 'copyright',\n",
       " 'laws',\n",
       " 'are',\n",
       " 'changing']"
      ]
     },
     "execution_count": 156,
     "metadata": {},
     "output_type": "execute_result"
    }
   ],
   "source": [
    "print(type(words2))\n",
    "words2[:30]"
   ]
  },
  {
   "cell_type": "code",
   "execution_count": 157,
   "metadata": {},
   "outputs": [
    {
     "data": {
      "text/plain": [
       "13193"
      ]
     },
     "execution_count": 157,
     "metadata": {},
     "output_type": "execute_result"
    }
   ],
   "source": [
    "# remove all the stop words from text1\n",
    "stoppedsup2words = [w for w in words2 if not w in nltkstopwords]\n",
    "len(set(stoppedsup2words))"
   ]
  },
  {
   "cell_type": "code",
   "execution_count": 158,
   "metadata": {
    "scrolled": true
   },
   "outputs": [
    {
     "data": {
      "text/plain": [
       "['project',\n",
       " 'gutenberg',\n",
       " 'ebook',\n",
       " 'complete',\n",
       " 'state',\n",
       " 'union',\n",
       " 'address',\n",
       " 'present',\n",
       " 'series',\n",
       " 'u',\n",
       " 'presidential',\n",
       " 'state',\n",
       " 'union',\n",
       " 'address',\n",
       " 'copyright',\n",
       " 'law',\n",
       " 'changing',\n",
       " 'world',\n",
       " 'sure',\n",
       " 'check',\n",
       " 'copyright',\n",
       " 'law',\n",
       " 'country',\n",
       " 'downloading',\n",
       " 'redistributing',\n",
       " 'project',\n",
       " 'gutenberg',\n",
       " 'ebook',\n",
       " 'header',\n",
       " 'first']"
      ]
     },
     "execution_count": 158,
     "metadata": {},
     "output_type": "execute_result"
    }
   ],
   "source": [
    "Lemmasup2words = [wnl.lemmatize(t) for t in stoppedsup2words]\n",
    "Lemmasup2words[:30]"
   ]
  },
  {
   "cell_type": "code",
   "execution_count": 14,
   "metadata": {},
   "outputs": [],
   "source": [
    "## list the top 50 words by frequency"
   ]
  },
  {
   "cell_type": "code",
   "execution_count": 159,
   "metadata": {},
   "outputs": [
    {
     "data": {
      "text/plain": [
       "[('year', 2376),\n",
       " ('american', 1638),\n",
       " ('must', 1628),\n",
       " ('people', 1597),\n",
       " ('nation', 1506),\n",
       " ('world', 1490),\n",
       " ('new', 1441),\n",
       " ('america', 1288),\n",
       " ('congress', 1236),\n",
       " ('state', 1231),\n",
       " ('government', 1219),\n",
       " ('u', 1216),\n",
       " ('program', 1100),\n",
       " ('time', 871),\n",
       " ('country', 855),\n",
       " ('make', 853),\n",
       " ('one', 840),\n",
       " ('work', 834),\n",
       " ('need', 822),\n",
       " ('every', 780),\n",
       " ('federal', 744),\n",
       " ('help', 720),\n",
       " ('war', 702),\n",
       " ('million', 694),\n",
       " ('security', 689),\n",
       " ('tax', 685),\n",
       " ('job', 678),\n",
       " ('economic', 671),\n",
       " ('peace', 668),\n",
       " ('united', 651),\n",
       " ('also', 639),\n",
       " ('economy', 622),\n",
       " ('right', 619),\n",
       " ('national', 610),\n",
       " ('child', 609),\n",
       " ('great', 583),\n",
       " ('last', 574),\n",
       " ('many', 563),\n",
       " ('free', 559),\n",
       " ('let', 554),\n",
       " ('first', 553),\n",
       " ('would', 548),\n",
       " ('effort', 547),\n",
       " ('know', 536),\n",
       " ('budget', 531),\n",
       " ('system', 531),\n",
       " ('life', 526),\n",
       " ('family', 525),\n",
       " ('force', 518),\n",
       " ('freedom', 515)]"
      ]
     },
     "execution_count": 159,
     "metadata": {},
     "output_type": "execute_result"
    }
   ],
   "source": [
    "# Creating a frequency distribution of words\n",
    "fdist2Lemmasup2words = nltk.FreqDist(Lemmasup2words)\n",
    "# print the top 50 tokens by frequency\n",
    "fdist2Lemmasup2words.most_common(50)"
   ]
  },
  {
   "cell_type": "code",
   "execution_count": 160,
   "metadata": {},
   "outputs": [],
   "source": [
    "## list the top 50 bigrams by frequencies\n",
    "bigrams2Lemmasup2words=list(nltk.bigrams(Lemmasup2words))"
   ]
  },
  {
   "cell_type": "code",
   "execution_count": 161,
   "metadata": {},
   "outputs": [
    {
     "data": {
      "text/plain": [
       "[(('united', 'state'), 0.002096959408857157),\n",
       " (('last', 'year'), 0.0012481901243197363),\n",
       " (('state', 'union'), 0.0012300346316023584),\n",
       " (('american', 'people'), 0.001098407309401368),\n",
       " (('fiscal', 'year'), 0.0008805413967928322),\n",
       " (('year', 'ago'), 0.0008669247772547988),\n",
       " (('federal', 'government'), 0.0008442304113580763),\n",
       " (('social', 'security'), 0.0008260749186406982),\n",
       " (('health', 'care'), 0.0008079194259233203),\n",
       " (('let', 'u'), 0.0008079194259233203),\n",
       " (('billion', 'dollar'), 0.0006944475964397079),\n",
       " (('union', 'address'), 0.0006445199914669184),\n",
       " (('united', 'nation'), 0.000612747879211507),\n",
       " (('million', 'dollar'), 0.0005991312596734735),\n",
       " (('soviet', 'union'), 0.0005673591474180619),\n",
       " (('next', 'year'), 0.000558281401059373),\n",
       " (('men', 'woman'), 0.0005128926692659281),\n",
       " (('past', 'year'), 0.0005083537960865835),\n",
       " (('free', 'world'), 0.0004947371765485501),\n",
       " (('member', 'congress'), 0.00045842619111379407),\n",
       " (('every', 'american'), 0.0004493484447551051),\n",
       " (('million', 'american'), 0.0004357318252170716),\n",
       " (('economic', 'growth'), 0.0004266540788583826),\n",
       " (('middle', 'east'), 0.0004130374593203491),\n",
       " (('state', 'local'), 0.00040849858614100463),\n",
       " (('free', 'nation'), 0.00040395971296166015),\n",
       " (('make', 'sure'), 0.00040395971296166015),\n",
       " (('four', 'year'), 0.00038126534706493765),\n",
       " (('first', 'time'), 0.00036764872752690416),\n",
       " (('small', 'business'), 0.00036764872752690416),\n",
       " (('ask', 'congress'), 0.0003585709811682152),\n",
       " (('world', 'war'), 0.0003585709811682152),\n",
       " (('armed', 'force'), 0.0003449543616301817),\n",
       " (('tax', 'cut'), 0.0003449543616301817),\n",
       " (('foreign', 'policy'), 0.0003358766152714927),\n",
       " (('must', 'continue'), 0.0003358766152714927),\n",
       " (('new', 'job'), 0.0003358766152714927),\n",
       " (('work', 'together'), 0.0003358766152714927),\n",
       " (('two', 'year'), 0.00030410450301608124),\n",
       " (('vice', 'president'), 0.00030410450301608124),\n",
       " (('local', 'government'), 0.00029956562983673676),\n",
       " (('around', 'world'), 0.00029048788347804774),\n",
       " (('national', 'security'), 0.00028594901029870327),\n",
       " (('must', 'also'), 0.00028141013711935873),\n",
       " (('address', 'january'), 0.0002723323907606698),\n",
       " (('human', 'right'), 0.0002723323907606698),\n",
       " (('health', 'insurance'), 0.00026325464440198076),\n",
       " (('nation', 'world'), 0.00026325464440198076),\n",
       " (('civil', 'right'), 0.0002587157712226363),\n",
       " (('fellow', 'citizen'), 0.0002587157712226363)]"
      ]
     },
     "execution_count": 161,
     "metadata": {},
     "output_type": "execute_result"
    }
   ],
   "source": [
    "# create the bigram finder and score the bigrams by frequency\n",
    "# scored is a list of bigram pairs with their score\n",
    "finder2Lemmasup2words = BigramCollocationFinder.from_words(Lemmasup2words)\n",
    "scored2Lemmasup2words = finder2Lemmasup2words.score_ngrams(bigram_measures.raw_freq)\n",
    "scored2Lemmasup2words[:50]"
   ]
  },
  {
   "cell_type": "code",
   "execution_count": 162,
   "metadata": {},
   "outputs": [
    {
     "data": {
      "text/plain": [
       "[(('el', 'salvador'), 15.164271890106203),\n",
       " (('bin', 'laden'), 14.94187946876976),\n",
       " (('saudi', 'arabia'), 14.941879468769756),\n",
       " (('sam', 'rayburn'), 14.749234390827358),\n",
       " (('endowed', 'creator'), 14.316274983551253),\n",
       " (('jimmy', 'carter'), 14.289802772190063),\n",
       " (('northern', 'ireland'), 14.164271890106207),\n",
       " (('gerald', 'ford'), 14.097157694247668),\n",
       " (('iron', 'curtain'), 13.842343795218842),\n",
       " (('floor', 'appears'), 13.74923439082736),\n",
       " (('red', 'tape'), 13.74923439082736),\n",
       " (('jill', 'biden'), 13.678845062935963),\n",
       " (('thomas', 'jefferson'), 13.678845062935963),\n",
       " (('barack', 'obama'), 13.66177154957702),\n",
       " (('lyndon', 'johnson'), 13.66177154957702),\n",
       " (('teen', 'pregnancy'), 13.526841969490913),\n",
       " (('abraham', 'lincoln'), 13.49184654813471),\n",
       " (('william', 'clinton'), 13.327770622389085),\n",
       " (('ronald', 'reagan'), 13.289802772190063),\n",
       " (('mom', 'dad'), 13.263807563657119),\n",
       " (('greece', 'turkey'), 13.204913874603552),\n",
       " (('elementary', 'secondary'), 13.122795254130045),\n",
       " (('intercontinental', 'ballistic'), 13.003280013433898),\n",
       " (('feeding', 'hungry'), 12.9678746773027),\n",
       " (('grass', 'root'), 12.962638028936553),\n",
       " (('lady', 'gentleman'), 12.941879468769756),\n",
       " (('status', 'quo'), 12.891253395699788),\n",
       " (('empowerment', 'zone'), 12.842343795218842),\n",
       " (('nationwide', 'radio'), 12.801701810721497),\n",
       " (('radio', 'television'), 12.749234390827361),\n",
       " (('dwight', 'eisenhower'), 12.643439726804763),\n",
       " (('al', 'qaeda'), 12.619951373882396),\n",
       " (('al', 'qaida'), 12.619951373882394),\n",
       " (('richard', 'nixon'), 12.602877860523451),\n",
       " (('saddam', 'hussein'), 12.579309389385045),\n",
       " (('introduced', 'thomas'), 12.563367845516026),\n",
       " (('harry', 'truman'), 12.539781025198408),\n",
       " (('prime', 'minister'), 12.501306877383774),\n",
       " (('reported', 'floor'), 12.501306877383772),\n",
       " (('persian', 'gulf'), 12.437176539964058),\n",
       " (('carbon', 'pollution'), 12.427306295940001),\n",
       " (('capitol', 'introduced'), 12.396717976106578),\n",
       " (('george', 'bush'), 12.283853505858877),\n",
       " (('synthetic', 'fuel'), 12.25417886245934),\n",
       " (('panama', 'canal'), 12.176344722406778),\n",
       " (('per', 'caput'), 12.105378201052636),\n",
       " (('franklin', 'roosevelt'), 12.076809048855866),\n",
       " (('chemical', 'biological'), 12.012268796661154),\n",
       " (('baby', 'boom'), 11.983699644464382),\n",
       " (('steam', 'coal'), 11.90123748427241)]"
      ]
     },
     "execution_count": 162,
     "metadata": {},
     "output_type": "execute_result"
    }
   ],
   "source": [
    "# list the top 50 bigrams by their Mutual Information scores (using min frequency 5)\n",
    "finder22Lemmasup2words = BigramCollocationFinder.from_words(Lemmasup2words)\n",
    "finder22Lemmasup2words.apply_freq_filter(5)\n",
    "scored22Lemmasup2words = finder22Lemmasup2words.score_ngrams(bigram_measures.pmi)\n",
    "scored22Lemmasup2words[:50]"
   ]
  }
 ],
 "metadata": {
  "kernelspec": {
   "display_name": "Python 3",
   "language": "python",
   "name": "python3"
  },
  "language_info": {
   "codemirror_mode": {
    "name": "ipython",
    "version": 3
   },
   "file_extension": ".py",
   "mimetype": "text/x-python",
   "name": "python",
   "nbconvert_exporter": "python",
   "pygments_lexer": "ipython3",
   "version": "3.7.1"
  }
 },
 "nbformat": 4,
 "nbformat_minor": 2
}
