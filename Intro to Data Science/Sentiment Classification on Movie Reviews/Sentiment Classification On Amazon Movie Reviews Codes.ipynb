{
 "cells": [
  {
   "cell_type": "markdown",
   "metadata": {},
   "source": [
    "SENTIMENT CLASSIFICATION ON AMAZON MOVIE REVIEWS"
   ]
  },
  {
   "cell_type": "markdown",
   "metadata": {},
   "source": [
    "CIS 563 – Intro to Data Science"
   ]
  },
  {
   "cell_type": "markdown",
   "metadata": {},
   "source": [
    "Harper He"
   ]
  },
  {
   "cell_type": "markdown",
   "metadata": {},
   "source": [
    "Email: xhe128@syr.edu | Student ID: 331490565"
   ]
  },
  {
   "cell_type": "code",
   "execution_count": 1,
   "metadata": {},
   "outputs": [
    {
     "name": "stdout",
     "output_type": "stream",
     "text": [
      "1575773019.5318599\n"
     ]
    }
   ],
   "source": [
    "import time\n",
    "import timeit\n",
    "start = time.time()\n",
    "print(start)"
   ]
  },
  {
   "cell_type": "code",
   "execution_count": 2,
   "metadata": {},
   "outputs": [],
   "source": [
    "# import packages\n",
    "# nltk related\n",
    "import nltk\n",
    "from nltk.tokenize import *\n",
    "from nltk.corpus import *\n",
    "from nltk.stem import WordNetLemmatizer\n",
    "from nltk.corpus import stopwords\n",
    "\n",
    "# sklearn related\n",
    "\n",
    "# feature \n",
    "from sklearn.feature_extraction.text import CountVectorizer\n",
    "from sklearn.feature_extraction.text import TfidfVectorizer\n",
    "\n",
    "from sklearn.model_selection import cross_val_score\n",
    "from sklearn.model_selection import cross_validate\n",
    "from sklearn.model_selection import train_test_split\n",
    "from sklearn.model_selection import cross_val_predict\n",
    "\n",
    "# classifier\n",
    "from sklearn.naive_bayes import MultinomialNB\n",
    "from sklearn.tree import DecisionTreeClassifier\n",
    "from sklearn import metrics, neighbors\n",
    "\n",
    "# metrics\n",
    "from sklearn.metrics import confusion_matrix\n",
    "from sklearn.metrics import SCORERS\n",
    "from sklearn.metrics import accuracy_score,precision_score,recall_score\n",
    "from sklearn.metrics import roc_curve\n",
    "from sklearn.metrics import roc_auc_score\n",
    "\n",
    "# others\n",
    "import pandas as pd\n",
    "#pd.set_option('display.max_rows',None)\n",
    "#pd.set_option('max_colwidth',500)\n",
    "from wordcloud import WordCloud, STOPWORDS, ImageColorGenerator\n",
    "import re\n",
    "import matplotlib.pyplot as plt \n",
    "%matplotlib inline\n",
    "import random\n",
    "import warnings\n",
    "warnings.filterwarnings(action='ignore')\n",
    "import numpy as np"
   ]
  },
  {
   "cell_type": "code",
   "execution_count": 3,
   "metadata": {},
   "outputs": [
    {
     "name": "stdout",
     "output_type": "stream",
     "text": [
      "7911684\n",
      "7911684\n",
      "7911684\n",
      " The murders in Juarez are real. This movie is a badly acted fantasy of revenge and holy intercession.  If there is a good movie about Juarez, I don't know what it is, but it is not this one.\n",
      "[' 3.0', ' 3.0', ' 5.0', ' 3.0', ' 3.0']\n",
      "[' 7/7', ' 4/4', ' 8/10', ' 1/1', ' 1/1']\n"
     ]
    }
   ],
   "source": [
    "# extracts only useful texts\n",
    "reviews=[]\n",
    "movies_score=[]\n",
    "movies_help=[]\n",
    "with open(\"movies.txt\",encoding = 'ISO-8859-1') as movies:\n",
    "    for line in movies:\n",
    "        if(line.startswith(\"review/text:\")):\n",
    "            each_line = line.split(\"review/text:\")[1]\n",
    "            #each_line = each_line.replace('<br /><br />','')\n",
    "            each_line = each_line.replace('<br />',' ')\n",
    "            each_line = each_line.replace('\\n','')\n",
    "            reviews.append(each_line)\n",
    "        if(line.startswith(\"review/score:\")):    \n",
    "            each_score = line.split(\"review/score:\")[1]\n",
    "            each_score = each_score.replace('\\n','')\n",
    "            movies_score.append(each_score)\n",
    "        if(line.startswith(\"review/helpfulness:\")): \n",
    "            each_help = line.split(\"review/helpfulness:\")[1]\n",
    "            each_help = each_help.replace('\\n','')\n",
    "            #final_help = [x.split('/')[0] for x in each_help]\n",
    "            movies_help.append(each_help)\n",
    "print(len(reviews))\n",
    "print(len(movies_score))\n",
    "print(len(movies_help))\n",
    "print(reviews[5])\n",
    "print(movies_score[:5])\n",
    "print(movies_help[:5])"
   ]
  },
  {
   "cell_type": "code",
   "execution_count": 4,
   "metadata": {},
   "outputs": [
    {
     "data": {
      "text/html": [
       "<div>\n",
       "<style scoped>\n",
       "    .dataframe tbody tr th:only-of-type {\n",
       "        vertical-align: middle;\n",
       "    }\n",
       "\n",
       "    .dataframe tbody tr th {\n",
       "        vertical-align: top;\n",
       "    }\n",
       "\n",
       "    .dataframe thead th {\n",
       "        text-align: right;\n",
       "    }\n",
       "</style>\n",
       "<table border=\"1\" class=\"dataframe\">\n",
       "  <thead>\n",
       "    <tr style=\"text-align: right;\">\n",
       "      <th></th>\n",
       "      <th>reviews</th>\n",
       "      <th>movies_score</th>\n",
       "      <th>movies_help</th>\n",
       "    </tr>\n",
       "  </thead>\n",
       "  <tbody>\n",
       "    <tr>\n",
       "      <th>0</th>\n",
       "      <td>Synopsis: On the daily trek from Juarez, Mexi...</td>\n",
       "      <td>3.0</td>\n",
       "      <td>7/7</td>\n",
       "    </tr>\n",
       "    <tr>\n",
       "      <th>1</th>\n",
       "      <td>THE VIRGIN OF JUAREZ is based on true events ...</td>\n",
       "      <td>3.0</td>\n",
       "      <td>4/4</td>\n",
       "    </tr>\n",
       "    <tr>\n",
       "      <th>2</th>\n",
       "      <td>The scenes in this film can be very disquieti...</td>\n",
       "      <td>5.0</td>\n",
       "      <td>8/10</td>\n",
       "    </tr>\n",
       "    <tr>\n",
       "      <th>3</th>\n",
       "      <td>THE VIRGIN OF JUAREZ (2006) directed by Kevin...</td>\n",
       "      <td>3.0</td>\n",
       "      <td>1/1</td>\n",
       "    </tr>\n",
       "    <tr>\n",
       "      <th>4</th>\n",
       "      <td>Informationally, this SHOWTIME original is es...</td>\n",
       "      <td>3.0</td>\n",
       "      <td>1/1</td>\n",
       "    </tr>\n",
       "  </tbody>\n",
       "</table>\n",
       "</div>"
      ],
      "text/plain": [
       "                                             reviews movies_score movies_help\n",
       "0   Synopsis: On the daily trek from Juarez, Mexi...          3.0         7/7\n",
       "1   THE VIRGIN OF JUAREZ is based on true events ...          3.0         4/4\n",
       "2   The scenes in this film can be very disquieti...          5.0        8/10\n",
       "3   THE VIRGIN OF JUAREZ (2006) directed by Kevin...          3.0         1/1\n",
       "4   Informationally, this SHOWTIME original is es...          3.0         1/1"
      ]
     },
     "execution_count": 4,
     "metadata": {},
     "output_type": "execute_result"
    }
   ],
   "source": [
    "data = {'reviews':reviews,'movies_score':movies_score,'movies_help':movies_help}\n",
    "df=pd.DataFrame(data)\n",
    "df.head()"
   ]
  },
  {
   "cell_type": "code",
   "execution_count": 5,
   "metadata": {},
   "outputs": [
    {
     "data": {
      "text/plain": [
       "7911684"
      ]
     },
     "execution_count": 5,
     "metadata": {},
     "output_type": "execute_result"
    }
   ],
   "source": [
    "df['movies_score']=df['movies_score'].astype(float)\n",
    "len(df)"
   ]
  },
  {
   "cell_type": "code",
   "execution_count": 6,
   "metadata": {
    "scrolled": false
   },
   "outputs": [
    {
     "data": {
      "text/plain": [
       "5.0    4380544\n",
       "4.0    1654815\n",
       "3.0     791594\n",
       "1.0     629332\n",
       "2.0     455399\n",
       "dtype: int64"
      ]
     },
     "execution_count": 6,
     "metadata": {},
     "output_type": "execute_result"
    }
   ],
   "source": [
    "# check the distribution of scores\n",
    "rating_count=pd.value_counts(df['movies_score'].values, sort=True)\n",
    "rating_count"
   ]
  },
  {
   "cell_type": "code",
   "execution_count": 7,
   "metadata": {},
   "outputs": [
    {
     "data": {
      "image/png": "[encoded data removed]",
      "text/plain": [
       "<Figure size 1080x360 with 1 Axes>"
      ]
     },
     "metadata": {
      "needs_background": "light"
     },
     "output_type": "display_data"
    }
   ],
   "source": [
    "Index = [1,2,3,4,5]\n",
    "plt.figure(figsize=(15,5))\n",
    "plt.bar(Index,rating_count,color ='grey')\n",
    "plt.xticks(Index,['5','4','3','1','2'])\n",
    "plt.ylabel('Rating count')\n",
    "plt.xlabel('Rating')\n",
    "plt.title('Count of Ratings')\n",
    "plt.bar(Index, rating_count)\n",
    "for a,b in zip(Index, rating_count):\n",
    "    plt.text(a, b, str(b) ,color='black', fontweight='bold')"
   ]
  },
  {
   "cell_type": "code",
   "execution_count": 8,
   "metadata": {
    "scrolled": true
   },
   "outputs": [
    {
     "data": {
      "text/html": [
       "<div>\n",
       "<style scoped>\n",
       "    .dataframe tbody tr th:only-of-type {\n",
       "        vertical-align: middle;\n",
       "    }\n",
       "\n",
       "    .dataframe tbody tr th {\n",
       "        vertical-align: top;\n",
       "    }\n",
       "\n",
       "    .dataframe thead th {\n",
       "        text-align: right;\n",
       "    }\n",
       "</style>\n",
       "<table border=\"1\" class=\"dataframe\">\n",
       "  <thead>\n",
       "    <tr style=\"text-align: right;\">\n",
       "      <th></th>\n",
       "      <th>reviews</th>\n",
       "      <th>movies_score</th>\n",
       "      <th>movies_help</th>\n",
       "    </tr>\n",
       "  </thead>\n",
       "  <tbody>\n",
       "    <tr>\n",
       "      <th>2</th>\n",
       "      <td>The scenes in this film can be very disquieti...</td>\n",
       "      <td>5.0</td>\n",
       "      <td>8/10</td>\n",
       "    </tr>\n",
       "    <tr>\n",
       "      <th>5</th>\n",
       "      <td>The murders in Juarez are real. This movie is...</td>\n",
       "      <td>2.0</td>\n",
       "      <td>0/0</td>\n",
       "    </tr>\n",
       "    <tr>\n",
       "      <th>6</th>\n",
       "      <td>Mexican men are macho rapists, gangsters or i...</td>\n",
       "      <td>1.0</td>\n",
       "      <td>3/11</td>\n",
       "    </tr>\n",
       "    <tr>\n",
       "      <th>7</th>\n",
       "      <td>Over the past few years, public television ha...</td>\n",
       "      <td>5.0</td>\n",
       "      <td>64/65</td>\n",
       "    </tr>\n",
       "    <tr>\n",
       "      <th>8</th>\n",
       "      <td>I recvd this video (DVD version) as a Christm...</td>\n",
       "      <td>5.0</td>\n",
       "      <td>26/26</td>\n",
       "    </tr>\n",
       "  </tbody>\n",
       "</table>\n",
       "</div>"
      ],
      "text/plain": [
       "                                             reviews  movies_score movies_help\n",
       "2   The scenes in this film can be very disquieti...           5.0        8/10\n",
       "5   The murders in Juarez are real. This movie is...           2.0         0/0\n",
       "6   Mexican men are macho rapists, gangsters or i...           1.0        3/11\n",
       "7   Over the past few years, public television ha...           5.0       64/65\n",
       "8   I recvd this video (DVD version) as a Christm...           5.0       26/26"
      ]
     },
     "execution_count": 8,
     "metadata": {},
     "output_type": "execute_result"
    }
   ],
   "source": [
    "df = df[df.movies_score != 3.0]\n",
    "df.head()"
   ]
  },
  {
   "cell_type": "code",
   "execution_count": 9,
   "metadata": {
    "scrolled": true
   },
   "outputs": [
    {
     "name": "stdout",
     "output_type": "stream",
     "text": [
      "34552\n"
     ]
    },
    {
     "data": {
      "text/html": [
       "<div>\n",
       "<style scoped>\n",
       "    .dataframe tbody tr th:only-of-type {\n",
       "        vertical-align: middle;\n",
       "    }\n",
       "\n",
       "    .dataframe tbody tr th {\n",
       "        vertical-align: top;\n",
       "    }\n",
       "\n",
       "    .dataframe thead th {\n",
       "        text-align: right;\n",
       "    }\n",
       "</style>\n",
       "<table border=\"1\" class=\"dataframe\">\n",
       "  <thead>\n",
       "    <tr style=\"text-align: right;\">\n",
       "      <th></th>\n",
       "      <th>reviews</th>\n",
       "      <th>movies_score</th>\n",
       "      <th>movies_help</th>\n",
       "    </tr>\n",
       "  </thead>\n",
       "  <tbody>\n",
       "    <tr>\n",
       "      <th>129</th>\n",
       "      <td>After attending the release of \"The Count of ...</td>\n",
       "      <td>5.0</td>\n",
       "      <td>253</td>\n",
       "    </tr>\n",
       "    <tr>\n",
       "      <th>130</th>\n",
       "      <td>In this time of fire and explosion oriented b...</td>\n",
       "      <td>5.0</td>\n",
       "      <td>104</td>\n",
       "    </tr>\n",
       "    <tr>\n",
       "      <th>131</th>\n",
       "      <td>If you have never discovered the wonderful wo...</td>\n",
       "      <td>4.0</td>\n",
       "      <td>85</td>\n",
       "    </tr>\n",
       "    <tr>\n",
       "      <th>487</th>\n",
       "      <td>This review refers to the Warner Bros. DVD ed...</td>\n",
       "      <td>5.0</td>\n",
       "      <td>134</td>\n",
       "    </tr>\n",
       "    <tr>\n",
       "      <th>689</th>\n",
       "      <td>As a Japanese living in the United Staes, I c...</td>\n",
       "      <td>5.0</td>\n",
       "      <td>87</td>\n",
       "    </tr>\n",
       "  </tbody>\n",
       "</table>\n",
       "</div>"
      ],
      "text/plain": [
       "                                               reviews  movies_score  \\\n",
       "129   After attending the release of \"The Count of ...           5.0   \n",
       "130   In this time of fire and explosion oriented b...           5.0   \n",
       "131   If you have never discovered the wonderful wo...           4.0   \n",
       "487   This review refers to the Warner Bros. DVD ed...           5.0   \n",
       "689   As a Japanese living in the United Staes, I c...           5.0   \n",
       "\n",
       "     movies_help  \n",
       "129          253  \n",
       "130          104  \n",
       "131           85  \n",
       "487          134  \n",
       "689           87  "
      ]
     },
     "execution_count": 9,
     "metadata": {},
     "output_type": "execute_result"
    }
   ],
   "source": [
    "df['movies_help'] = df['movies_help'].astype(str)\n",
    "df['movies_help'] = df['movies_help'].apply(lambda x: x.split('/')[0])\n",
    "df['movies_help'] = df['movies_help'].astype(int)\n",
    "df = df[df.movies_help > 80]\n",
    "print(len(df))\n",
    "df.head()"
   ]
  },
  {
   "cell_type": "code",
   "execution_count": 10,
   "metadata": {},
   "outputs": [],
   "source": [
    "stop_words = set(stopwords.words(\"english\")) \n",
    "lemmatizer = WordNetLemmatizer()\n",
    "\n",
    "def clean_text(text):\n",
    "    text = re.sub(r'[^\\w\\s]','',text, re.UNICODE)\n",
    "    text = text.lower()\n",
    "    text = [lemmatizer.lemmatize(token) for token in text.split()]\n",
    "    text = [lemmatizer.lemmatize(token, \"v\") for token in text]\n",
    "    text = [word for word in text if not word in stop_words]\n",
    "    text = \" \".join(text)\n",
    "    return text\n",
    "\n",
    "df['words'] = df.reviews.apply(lambda x: clean_text(x))"
   ]
  },
  {
   "cell_type": "code",
   "execution_count": 11,
   "metadata": {
    "scrolled": false
   },
   "outputs": [
    {
     "data": {
      "text/html": [
       "<div>\n",
       "<style scoped>\n",
       "    .dataframe tbody tr th:only-of-type {\n",
       "        vertical-align: middle;\n",
       "    }\n",
       "\n",
       "    .dataframe tbody tr th {\n",
       "        vertical-align: top;\n",
       "    }\n",
       "\n",
       "    .dataframe thead th {\n",
       "        text-align: right;\n",
       "    }\n",
       "</style>\n",
       "<table border=\"1\" class=\"dataframe\">\n",
       "  <thead>\n",
       "    <tr style=\"text-align: right;\">\n",
       "      <th></th>\n",
       "      <th>reviews</th>\n",
       "      <th>movies_score</th>\n",
       "      <th>movies_help</th>\n",
       "      <th>words</th>\n",
       "    </tr>\n",
       "  </thead>\n",
       "  <tbody>\n",
       "    <tr>\n",
       "      <th>129</th>\n",
       "      <td>After attending the release of \"The Count of ...</td>\n",
       "      <td>5.0</td>\n",
       "      <td>253</td>\n",
       "      <td>attend release count monte cristo friend make ...</td>\n",
       "    </tr>\n",
       "    <tr>\n",
       "      <th>130</th>\n",
       "      <td>In this time of fire and explosion oriented b...</td>\n",
       "      <td>5.0</td>\n",
       "      <td>104</td>\n",
       "      <td>time fire explosion orient blockbuster movie i...</td>\n",
       "    </tr>\n",
       "    <tr>\n",
       "      <th>131</th>\n",
       "      <td>If you have never discovered the wonderful wo...</td>\n",
       "      <td>4.0</td>\n",
       "      <td>85</td>\n",
       "      <td>never discover wonderful world alexandre duma ...</td>\n",
       "    </tr>\n",
       "    <tr>\n",
       "      <th>487</th>\n",
       "      <td>This review refers to the Warner Bros. DVD ed...</td>\n",
       "      <td>5.0</td>\n",
       "      <td>134</td>\n",
       "      <td>review refer warner bros dvd edition quotthe t...</td>\n",
       "    </tr>\n",
       "    <tr>\n",
       "      <th>689</th>\n",
       "      <td>As a Japanese living in the United Staes, I c...</td>\n",
       "      <td>5.0</td>\n",
       "      <td>87</td>\n",
       "      <td>japanese live unite staes say totally film ama...</td>\n",
       "    </tr>\n",
       "  </tbody>\n",
       "</table>\n",
       "</div>"
      ],
      "text/plain": [
       "                                               reviews  movies_score  \\\n",
       "129   After attending the release of \"The Count of ...           5.0   \n",
       "130   In this time of fire and explosion oriented b...           5.0   \n",
       "131   If you have never discovered the wonderful wo...           4.0   \n",
       "487   This review refers to the Warner Bros. DVD ed...           5.0   \n",
       "689   As a Japanese living in the United Staes, I c...           5.0   \n",
       "\n",
       "     movies_help                                              words  \n",
       "129          253  attend release count monte cristo friend make ...  \n",
       "130          104  time fire explosion orient blockbuster movie i...  \n",
       "131           85  never discover wonderful world alexandre duma ...  \n",
       "487          134  review refer warner bros dvd edition quotthe t...  \n",
       "689           87  japanese live unite staes say totally film ama...  "
      ]
     },
     "execution_count": 11,
     "metadata": {},
     "output_type": "execute_result"
    }
   ],
   "source": [
    "df.head()"
   ]
  },
  {
   "cell_type": "code",
   "execution_count": 12,
   "metadata": {},
   "outputs": [],
   "source": [
    "def remove_numbers(words):\n",
    "    new_words = []\n",
    "    for word in words:\n",
    "        new_word = re.sub(\"\\d+\", \"\", word)\n",
    "        if new_word != '':\n",
    "            new_words.append(new_word)\n",
    "    return new_words\n",
    "df['words']=remove_numbers(df['words'])"
   ]
  },
  {
   "cell_type": "code",
   "execution_count": 13,
   "metadata": {},
   "outputs": [
    {
     "data": {
      "text/plain": [
       "34552"
      ]
     },
     "execution_count": 13,
     "metadata": {},
     "output_type": "execute_result"
    }
   ],
   "source": [
    "len(df)"
   ]
  },
  {
   "cell_type": "code",
   "execution_count": 14,
   "metadata": {},
   "outputs": [
    {
     "data": {
      "text/html": [
       "<div>\n",
       "<style scoped>\n",
       "    .dataframe tbody tr th:only-of-type {\n",
       "        vertical-align: middle;\n",
       "    }\n",
       "\n",
       "    .dataframe tbody tr th {\n",
       "        vertical-align: top;\n",
       "    }\n",
       "\n",
       "    .dataframe thead th {\n",
       "        text-align: right;\n",
       "    }\n",
       "</style>\n",
       "<table border=\"1\" class=\"dataframe\">\n",
       "  <thead>\n",
       "    <tr style=\"text-align: right;\">\n",
       "      <th></th>\n",
       "      <th>reviews</th>\n",
       "      <th>movies_score</th>\n",
       "      <th>movies_help</th>\n",
       "      <th>words</th>\n",
       "    </tr>\n",
       "  </thead>\n",
       "  <tbody>\n",
       "    <tr>\n",
       "      <th>129</th>\n",
       "      <td>After attending the release of \"The Count of ...</td>\n",
       "      <td>5.0</td>\n",
       "      <td>253</td>\n",
       "      <td>attend release count monte cristo friend make ...</td>\n",
       "    </tr>\n",
       "    <tr>\n",
       "      <th>130</th>\n",
       "      <td>In this time of fire and explosion oriented b...</td>\n",
       "      <td>5.0</td>\n",
       "      <td>104</td>\n",
       "      <td>time fire explosion orient blockbuster movie i...</td>\n",
       "    </tr>\n",
       "    <tr>\n",
       "      <th>131</th>\n",
       "      <td>If you have never discovered the wonderful wo...</td>\n",
       "      <td>4.0</td>\n",
       "      <td>85</td>\n",
       "      <td>never discover wonderful world alexandre duma ...</td>\n",
       "    </tr>\n",
       "    <tr>\n",
       "      <th>487</th>\n",
       "      <td>This review refers to the Warner Bros. DVD ed...</td>\n",
       "      <td>5.0</td>\n",
       "      <td>134</td>\n",
       "      <td>review refer warner bros dvd edition quotthe t...</td>\n",
       "    </tr>\n",
       "    <tr>\n",
       "      <th>689</th>\n",
       "      <td>As a Japanese living in the United Staes, I c...</td>\n",
       "      <td>5.0</td>\n",
       "      <td>87</td>\n",
       "      <td>japanese live unite staes say totally film ama...</td>\n",
       "    </tr>\n",
       "  </tbody>\n",
       "</table>\n",
       "</div>"
      ],
      "text/plain": [
       "                                               reviews  movies_score  \\\n",
       "129   After attending the release of \"The Count of ...           5.0   \n",
       "130   In this time of fire and explosion oriented b...           5.0   \n",
       "131   If you have never discovered the wonderful wo...           4.0   \n",
       "487   This review refers to the Warner Bros. DVD ed...           5.0   \n",
       "689   As a Japanese living in the United Staes, I c...           5.0   \n",
       "\n",
       "     movies_help                                              words  \n",
       "129          253  attend release count monte cristo friend make ...  \n",
       "130          104  time fire explosion orient blockbuster movie i...  \n",
       "131           85  never discover wonderful world alexandre duma ...  \n",
       "487          134  review refer warner bros dvd edition quotthe t...  \n",
       "689           87  japanese live unite staes say totally film ama...  "
      ]
     },
     "execution_count": 14,
     "metadata": {},
     "output_type": "execute_result"
    }
   ],
   "source": [
    "df.head()"
   ]
  },
  {
   "cell_type": "code",
   "execution_count": 15,
   "metadata": {
    "scrolled": true
   },
   "outputs": [],
   "source": [
    "df['label']=''\n",
    "df['label'][df['movies_score'] >= 4.0] = 'pos'\n",
    "df['label'][df['movies_score'] <= 2.0] = 'neg'"
   ]
  },
  {
   "cell_type": "code",
   "execution_count": 16,
   "metadata": {
    "scrolled": true
   },
   "outputs": [
    {
     "data": {
      "text/plain": [
       "pos    30216\n",
       "neg     4336\n",
       "Name: label, dtype: int64"
      ]
     },
     "execution_count": 16,
     "metadata": {},
     "output_type": "execute_result"
    }
   ],
   "source": [
    "df.label.value_counts()"
   ]
  },
  {
   "cell_type": "code",
   "execution_count": 17,
   "metadata": {},
   "outputs": [
    {
     "data": {
      "text/html": [
       "<div>\n",
       "<style scoped>\n",
       "    .dataframe tbody tr th:only-of-type {\n",
       "        vertical-align: middle;\n",
       "    }\n",
       "\n",
       "    .dataframe tbody tr th {\n",
       "        vertical-align: top;\n",
       "    }\n",
       "\n",
       "    .dataframe thead th {\n",
       "        text-align: right;\n",
       "    }\n",
       "</style>\n",
       "<table border=\"1\" class=\"dataframe\">\n",
       "  <thead>\n",
       "    <tr style=\"text-align: right;\">\n",
       "      <th></th>\n",
       "      <th>reviews</th>\n",
       "      <th>movies_score</th>\n",
       "      <th>movies_help</th>\n",
       "      <th>words</th>\n",
       "      <th>label</th>\n",
       "    </tr>\n",
       "  </thead>\n",
       "  <tbody>\n",
       "    <tr>\n",
       "      <th>129</th>\n",
       "      <td>After attending the release of \"The Count of ...</td>\n",
       "      <td>5.0</td>\n",
       "      <td>253</td>\n",
       "      <td>attend release count monte cristo friend make ...</td>\n",
       "      <td>pos</td>\n",
       "    </tr>\n",
       "    <tr>\n",
       "      <th>130</th>\n",
       "      <td>In this time of fire and explosion oriented b...</td>\n",
       "      <td>5.0</td>\n",
       "      <td>104</td>\n",
       "      <td>time fire explosion orient blockbuster movie i...</td>\n",
       "      <td>pos</td>\n",
       "    </tr>\n",
       "    <tr>\n",
       "      <th>131</th>\n",
       "      <td>If you have never discovered the wonderful wo...</td>\n",
       "      <td>4.0</td>\n",
       "      <td>85</td>\n",
       "      <td>never discover wonderful world alexandre duma ...</td>\n",
       "      <td>pos</td>\n",
       "    </tr>\n",
       "    <tr>\n",
       "      <th>487</th>\n",
       "      <td>This review refers to the Warner Bros. DVD ed...</td>\n",
       "      <td>5.0</td>\n",
       "      <td>134</td>\n",
       "      <td>review refer warner bros dvd edition quotthe t...</td>\n",
       "      <td>pos</td>\n",
       "    </tr>\n",
       "    <tr>\n",
       "      <th>689</th>\n",
       "      <td>As a Japanese living in the United Staes, I c...</td>\n",
       "      <td>5.0</td>\n",
       "      <td>87</td>\n",
       "      <td>japanese live unite staes say totally film ama...</td>\n",
       "      <td>pos</td>\n",
       "    </tr>\n",
       "  </tbody>\n",
       "</table>\n",
       "</div>"
      ],
      "text/plain": [
       "                                               reviews  movies_score  \\\n",
       "129   After attending the release of \"The Count of ...           5.0   \n",
       "130   In this time of fire and explosion oriented b...           5.0   \n",
       "131   If you have never discovered the wonderful wo...           4.0   \n",
       "487   This review refers to the Warner Bros. DVD ed...           5.0   \n",
       "689   As a Japanese living in the United Staes, I c...           5.0   \n",
       "\n",
       "     movies_help                                              words label  \n",
       "129          253  attend release count monte cristo friend make ...   pos  \n",
       "130          104  time fire explosion orient blockbuster movie i...   pos  \n",
       "131           85  never discover wonderful world alexandre duma ...   pos  \n",
       "487          134  review refer warner bros dvd edition quotthe t...   pos  \n",
       "689           87  japanese live unite staes say totally film ama...   pos  "
      ]
     },
     "execution_count": 17,
     "metadata": {},
     "output_type": "execute_result"
    }
   ],
   "source": [
    "df.head()"
   ]
  },
  {
   "cell_type": "code",
   "execution_count": 18,
   "metadata": {},
   "outputs": [],
   "source": [
    "df=df.drop(columns=['reviews','movies_score','movies_help'])"
   ]
  },
  {
   "cell_type": "code",
   "execution_count": 19,
   "metadata": {
    "scrolled": true
   },
   "outputs": [
    {
     "data": {
      "text/html": [
       "<div>\n",
       "<style scoped>\n",
       "    .dataframe tbody tr th:only-of-type {\n",
       "        vertical-align: middle;\n",
       "    }\n",
       "\n",
       "    .dataframe tbody tr th {\n",
       "        vertical-align: top;\n",
       "    }\n",
       "\n",
       "    .dataframe thead th {\n",
       "        text-align: right;\n",
       "    }\n",
       "</style>\n",
       "<table border=\"1\" class=\"dataframe\">\n",
       "  <thead>\n",
       "    <tr style=\"text-align: right;\">\n",
       "      <th></th>\n",
       "      <th>words</th>\n",
       "      <th>label</th>\n",
       "    </tr>\n",
       "  </thead>\n",
       "  <tbody>\n",
       "    <tr>\n",
       "      <th>129</th>\n",
       "      <td>attend release count monte cristo friend make ...</td>\n",
       "      <td>pos</td>\n",
       "    </tr>\n",
       "    <tr>\n",
       "      <th>130</th>\n",
       "      <td>time fire explosion orient blockbuster movie i...</td>\n",
       "      <td>pos</td>\n",
       "    </tr>\n",
       "    <tr>\n",
       "      <th>131</th>\n",
       "      <td>never discover wonderful world alexandre duma ...</td>\n",
       "      <td>pos</td>\n",
       "    </tr>\n",
       "    <tr>\n",
       "      <th>487</th>\n",
       "      <td>review refer warner bros dvd edition quotthe t...</td>\n",
       "      <td>pos</td>\n",
       "    </tr>\n",
       "    <tr>\n",
       "      <th>689</th>\n",
       "      <td>japanese live unite staes say totally film ama...</td>\n",
       "      <td>pos</td>\n",
       "    </tr>\n",
       "  </tbody>\n",
       "</table>\n",
       "</div>"
      ],
      "text/plain": [
       "                                                 words label\n",
       "129  attend release count monte cristo friend make ...   pos\n",
       "130  time fire explosion orient blockbuster movie i...   pos\n",
       "131  never discover wonderful world alexandre duma ...   pos\n",
       "487  review refer warner bros dvd edition quotthe t...   pos\n",
       "689  japanese live unite staes say totally film ama...   pos"
      ]
     },
     "execution_count": 19,
     "metadata": {},
     "output_type": "execute_result"
    }
   ],
   "source": [
    "df.head()"
   ]
  },
  {
   "cell_type": "code",
   "execution_count": 20,
   "metadata": {},
   "outputs": [
    {
     "name": "stdout",
     "output_type": "stream",
     "text": [
      "30216\n",
      "4336\n"
     ]
    }
   ],
   "source": [
    "print(len(df[df['label']==('pos')]))\n",
    "print(len(df[df['label']==('neg')]))"
   ]
  },
  {
   "cell_type": "code",
   "execution_count": 21,
   "metadata": {},
   "outputs": [
    {
     "data": {
      "text/plain": [
       "34552"
      ]
     },
     "execution_count": 21,
     "metadata": {},
     "output_type": "execute_result"
    }
   ],
   "source": [
    "len(df)"
   ]
  },
  {
   "cell_type": "code",
   "execution_count": 22,
   "metadata": {},
   "outputs": [],
   "source": [
    "X_train, X_test, y_train, y_test = train_test_split(df['words'],df['label'], test_size=0.20, random_state=7)\n",
    "classes = df['label'].unique()"
   ]
  },
  {
   "cell_type": "code",
   "execution_count": 23,
   "metadata": {
    "scrolled": true
   },
   "outputs": [
    {
     "name": "stdout",
     "output_type": "stream",
     "text": [
      "27641\n",
      "6911\n"
     ]
    }
   ],
   "source": [
    "print(len(X_train))\n",
    "print(len(X_test))"
   ]
  },
  {
   "cell_type": "code",
   "execution_count": 24,
   "metadata": {},
   "outputs": [
    {
     "data": {
      "text/plain": [
       "2422263    ever attend family reunion sit extend family h...\n",
       "Name: words, dtype: object"
      ]
     },
     "execution_count": 24,
     "metadata": {},
     "output_type": "execute_result"
    }
   ],
   "source": [
    "X_train[:1]"
   ]
  },
  {
   "cell_type": "code",
   "execution_count": 25,
   "metadata": {},
   "outputs": [
    {
     "name": "stdout",
     "output_type": "stream",
     "text": [
      "24156\n",
      "3485\n"
     ]
    },
    {
     "data": {
      "text/plain": [
       "0.8739191780326326"
      ]
     },
     "execution_count": 25,
     "metadata": {},
     "output_type": "execute_result"
    }
   ],
   "source": [
    "pos_train=y_train[y_train==('pos')]\n",
    "print(len(pos_train))\n",
    "neg_train=y_train[y_train==('neg')]\n",
    "print(len(neg_train))\n",
    "no_info_ratio = max((len(pos_train)/(len(pos_train)+len(neg_train))),(len(neg_train)/(len(pos_train)+len(neg_train))))\n",
    "no_info_ratio"
   ]
  },
  {
   "cell_type": "markdown",
   "metadata": {},
   "source": [
    "Feature Extraction"
   ]
  },
  {
   "cell_type": "code",
   "execution_count": 26,
   "metadata": {},
   "outputs": [],
   "source": [
    "# bow"
   ]
  },
  {
   "cell_type": "code",
   "execution_count": 27,
   "metadata": {},
   "outputs": [],
   "source": [
    "bow_vectorizer = CountVectorizer(analyzer='word', max_features=3000)\n",
    "bow_X_train = bow_vectorizer.fit_transform(X_train).toarray()\n",
    "bow_X_test= bow_vectorizer.transform(X_test).toarray()"
   ]
  },
  {
   "cell_type": "code",
   "execution_count": 28,
   "metadata": {},
   "outputs": [],
   "source": [
    "# TF-IDF"
   ]
  },
  {
   "cell_type": "code",
   "execution_count": 29,
   "metadata": {},
   "outputs": [],
   "source": [
    "tf_vectorizer = TfidfVectorizer(analyzer='word',ngram_range=(1,1), max_features=3000) \n",
    "tf_X_train = tf_vectorizer.fit_transform(X_train).toarray()\n",
    "tf_X_test= tf_vectorizer.transform(X_test).toarray()"
   ]
  },
  {
   "cell_type": "code",
   "execution_count": 30,
   "metadata": {},
   "outputs": [],
   "source": [
    "# training "
   ]
  },
  {
   "cell_type": "code",
   "execution_count": 31,
   "metadata": {},
   "outputs": [],
   "source": [
    "# knn model"
   ]
  },
  {
   "cell_type": "code",
   "execution_count": 32,
   "metadata": {},
   "outputs": [],
   "source": [
    "def dt_train(X_train,y_train):\n",
    "    dt = DecisionTreeClassifier()\n",
    "    dt=dt.fit(X_train, y_train)\n",
    "    scores = cross_val_score(dt, X_train, y_train, cv=3)\n",
    "    print(\"Cross Validation Accuracy: %0.4f (+/- %0.4f)\" % (scores.mean(), scores.std() * 2))\n",
    "    print(scores)    \n",
    "    \n",
    "def nb_train(X_train,y_train):\n",
    "    nb = MultinomialNB()\n",
    "    nb=nb.fit(X_train, y_train)\n",
    "    scores = cross_val_score(nb, X_train, y_train, cv=3)\n",
    "    print(\"Cross Validation Accuracy: %0.4f (+/- %0.4f)\" % (scores.mean(), scores.std() * 2))\n",
    "    print(scores)\n",
    "    \n",
    "def knn_train(X_train,y_train):\n",
    "    knn = neighbors.KNeighborsClassifier(n_neighbors=5, \n",
    "                                         weights='uniform', \n",
    "                                         algorithm='auto', leaf_size=30, p=2, \n",
    "                                         metric='jaccard', metric_params=None, n_jobs=1)\n",
    "\n",
    "    knn=knn.fit(X_train, y_train)\n",
    "    scores = cross_val_score(knn, X_train, y_train, cv=3)\n",
    "    print(\"Cross Validation Accuracy: %0.4f (+/- %0.4f)\" % (scores.mean(), scores.std() * 2))\n",
    "    print(scores)    "
   ]
  },
  {
   "cell_type": "code",
   "execution_count": 33,
   "metadata": {},
   "outputs": [
    {
     "name": "stdout",
     "output_type": "stream",
     "text": [
      "Cross Validation Accuracy: 0.9700 (+/- 0.0038)\n",
      "[0.97015411 0.96765791 0.97232172]\n"
     ]
    }
   ],
   "source": [
    "dt_train(bow_X_train,y_train)"
   ]
  },
  {
   "cell_type": "code",
   "execution_count": 34,
   "metadata": {},
   "outputs": [
    {
     "name": "stdout",
     "output_type": "stream",
     "text": [
      "Cross Validation Accuracy: 0.9717 (+/- 0.0023)\n",
      "[0.97015411 0.97265031 0.97243026]\n"
     ]
    }
   ],
   "source": [
    "dt_train(tf_X_train,y_train)"
   ]
  },
  {
   "cell_type": "code",
   "execution_count": 35,
   "metadata": {},
   "outputs": [
    {
     "name": "stdout",
     "output_type": "stream",
     "text": [
      "Cross Validation Accuracy: 0.8578 (+/- 0.0060)\n",
      "[0.85652268 0.86194921 0.85487898]\n"
     ]
    }
   ],
   "source": [
    "nb_train(bow_X_train,y_train)"
   ]
  },
  {
   "cell_type": "code",
   "execution_count": 36,
   "metadata": {
    "scrolled": false
   },
   "outputs": [
    {
     "name": "stdout",
     "output_type": "stream",
     "text": [
      "Cross Validation Accuracy: 0.9145 (+/- 0.0022)\n",
      "[0.91393532 0.91350119 0.91598828]\n"
     ]
    }
   ],
   "source": [
    "nb_train(tf_X_train,y_train)"
   ]
  },
  {
   "cell_type": "code",
   "execution_count": 37,
   "metadata": {
    "scrolled": false
   },
   "outputs": [
    {
     "name": "stdout",
     "output_type": "stream",
     "text": [
      "Cross Validation Accuracy: 0.9537 (+/- 0.0028)\n",
      "[0.95278923 0.95257217 0.95560621]\n"
     ]
    }
   ],
   "source": [
    "knn_train(bow_X_train,y_train)"
   ]
  },
  {
   "cell_type": "code",
   "execution_count": 38,
   "metadata": {
    "scrolled": true
   },
   "outputs": [
    {
     "name": "stdout",
     "output_type": "stream",
     "text": [
      "Cross Validation Accuracy: 0.9534 (+/- 0.0020)\n",
      "[0.95300629 0.95246364 0.95484641]\n"
     ]
    }
   ],
   "source": [
    "knn_train(tf_X_train,y_train)"
   ]
  },
  {
   "cell_type": "code",
   "execution_count": 48,
   "metadata": {},
   "outputs": [
    {
     "name": "stdout",
     "output_type": "stream",
     "text": [
      "Testing: DT with BOW accuracy = 97.91636521487483%\n",
      "              precision    recall  f1-score   support\n",
      "\n",
      "         neg       0.91      0.92      0.92       851\n",
      "         pos       0.99      0.99      0.99      6060\n",
      "\n",
      "   micro avg       0.98      0.98      0.98      6911\n",
      "   macro avg       0.95      0.95      0.95      6911\n",
      "weighted avg       0.98      0.98      0.98      6911\n",
      "\n",
      "[[ 785   66]\n",
      " [  78 5982]]\n"
     ]
    }
   ],
   "source": [
    "dt = DecisionTreeClassifier()\n",
    "dt=dt.fit(bow_X_train, y_train)\n",
    "predictions = dt.predict(bow_X_test)\n",
    "acc = metrics.accuracy_score(y_test, predictions)\n",
    "pre = precision_score(y_test, predictions,average=\"binary\",pos_label=\"pos\")\n",
    "rec = recall_score(y_test, predictions,average=\"binary\", pos_label=\"pos\")\n",
    "cnf_matrix=confusion_matrix(y_test, predictions)\n",
    "print('Testing: DT with BOW accuracy = ' + str(acc * 100) + '%')\n",
    "print(classification_report(y_test, predictions))\n",
    "print(cnf_matrix)"
   ]
  },
  {
   "cell_type": "code",
   "execution_count": 49,
   "metadata": {},
   "outputs": [],
   "source": [
    "y_pred_proba = dt.predict_proba(bow_X_test)[::,1]\n",
    "fpr, tpr, _ = metrics.roc_curve(y_test,  y_pred_proba,pos_label='pos')\n",
    "auc = metrics.roc_auc_score(y_test, y_pred_proba)"
   ]
  },
  {
   "cell_type": "code",
   "execution_count": 50,
   "metadata": {},
   "outputs": [
    {
     "data": {
      "image/png": "[encoded data removed]",
      "text/plain": [
       "<Figure size 432x288 with 1 Axes>"
      ]
     },
     "metadata": {
      "needs_background": "light"
     },
     "output_type": "display_data"
    }
   ],
   "source": [
    "plt.title('ROC of Decision Tree with Bag-of-words Features')\n",
    "plt.plot(fpr, tpr, 'b', label = 'AUC = %0.4f' % auc)\n",
    "plt.legend(loc = 'lower right')\n",
    "plt.xlim([0, 1])\n",
    "plt.ylim([0, 1])\n",
    "plt.ylabel('True Positive Rate')\n",
    "plt.xlabel('False Positive Rate')\n",
    "plt.show()"
   ]
  },
  {
   "cell_type": "code",
   "execution_count": 51,
   "metadata": {},
   "outputs": [
    {
     "name": "stdout",
     "output_type": "stream",
     "text": [
      "Testing: DT with TF-IDF accuracy = 98.1912892490233%\n",
      "              precision    recall  f1-score   support\n",
      "\n",
      "         neg       0.92      0.93      0.93       851\n",
      "         pos       0.99      0.99      0.99      6060\n",
      "\n",
      "   micro avg       0.98      0.98      0.98      6911\n",
      "   macro avg       0.96      0.96      0.96      6911\n",
      "weighted avg       0.98      0.98      0.98      6911\n",
      "\n",
      "[[ 791   60]\n",
      " [  65 5995]]\n"
     ]
    }
   ],
   "source": [
    "dt = DecisionTreeClassifier()\n",
    "dt=dt.fit(tf_X_train, y_train)\n",
    "predictions = dt.predict(tf_X_test)\n",
    "acc = metrics.accuracy_score(y_test, predictions)\n",
    "pre = precision_score(y_test, predictions,average=\"binary\",pos_label=\"pos\")\n",
    "rec = recall_score(y_test, predictions,average=\"binary\", pos_label=\"pos\")\n",
    "cnf_matrix=confusion_matrix(y_test, predictions)\n",
    "print('Testing: DT with TF-IDF accuracy = ' + str(acc * 100) + '%')\n",
    "print(classification_report(y_test, predictions))\n",
    "print(cnf_matrix)"
   ]
  },
  {
   "cell_type": "code",
   "execution_count": 52,
   "metadata": {},
   "outputs": [],
   "source": [
    "y_pred_proba = dt.predict_proba(tf_X_test)[::,1]\n",
    "fpr, tpr, _ = metrics.roc_curve(y_test,  y_pred_proba,pos_label='pos')\n",
    "auc = metrics.roc_auc_score(y_test, y_pred_proba)"
   ]
  },
  {
   "cell_type": "code",
   "execution_count": 53,
   "metadata": {},
   "outputs": [
    {
     "data": {
      "image/png": "[encoded data removed]",
      "text/plain": [
       "<Figure size 432x288 with 1 Axes>"
      ]
     },
     "metadata": {
      "needs_background": "light"
     },
     "output_type": "display_data"
    }
   ],
   "source": [
    "plt.title('ROC of Decision Tree with TF-IDF Features')\n",
    "plt.plot(fpr, tpr, 'b', label = 'AUC = %0.4f' % auc)\n",
    "plt.legend(loc = 'lower right')\n",
    "plt.xlim([0, 1])\n",
    "plt.ylim([0, 1])\n",
    "plt.ylabel('True Positive Rate')\n",
    "plt.xlabel('False Positive Rate')\n",
    "plt.show()"
   ]
  },
  {
   "cell_type": "code",
   "execution_count": 46,
   "metadata": {},
   "outputs": [
    {
     "name": "stdout",
     "output_type": "stream",
     "text": [
      "Time used: 4981.689297199249\n"
     ]
    }
   ],
   "source": [
    "elapsed = (time.time() - start)\n",
    "print(\"Time used:\",elapsed)"
   ]
  }
 ],
 "metadata": {
  "kernelspec": {
   "display_name": "Python 3",
   "language": "python",
   "name": "python3"
  },
  "language_info": {
   "codemirror_mode": {
    "name": "ipython",
    "version": 3
   },
   "file_extension": ".py",
   "mimetype": "text/x-python",
   "name": "python",
   "nbconvert_exporter": "python",
   "pygments_lexer": "ipython3",
   "version": "3.7.1"
  }
 },
 "nbformat": 4,
 "nbformat_minor": 2
}
