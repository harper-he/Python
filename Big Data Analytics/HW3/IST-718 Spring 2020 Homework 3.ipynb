{
 "cells": [
  {
   "cell_type": "markdown",
   "metadata": {},
   "source": [
    "##### Grading Feedback Cell\n",
    "107%"
   ]
  },
  {
   "cell_type": "markdown",
   "metadata": {},
   "source": [
    "# IST 718: Big Data Analytics\n",
    "\n",
    "- Professor: Willard Williamson <wewillia@syr.edu>\n",
    "- Faculty Assistant: Yash Pasar <yspasar@syr.edu>\n",
    "## General instructions:\n",
    "\n",
    "- You are welcome to discuss the problems with your classmates but __you are not allowed to copy any part of your answers from your classmates.  Short code snippets are allowed from the internet.  Code from the class text books or class provided code can be copied in its entirety.__\n",
    "- There could be tests in some cells (i.e., `assert` and `np.testing.` statements). These tests (if present) are used to grade your answers. **However, the professor and FAs could use __additional__ test for your answer. Think about cases where your code should run even if it passess all the tests you see.**\n",
    "- Before submitting your work, remember to check for run time errors with the following procedure:\n",
    "`Kernel`$\\rightarrow$`Restart and Run All`.  All runtime errors will result in a minimum penalty of half off.\n",
    "- Data Bricks is the official class runtime environment so you should test your code on Data Bricks before submission.  If there is a runtime problem in the grading environment, we will try your code on Data Bricks before making a final grading decision.\n",
    "- All plots shall include a title, and axis labels.\n",
    "- Grading feedback cells are there for graders to provide feedback to students.  Don't change or remove grading feedback cells.\n",
    "- Don't add or remove files from your git repo.\n",
    "- Do not change file names in your repo.  This also means don't change the title of the ipython notebook.\n",
    "- __Only use spark, spark machine learning, spark data frames, RDD's, and map reduce to solve all problems unless instructed otherwise.__"
   ]
  },
  {
   "cell_type": "code",
   "execution_count": 1,
   "metadata": {
    "deletable": false,
    "editable": false,
    "nbgrader": {
     "checksum": "34b858b2a4dae4c0c6569a235758d7e7",
     "grade": true,
     "grade_id": "cell-16fe9b731c74bdb1",
     "locked": true,
     "points": 5,
     "schema_version": 1,
     "solution": false
    }
   },
   "outputs": [],
   "source": [
    "# read only cell\n",
    "\n",
    "import os\n",
    "\n",
    "# get the databricks runtime version\n",
    "db_env = os.getenv(\"DATABRICKS_RUNTIME_VERSION\")\n",
    "\n",
    "# Define a function to read the data file.  The full path data file name is constructed\n",
    "# by checking runtime environment variables to determine if the runtime environment is \n",
    "# databricks, or a student's personal computer.  The full path file name is then\n",
    "# constructed based on the runtime env.\n",
    "# \n",
    "# Params\n",
    "#   data_file_name: The base name of the data file to load\n",
    "# \n",
    "# Returns the full path file name based on the runtime env\n",
    "#\n",
    "def get_training_filename(data_file_name):    \n",
    "    # if the databricks env var exists\n",
    "    if db_env != None:\n",
    "        # build the full path file name assuming data brick env\n",
    "        full_path_name = \"/FileStore/tables/%s\" % data_file_name\n",
    "    # else the data is assumed to be in the same dir as this notebook\n",
    "    else:\n",
    "        # Assume the student is running on their own computer and load the data\n",
    "        # file from the same dir as this notebook\n",
    "        full_path_name = data_file_name\n",
    "    \n",
    "    # return the full path file name to the caller\n",
    "    return full_path_name"
   ]
  },
  {
   "cell_type": "code",
   "execution_count": 2,
   "metadata": {},
   "outputs": [],
   "source": [
    "# import statements here\n",
    "# create spark and sparkcontext objects\n",
    "from pyspark.sql import SparkSession\n",
    "from pyspark.sql import Row\n",
    "import numpy as np\n",
    "import pandas as pd\n",
    "spark = SparkSession.builder.getOrCreate()\n",
    "sc = spark.sparkContext\n",
    "# # # # #\n",
    "import seaborn as sns\n",
    "from pyspark.sql import functions as fn\n",
    "from pyspark.ml.stat import Correlation\n",
    "from pyspark.ml import feature, regression, evaluation, Pipeline"
   ]
  },
  {
   "cell_type": "markdown",
   "metadata": {},
   "source": [
    "# Moore's Law\n",
    "The frequently cited “Moore’s Law” originated with a 1965 article in Electronics magazine that said the number of transistors in a given area would double every year."
   ]
  },
  {
   "cell_type": "markdown",
   "metadata": {},
   "source": [
    "### ONLY use spark functions unless the question instructions say otherwise."
   ]
  },
  {
   "cell_type": "markdown",
   "metadata": {},
   "source": [
    "## Question 1 Load the Transistor Data (5 pts)\n",
    "- Read the MooresLaw.txt file into a spark data frame named trans_df using only spark.  The columns should be named as per the header in the txt file.\n",
    "- Print the first 5 rows of trans_df \n",
    "- Print the shape of trans_df (num_rows, num_cols)\n",
    "- Make sure to use the get_training_filename function above to obtain the file name based on your runtime environment"
   ]
  },
  {
   "cell_type": "code",
   "execution_count": 3,
   "metadata": {
    "scrolled": false
   },
   "outputs": [],
   "source": [
    "# your code here\n",
    "# Read the MooresLaw.txt file into a spark data frame named trans_df using only spark.\n",
    "raw_data = sc.textFile(\"MooresLaw.txt\").map(lambda x: x.split(\"\\t\")) \n",
    "# Split string with delimiter \"\\t\"\n",
    "headers = raw_data.first() \n",
    "body = raw_data.filter(lambda x: x != headers)\n",
    "# The columns is named as per the header in the txt file.\n",
    "trans_df = body.toDF(headers) \n",
    "# remove the last 3 columns with empty strings\n",
    "trans_df = trans_df.select(trans_df.columns[:3])\n",
    "# type(trans_df) shows it is a pyspark.sql.dataframe.DataFrame"
   ]
  },
  {
   "cell_type": "code",
   "execution_count": 4,
   "metadata": {
    "scrolled": false
   },
   "outputs": [
    {
     "name": "stdout",
     "output_type": "stream",
     "text": [
      "+---------------+------+-----------+\n",
      "|Intel Processor|  Year|Transistors|\n",
      "+---------------+------+-----------+\n",
      "|           4004|1971.9|       2300|\n",
      "|           8008|1972.3|       3500|\n",
      "|           8080|1974.3|       6000|\n",
      "|           8085|1976.3|       6500|\n",
      "|           8086|1978.5|      29000|\n",
      "+---------------+------+-----------+\n",
      "only showing top 5 rows\n",
      "\n"
     ]
    }
   ],
   "source": [
    "# Print the first 5 rows of trans_df\n",
    "trans_df.show(5)"
   ]
  },
  {
   "cell_type": "code",
   "execution_count": 5,
   "metadata": {},
   "outputs": [
    {
     "name": "stdout",
     "output_type": "stream",
     "text": [
      "(74, 3)\n"
     ]
    }
   ],
   "source": [
    "# Print the shape of trans_df (num_rows, num_cols)\n",
    "num_rows=trans_df.count()\n",
    "num_cols=len(trans_df.columns)\n",
    "shape=(num_rows,num_cols)\n",
    "print(shape)"
   ]
  },
  {
   "cell_type": "markdown",
   "metadata": {},
   "source": [
    "##### Grading Feedback Cell"
   ]
  },
  {
   "cell_type": "markdown",
   "metadata": {},
   "source": [
    "## Question 2 Transistor Data Cleanup (5 pts)\n",
    "- Drop all columns in trans_df except the Year and Transistors column.\n",
    "- Drop rows in trans_df that contain NaN vales\n",
    "- Prove that trans_df does not contain NaN values by showing a single integer sum of the number of Nan values in the dataframe (should equal 0)"
   ]
  },
  {
   "cell_type": "code",
   "execution_count": 6,
   "metadata": {
    "scrolled": false
   },
   "outputs": [
    {
     "name": "stdout",
     "output_type": "stream",
     "text": [
      "+------+-----------+\n",
      "|  Year|Transistors|\n",
      "+------+-----------+\n",
      "|1971.9|       2300|\n",
      "|1972.3|       3500|\n",
      "|1974.3|       6000|\n",
      "|1976.3|       6500|\n",
      "|1978.5|      29000|\n",
      "+------+-----------+\n",
      "only showing top 5 rows\n",
      "\n"
     ]
    }
   ],
   "source": [
    "# your code here\n",
    "# Drop all columns in trans_df except the Year and Transistors column.\n",
    "trans_df=trans_df.select([c for c in trans_df.columns if c in {'Year','Transistors'}])\n",
    "trans_df.show(5)\n",
    "# print(trans_df.printSchema())"
   ]
  },
  {
   "cell_type": "code",
   "execution_count": 7,
   "metadata": {},
   "outputs": [],
   "source": [
    "# convert the data type of Year and Transistors column to double\n",
    "trans_df=trans_df.withColumn('Year',trans_df['Year'].cast('double'))\n",
    "trans_df=trans_df.withColumn('Transistors',trans_df['Transistors'].cast('double'))"
   ]
  },
  {
   "cell_type": "code",
   "execution_count": 8,
   "metadata": {},
   "outputs": [],
   "source": [
    "# Drop rows in trans_df that contain NaN vales\n",
    "trans_df=trans_df.na.drop(how=\"all\")"
   ]
  },
  {
   "cell_type": "code",
   "execution_count": 9,
   "metadata": {},
   "outputs": [
    {
     "data": {
      "text/plain": [
       "0"
      ]
     },
     "execution_count": 9,
     "metadata": {},
     "output_type": "execute_result"
    }
   ],
   "source": [
    "# Prove that trans_df does not contain NaN values \n",
    "# by showing a single integer sum of the number of Nan values in the dataframe (should equal 0)\n",
    "trans_df.toPandas().isnull().sum().sum()"
   ]
  },
  {
   "cell_type": "markdown",
   "metadata": {},
   "source": [
    "##### Grading Feedback Cell\n",
    "-3 use of non spark methods to calculate sum"
   ]
  },
  {
   "cell_type": "markdown",
   "metadata": {},
   "source": [
    "## Question 3 Transistor Data Exploration (10 pts)\n"
   ]
  },
  {
   "cell_type": "markdown",
   "metadata": {},
   "source": [
    "### Question 3a (3 pts) \n",
    "Explore the data in trans_df by plotting transistors vs. year with a scatter plot.  You may use packages outside of spark to perform the task in question 3a."
   ]
  },
  {
   "cell_type": "code",
   "execution_count": 10,
   "metadata": {},
   "outputs": [
    {
     "data": {
      "image/png": "[encoded data removed]",
      "text/plain": [
       "<Figure size 432x288 with 1 Axes>"
      ]
     },
     "metadata": {
      "needs_background": "light"
     },
     "output_type": "display_data"
    }
   ],
   "source": [
    "# Your code here\n",
    "trans_df.select('Year','Transistors'). \\\n",
    " toPandas().plot(x='Year',y='Transistors',kind='scatter', \\\n",
    "                                 color='steelblue',alpha=0.5, \\\n",
    "                                 title=\"Scatter Plot of Transistors vs. Year\\n\");"
   ]
  },
  {
   "cell_type": "markdown",
   "metadata": {},
   "source": [
    "##### Grading Feedback Cell"
   ]
  },
  {
   "cell_type": "markdown",
   "metadata": {},
   "source": [
    "### Question 3b (3 pts)\n",
    "Compute the correlation between year and number of transistors in the trans_df using spark.  Print the resulting correlation value.  Interpret the correlation in words in the provided markdown cell."
   ]
  },
  {
   "cell_type": "code",
   "execution_count": 11,
   "metadata": {},
   "outputs": [
    {
     "name": "stdout",
     "output_type": "stream",
     "text": [
      "+-----------------------+\n",
      "|corr(Year, Transistors)|\n",
      "+-----------------------+\n",
      "|     0.5434352929286301|\n",
      "+-----------------------+\n",
      "\n"
     ]
    }
   ],
   "source": [
    "# your code here\n",
    "correlations = trans_df.select(fn.corr('Year','Transistors'))\n",
    "correlations.show()"
   ]
  },
  {
   "cell_type": "markdown",
   "metadata": {},
   "source": [
    "##### Grading Feedback Cell"
   ]
  },
  {
   "cell_type": "markdown",
   "metadata": {},
   "source": [
    "### Question 3c (4 pts) \n",
    "- Interpret the correlation value computed above in the markdown cell below."
   ]
  },
  {
   "cell_type": "markdown",
   "metadata": {},
   "source": [
    "Your correlation interpretation here:<br/>\n",
    "A correlation coefficient close to 1 means that there’s a very strong positive correlation between the two variables. A correlation coefficient close to 0 means that there is no linear relationship.<br/>\n",
    "In our case, the correlation coefficient between year and number of transistors is about 0.54, which means there is a moderate positive relationship between year and number of transistors. The more recent, the higher number of transistors."
   ]
  },
  {
   "cell_type": "markdown",
   "metadata": {},
   "source": [
    "##### Grading Feedback Cell"
   ]
  },
  {
   "cell_type": "markdown",
   "metadata": {},
   "source": [
    "## Question 4 Transform the Data (10 pts)"
   ]
  },
  {
   "cell_type": "markdown",
   "metadata": {},
   "source": [
    "### Question 4a (5 pts)\n",
    "- Create a new data frame named trans_df_2 that adds a log transform to the transistors col in trans_df.\n",
    "- Print the head of trans_df_2\n",
    "- Print the shape of trans_df_2"
   ]
  },
  {
   "cell_type": "code",
   "execution_count": 45,
   "metadata": {
    "scrolled": true
   },
   "outputs": [
    {
     "name": "stdout",
     "output_type": "stream",
     "text": [
      "Row(Year=1971.9, Transistors=2300.0, log_Transistors=7.7406644019172415)\n",
      "\n",
      "\n",
      "+------+-----------+------------------+\n",
      "|  Year|Transistors|   log_Transistors|\n",
      "+------+-----------+------------------+\n",
      "|1971.9|     2300.0|7.7406644019172415|\n",
      "|1972.3|     3500.0| 8.160518247477505|\n",
      "|1974.3|     6000.0| 8.699514748210191|\n",
      "|1976.3|     6500.0| 8.779557455883728|\n",
      "|1978.5|    29000.0|10.275051108968611|\n",
      "+------+-----------+------------------+\n",
      "only showing top 5 rows\n",
      "\n"
     ]
    }
   ],
   "source": [
    "# your code here\n",
    "# Create a new data frame named trans_df_2 that adds a log transform to the transistors col in trans_df.\n",
    "trans_df_2=trans_df.withColumn('log_Transistors', fn.log('Transistors')) # the base is e, not 2 or 10\n",
    "# Print the head of trans_df_2\n",
    "print(trans_df_2.head())\n",
    "print('\\n')\n",
    "trans_df_2.show(5)\n",
    "# print(trans_df_2.printSchema())"
   ]
  },
  {
   "cell_type": "code",
   "execution_count": 13,
   "metadata": {},
   "outputs": [],
   "source": [
    "# convert the datatype of log_Transistors to double\n",
    "trans_df_2=trans_df_2.withColumn('log_Transistors',trans_df_2['log_Transistors'].cast('double'))"
   ]
  },
  {
   "cell_type": "code",
   "execution_count": 14,
   "metadata": {},
   "outputs": [
    {
     "name": "stdout",
     "output_type": "stream",
     "text": [
      "(74, 3)\n"
     ]
    }
   ],
   "source": [
    "# Print the shape of trans_df_2\n",
    "num_rows_2=trans_df_2.count()\n",
    "num_cols_2=len(trans_df_2.columns)\n",
    "shape_2=(num_rows_2,num_cols_2)\n",
    "print(shape_2)"
   ]
  },
  {
   "cell_type": "markdown",
   "metadata": {},
   "source": [
    "##### Grading Feedback Cell\n",
    "I don't think it was necessary to cast log transistors to double - your own print schema command says it's already a double (on my system)."
   ]
  },
  {
   "cell_type": "markdown",
   "metadata": {},
   "source": [
    "### Question 4b (5 pts)\n",
    "- Using trans_df_2, create a scatter plot of log transistors vs. year.  You may use packages outside of spark for this task."
   ]
  },
  {
   "cell_type": "code",
   "execution_count": 15,
   "metadata": {},
   "outputs": [
    {
     "data": {
      "image/png": "[encoded data removed]",
      "text/plain": [
       "<Figure size 432x288 with 1 Axes>"
      ]
     },
     "metadata": {
      "needs_background": "light"
     },
     "output_type": "display_data"
    }
   ],
   "source": [
    "# Your code here\n",
    "trans_df_2.select('Year','log_Transistors'). \\\n",
    "toPandas(). \\\n",
    "plot(x='Year',y='log_Transistors',kind='scatter', \\\n",
    "     color='steelblue',alpha=0.5, \\\n",
    "     title=\"Scatter Plot of Log Transistors vs. Year\\n\");"
   ]
  },
  {
   "cell_type": "markdown",
   "metadata": {},
   "source": [
    "##### Grading Feedback Cell"
   ]
  },
  {
   "cell_type": "markdown",
   "metadata": {},
   "source": [
    "## Question 5 Fit a Linear Regression Pipeline (10 pts)"
   ]
  },
  {
   "cell_type": "markdown",
   "metadata": {},
   "source": [
    "### Question 5a ( 2 pts)\n",
    "- Split trans_df_2 into train and test splits with a 60:40 ratio.  Name the resulting data frames trans_train and trans_test.  Print the shape of of the train and test data frames."
   ]
  },
  {
   "cell_type": "code",
   "execution_count": 16,
   "metadata": {},
   "outputs": [],
   "source": [
    "# your code here\n",
    "# Split trans_df_2 into train and test splits with a 60:40 ratio, set seed as 7.\n",
    "trans_train, trans_test = trans_df_2.randomSplit([0.6, 0.4], 7)"
   ]
  },
  {
   "cell_type": "code",
   "execution_count": 17,
   "metadata": {
    "scrolled": false
   },
   "outputs": [
    {
     "name": "stdout",
     "output_type": "stream",
     "text": [
      "(44, 3)\n"
     ]
    }
   ],
   "source": [
    "# Print the shape of of the train data frames\n",
    "shape_train=(trans_train.count(),len(trans_train.columns))\n",
    "print(shape_train)"
   ]
  },
  {
   "cell_type": "code",
   "execution_count": 18,
   "metadata": {},
   "outputs": [
    {
     "name": "stdout",
     "output_type": "stream",
     "text": [
      "(30, 3)\n"
     ]
    }
   ],
   "source": [
    "# Print the shape of of the test data frames\n",
    "shape_test=(trans_test.count(),len(trans_test.columns))\n",
    "print(shape_test)"
   ]
  },
  {
   "cell_type": "markdown",
   "metadata": {},
   "source": [
    "##### Grading Feedback Cell"
   ]
  },
  {
   "cell_type": "markdown",
   "metadata": {},
   "source": [
    "### Question 5b (6 pts)\n",
    "- Create a spark pipeline named trans_pipe to perform linear regression\n",
    "- Fit the pipeline using the transistors as the targets and year as the features.  Name the resulting fitted pipeline fitted_trans_pipe.\n",
    "- Fit another pipeline using the log transistors column as the targets and year as the features.  Name the resulting fitted pipeline log_fitted_trans_pipe."
   ]
  },
  {
   "cell_type": "code",
   "execution_count": 19,
   "metadata": {},
   "outputs": [],
   "source": [
    "# your code here\n",
    "# Create a spark pipeline named trans_pipe to perform linear regression\n",
    "trans_pipe = Pipeline(stages=[\n",
    "  feature.VectorAssembler(inputCols=['Year'], outputCol='features'),\n",
    "  regression.LinearRegression(featuresCol='features', labelCol='Transistors')  \n",
    "])"
   ]
  },
  {
   "cell_type": "code",
   "execution_count": 20,
   "metadata": {},
   "outputs": [],
   "source": [
    "# Fit the pipeline using the transistors as the targets and year as the features. \n",
    "# Name the resulting fitted pipeline fitted_trans_pipe.\n",
    "fitted_trans_pipe=trans_pipe.fit(trans_train)"
   ]
  },
  {
   "cell_type": "code",
   "execution_count": 21,
   "metadata": {},
   "outputs": [],
   "source": [
    "# Fit another pipeline using the log transistors column as the targets and year as the features. \n",
    "# Name the resulting fitted pipeline log_fitted_trans_pipe.\n",
    "log_fitted_trans_pipe=Pipeline(stages=[\n",
    "  feature.VectorAssembler(inputCols=['Year'], outputCol='features'),\n",
    "  regression.LinearRegression(featuresCol='features', labelCol='log_Transistors')  \n",
    "]).fit(trans_train)"
   ]
  },
  {
   "cell_type": "markdown",
   "metadata": {},
   "source": [
    "##### Grading Feedback Cell"
   ]
  },
  {
   "cell_type": "markdown",
   "metadata": {},
   "source": [
    "### Question 5c (2 pts)\n",
    "- Print the linear regression coefficient in the linear regression object in each fitted model\n",
    "- Print the linear regression Y intercept in the linear regression object in each fitted model"
   ]
  },
  {
   "cell_type": "code",
   "execution_count": 22,
   "metadata": {},
   "outputs": [
    {
     "name": "stdout",
     "output_type": "stream",
     "text": [
      "coefficient of fitted_trans_pipe is:\n",
      " [64096886.85880633]\n",
      "Y intercept of fitted_trans_pipe is:\n",
      " -127544807442.83487\n"
     ]
    }
   ],
   "source": [
    "# your code here\n",
    "print(\"coefficient of fitted_trans_pipe is:\\n\", fitted_trans_pipe.stages[1].coefficients)\n",
    "print(\"Y intercept of fitted_trans_pipe is:\\n\",fitted_trans_pipe.stages[1].intercept)"
   ]
  },
  {
   "cell_type": "code",
   "execution_count": 23,
   "metadata": {},
   "outputs": [
    {
     "name": "stdout",
     "output_type": "stream",
     "text": [
      "coefficient of log_fitted_trans_pipe is:\n",
      " [0.328958818274656]\n",
      "Y intercept of log_fitted_trans_pipe is:\n",
      " -640.5301729647582\n"
     ]
    }
   ],
   "source": [
    "print(\"coefficient of log_fitted_trans_pipe is:\\n\",log_fitted_trans_pipe.stages[1].coefficients)\n",
    "print(\"Y intercept of log_fitted_trans_pipe is:\\n\",log_fitted_trans_pipe.stages[1].intercept)"
   ]
  },
  {
   "cell_type": "markdown",
   "metadata": {},
   "source": [
    "##### Grading Feedback Cell"
   ]
  },
  {
   "cell_type": "markdown",
   "metadata": {},
   "source": [
    "### Question 6 Test the linear regression pipeline (10 pts)"
   ]
  },
  {
   "cell_type": "markdown",
   "metadata": {},
   "source": [
    "### Question 6a (5 pts)\n",
    "- Compute mean squared error (MSE) using the transform method on each fitted model.\n",
    "- Print the resulting MSEs."
   ]
  },
  {
   "cell_type": "code",
   "execution_count": 24,
   "metadata": {},
   "outputs": [
    {
     "name": "stdout",
     "output_type": "stream",
     "text": [
      "The MSE of \n",
      "fitted_trans_pipe model:\n",
      "+--------------------+\n",
      "|                 mse|\n",
      "+--------------------+\n",
      "|1.922108074370393...|\n",
      "+--------------------+\n",
      "\n"
     ]
    }
   ],
   "source": [
    "# your code here\n",
    "print('The MSE of \\nfitted_trans_pipe model:')\n",
    "mse = fn.mean((fn.col('Transistors') - fn.col('prediction'))**2).alias('mse')\n",
    "fitted_trans_pipe.transform(trans_test).select(mse).show()"
   ]
  },
  {
   "cell_type": "code",
   "execution_count": 25,
   "metadata": {},
   "outputs": [
    {
     "name": "stdout",
     "output_type": "stream",
     "text": [
      "The MSE of \n",
      "log_fitted_trans_pipe model:\n",
      "+-------------------+\n",
      "|                mse|\n",
      "+-------------------+\n",
      "|0.44424679602832956|\n",
      "+-------------------+\n",
      "\n"
     ]
    }
   ],
   "source": [
    "print('The MSE of \\nlog_fitted_trans_pipe model:')\n",
    "mse = fn.mean((fn.col('log_Transistors') - fn.col('prediction'))**2).alias('mse')\n",
    "log_fitted_trans_pipe.transform(trans_test).select(mse).show()"
   ]
  },
  {
   "cell_type": "markdown",
   "metadata": {},
   "source": [
    "##### Grading Feedback Cell"
   ]
  },
  {
   "cell_type": "markdown",
   "metadata": {},
   "source": [
    "### Question 6b (5 pts)\n",
    "- Using log_fitted_trans_pipe and any needed support code, predict and print the number of transistors for the years 1970.0, 1980.0, 1990.0, 2000.0, and 2010.0"
   ]
  },
  {
   "cell_type": "code",
   "execution_count": 26,
   "metadata": {},
   "outputs": [
    {
     "name": "stdout",
     "output_type": "stream",
     "text": [
      "+------+---------------------+\n",
      "|  Year|Predicted Transistors|\n",
      "+------+---------------------+\n",
      "|1970.0|    1842.169139282012|\n",
      "|1980.0|    49428.73523889417|\n",
      "|1990.0|    1326262.510438612|\n",
      "|2000.0|  3.558602578223851E7|\n",
      "|2010.0|  9.548375385770988E8|\n",
      "+------+---------------------+\n",
      "\n"
     ]
    }
   ],
   "source": [
    "# Your code here\n",
    "# create the dataframe for new years\n",
    "test = spark.createDataFrame([(1970.0, 0), \\\n",
    "                              (1980.0, 0),(1990.0, 0), \\\n",
    "                              (2000.0, 0),(2010.0, 0)], \\\n",
    "                             [\"Year\", \"log_Transistors\"])\n",
    "# test.show()\n",
    "\n",
    "# Using log_fitted_trans_pipe to predict the number of transistors for new years \n",
    "prediction=log_fitted_trans_pipe.transform(test)\n",
    "# prediction.show()\n",
    "\n",
    "# The prediciton is the number of log_Transistors\n",
    "# calculate the exponent of log_Transistors to get the Transistors\n",
    "prediction=prediction.withColumn('Predicted Transistors', fn.exp('prediction')) \n",
    "# remove the uncessary columns\n",
    "prediction=prediction.select([c for c in prediction.columns if c in {'Year','Predicted Transistors'}])\n",
    "prediction.show()"
   ]
  },
  {
   "cell_type": "markdown",
   "metadata": {},
   "source": [
    "##### Grading Feedback Cell"
   ]
  },
  {
   "cell_type": "markdown",
   "metadata": {},
   "source": [
    "# Climate Change"
   ]
  },
  {
   "cell_type": "markdown",
   "metadata": {},
   "source": [
    "## Question 7 Load the global warming data (5 pts)\n",
    "- Read the globalWarm.txt file into a spark data frame named global_warm_df using only spark.  The columns should be named as per the header in the txt file.\n",
    "- Print the first 5 rows of global_warm_df \n",
    "- Print the shape of global_warm_df (num_rows, num_cols)\n",
    "- Make sure to use the get_training_filename function above to obtain the file name based on your runtime environment\n",
    "- A data description follows:\n",
    "<ul>\n",
    "<li/>Temp = annual surface temperature measured in 1/100<sup>o</sup> C   over the 1950-1980 mean.  \n",
    "<li/>Solar = annual mean intensity of sunlight piercing the atmosphere\n",
    "<li/>CO2 = annual average fraction CO<sub>2</sub> in atmosphere (#molecules/#molecules of dry air) \n",
    "<li/>IceShelf = sea ice in 1MM square miles  hypothesized to reflect heat\n",
    "<li/>Transmission = volcanic MLO transmission data where eruptions release greenhouse gases but also decrease the temperature\n",
    "</ul>"
   ]
  },
  {
   "cell_type": "code",
   "execution_count": 27,
   "metadata": {
    "scrolled": true
   },
   "outputs": [
    {
     "name": "stdout",
     "output_type": "stream",
     "text": [
      "+----+----+------+-------+------------+--------+\n",
      "|Year|Temp|   CO2|  Solar|Transmission|IceShelf|\n",
      "+----+----+------+-------+------------+--------+\n",
      "|1979|   8|336.67|1366.43| 0.928466667|     7.2|\n",
      "|1980|  19|338.57|1366.51| 0.929666667|    7.85|\n",
      "|1981|  26|339.92|1366.51| 0.929766667|    7.25|\n",
      "|1982|   4| 341.3|1366.16| 0.853066667|    7.45|\n",
      "|1983|  25|342.71|1366.18| 0.897716667|    7.52|\n",
      "+----+----+------+-------+------------+--------+\n",
      "only showing top 5 rows\n",
      "\n"
     ]
    }
   ],
   "source": [
    "# your code here\n",
    "# Read the globalWarm.txt file into a spark data frame named global_warm_df using only spark. \n",
    "# The columns should be named as per the header in the txt file.\n",
    "rdd = sc.textFile(\"globalWarm.txt\").map(lambda x: x.split(\"\\t\")) \n",
    "headers = rdd.first() \n",
    "rdd2 = rdd.filter(lambda x: x != headers)\n",
    "global_warm_df = rdd2.toDF(headers) \n",
    "# Print the first 5 rows of global_warm_df\n",
    "global_warm_df.show(5)"
   ]
  },
  {
   "cell_type": "code",
   "execution_count": 28,
   "metadata": {},
   "outputs": [
    {
     "name": "stdout",
     "output_type": "stream",
     "text": [
      "(32, 6)\n"
     ]
    }
   ],
   "source": [
    "# Print the shape of global_warm_df (num_rows, num_cols)\n",
    "shape=(global_warm_df.count(),len(global_warm_df.columns))\n",
    "print(shape)"
   ]
  },
  {
   "cell_type": "code",
   "execution_count": 29,
   "metadata": {},
   "outputs": [],
   "source": [
    "# conver the data type of each column to proper type for further analysis\n",
    "global_warm_df=global_warm_df.withColumn('Year',global_warm_df['Year'].cast('int'))\n",
    "global_warm_df=global_warm_df.withColumn('Temp',global_warm_df['Temp'].cast('int'))\n",
    "global_warm_df=global_warm_df.withColumn('CO2',global_warm_df['CO2'].cast('double'))\n",
    "global_warm_df=global_warm_df.withColumn('Solar',global_warm_df['Solar'].cast('double'))\n",
    "global_warm_df=global_warm_df.withColumn('Transmission',global_warm_df['Transmission'].cast('float'))\n",
    "global_warm_df=global_warm_df.withColumn('IceShelf',global_warm_df['IceShelf'].cast('double'))\n",
    "# global_warm_df.printSchema()"
   ]
  },
  {
   "cell_type": "markdown",
   "metadata": {},
   "source": [
    "##### Grading Feedback Cell"
   ]
  },
  {
   "cell_type": "markdown",
   "metadata": {},
   "source": [
    "## Question 8 Global Warming Data Exploration (5 pts)\n",
    "- Create a temperature vs. year scatter plot from global_warm_df\n",
    "- You may use packages outside of spark for this question"
   ]
  },
  {
   "cell_type": "code",
   "execution_count": 30,
   "metadata": {},
   "outputs": [
    {
     "data": {
      "image/png": "[encoded data removed]",
      "text/plain": [
       "<Figure size 432x288 with 1 Axes>"
      ]
     },
     "metadata": {
      "needs_background": "light"
     },
     "output_type": "display_data"
    }
   ],
   "source": [
    "# your code here\n",
    "global_warm_df.select('Year','Temp'). \\\n",
    "toPandas(). \\\n",
    "plot(x='Year',y='Temp',kind='scatter', \\\n",
    "     color='darkblue',alpha=0.5, \\\n",
    "     title=\"Scatter Plot of Temperature vs. Year\\n\");"
   ]
  },
  {
   "cell_type": "markdown",
   "metadata": {},
   "source": [
    "##### Grading Feedback Cell"
   ]
  },
  {
   "cell_type": "markdown",
   "metadata": {},
   "source": [
    "## Question 9 Global Warming Data Exploration (10 pts)\n"
   ]
  },
  {
   "cell_type": "markdown",
   "metadata": {},
   "source": [
    "### Question 9a (5 pts)\n",
    "- Using global_warm_df, create a pair plot of the following variables in a grid:  Temp, CO<sub>2</sub>, Solar, Transmission, and IceShelf.\n",
    "- You may use packages outside of spark for this question"
   ]
  },
  {
   "cell_type": "code",
   "execution_count": 31,
   "metadata": {},
   "outputs": [
    {
     "data": {
      "image/png": "[encoded data removed]",
      "text/plain": [
       "<Figure size 900x900 with 30 Axes>"
      ]
     },
     "metadata": {
      "needs_background": "light"
     },
     "output_type": "display_data"
    }
   ],
   "source": [
    "# your code here\n",
    "ax = sns.pairplot(global_warm_df.toPandas()[['Temp', 'CO2', 'Solar', 'Transmission', 'IceShelf']])\n",
    "ax.fig.suptitle(\"Global Warming Data Pair Plot\", y=1.01);"
   ]
  },
  {
   "cell_type": "markdown",
   "metadata": {},
   "source": [
    "##### Grading Feedback Cell"
   ]
  },
  {
   "cell_type": "markdown",
   "metadata": {},
   "source": [
    "### Question 9b (5 pts)\n",
    "- Compute a correlation matrix between Temp, CO<sub>2</sub>, Solar, Transmission, and IceShelf using spark.\n",
    "- Print a labeled correlation matrix."
   ]
  },
  {
   "cell_type": "code",
   "execution_count": 32,
   "metadata": {
    "scrolled": false
   },
   "outputs": [
    {
     "name": "stdout",
     "output_type": "stream",
     "text": [
      "+------------+--------------------+-------------------+--------------------+--------------------+--------------------+\n",
      "|            |                Temp|                CO2|               Solar|        Transmission|            IceShelf|\n",
      "+------------+--------------------+-------------------+--------------------+--------------------+--------------------+\n",
      "|        Temp|                 1.0| 0.8609274427038354|-0.34034204115225913| 0.43539404481653526| -0.7474254977372596|\n",
      "|         CO2|  0.8609274427038354|                1.0| -0.5428218983657372| 0.32822759918911637| -0.8469607794109111|\n",
      "|       Solar|-0.34034204115225913|-0.5428218983657372|                 1.0| -0.2058479518009041|  0.4706898204511034|\n",
      "|Transmission| 0.43539404481653526|0.32822759918911637| -0.2058479518009041|                 1.0|-0.30248395981398685|\n",
      "|    IceShelf| -0.7474254977372596|-0.8469607794109111|  0.4706898204511034|-0.30248395981398685|                 1.0|\n",
      "+------------+--------------------+-------------------+--------------------+--------------------+--------------------+\n",
      "\n"
     ]
    }
   ],
   "source": [
    "# your code here\n",
    "variables_corr=headers[1:]  # Year is not used in this question\n",
    "assembler = feature.VectorAssembler(inputCols=variables_corr,outputCol=\"corr_features\")  # combines a given list of columns into a single feature vector\n",
    "output = assembler.transform(global_warm_df)      # transforms global_warm_df with features into a DataFrame with \"corr_features\"\n",
    "cor_df=Correlation.corr(output, \"corr_features\")  # Correlation.corr(dataset, column, method='pearson')\n",
    "                                                  # column: The name of the column of vectors for which the correlation coefficient needs to be computed. \n",
    "                                                  # This must be a column of the dataset, and it must contain Vector objects.\n",
    "cor_matrix=cor_df.collect()[0][0]                 # cor_df is a pyspark.sql.dataframe , we need to extract the matrix\n",
    "rows = cor_matrix.toArray().tolist()              # convert the matrix to list for future presence\n",
    "correlation_df = spark.createDataFrame(rows,['col1','col2','col3','col4','col5'])\n",
    "variables_rdd = sc.parallelize(variables_corr)    # Add the variables name as the first column\n",
    "correlation_df=spark.createDataFrame(correlation_df.rdd.zip(variables_rdd).map(lambda x: (x[1],x[0][0], x[0][1],x[0][2],x[0][3],x[0][4])), [' ','Temp', 'CO2', 'Solar', 'Transmission', 'IceShelf'])\n",
    "correlation_df.show()\n",
    "# correlation_df.toPandas() can be used if the original df is messy."
   ]
  },
  {
   "cell_type": "markdown",
   "metadata": {},
   "source": [
    "##### Grading Feedback Cell "
   ]
  },
  {
   "cell_type": "markdown",
   "metadata": {},
   "source": [
    "## Question 10 Fit Linear Regression Pipelines (10 pts)"
   ]
  },
  {
   "cell_type": "markdown",
   "metadata": {},
   "source": [
    "### Question 10a (2 pts)\n",
    "Split global_warm_df into train and test splits with a 60:40 ratio.  Name the resulting data frames gw_train and gw_test.  Print the shape of of the train and test data frames.   "
   ]
  },
  {
   "cell_type": "code",
   "execution_count": 33,
   "metadata": {
    "scrolled": false
   },
   "outputs": [
    {
     "name": "stdout",
     "output_type": "stream",
     "text": [
      "(19, 6)\n"
     ]
    }
   ],
   "source": [
    "# your code here\n",
    "# Split global_warm_df into train and test splits with a 60:40 ratio.\n",
    "gw_train,gw_test=global_warm_df.randomSplit([0.6, 0.4], 7)\n",
    "# Print the shape of of the train data frames\n",
    "print((gw_train.count(),len(gw_train.columns)))\n",
    "#print(\"number of columns of gw_train:\",len(gw_train.columns))"
   ]
  },
  {
   "cell_type": "code",
   "execution_count": 34,
   "metadata": {},
   "outputs": [
    {
     "name": "stdout",
     "output_type": "stream",
     "text": [
      "(13, 6)\n"
     ]
    }
   ],
   "source": [
    "# Print the shape of of the test data frames\n",
    "# print(\"number of rows of gw_test:\",gw_test.count())\n",
    "# print(\"number of columns of gw_test:\",len(gw_test.columns))\n",
    "print((gw_test.count(),len(gw_test.columns)))"
   ]
  },
  {
   "cell_type": "markdown",
   "metadata": {},
   "source": [
    "##### Grading Feedback Cell"
   ]
  },
  {
   "cell_type": "markdown",
   "metadata": {},
   "source": [
    "### Question 10b (6 pts)\n",
    "- Create a spark pipeline named global_warm_pipe to perform linear regression.\n",
    "- Use the global_warm_df data frame\n",
    "- Fit a pipeline on the temp column as the target and CO2 as the feature.  Name the resulting fitted pipeline fitted_global_warm_pipe.\n",
    "- Fit another pipeline on the temp column as the target and all other columns except year as the features.  Name the resulting fitted pipeline fitted_global_warm_pipe_2."
   ]
  },
  {
   "cell_type": "code",
   "execution_count": 35,
   "metadata": {},
   "outputs": [],
   "source": [
    "# your code here\n",
    "global_warm_pipe=Pipeline(stages=[feature.VectorAssembler(inputCols=['CO2'],\n",
    "                                        outputCol='features'),\n",
    "                  regression.LinearRegression(labelCol='Temp', featuresCol='features')])\n",
    "fitted_global_warm_pipe=global_warm_pipe.fit(gw_train)"
   ]
  },
  {
   "cell_type": "code",
   "execution_count": 36,
   "metadata": {},
   "outputs": [],
   "source": [
    "fitted_global_warm_pipe_2=Pipeline(stages=[feature.VectorAssembler(inputCols=['CO2', 'Solar', 'Transmission', 'IceShelf'],\n",
    "                                        outputCol='features'),\n",
    "                  regression.LinearRegression(labelCol='Temp', featuresCol='features')]).fit(gw_train)"
   ]
  },
  {
   "cell_type": "markdown",
   "metadata": {},
   "source": [
    "##### Grading Feedback Cell"
   ]
  },
  {
   "cell_type": "markdown",
   "metadata": {},
   "source": [
    "### Question 10c (2 pts)\n",
    "- Print the linear regression coefficient(s) in the linear regression object in each fitted model\n",
    "- Print the linear regression Y intercept in the linear regression object in each fitted model"
   ]
  },
  {
   "cell_type": "code",
   "execution_count": 37,
   "metadata": {},
   "outputs": [
    {
     "name": "stdout",
     "output_type": "stream",
     "text": [
      "coefficient of fitted_global_warm_pipe is:\n",
      " [1.010937987055483]\n",
      "Y intercept of fitted_global_warm_pipe is:\n",
      " -329.632265555407\n"
     ]
    }
   ],
   "source": [
    "# your code here\n",
    "print(\"coefficient of fitted_global_warm_pipe is:\\n\",fitted_global_warm_pipe.stages[1].coefficients)\n",
    "print(\"Y intercept of fitted_global_warm_pipe is:\\n\",fitted_global_warm_pipe.stages[1].intercept)"
   ]
  },
  {
   "cell_type": "code",
   "execution_count": 38,
   "metadata": {},
   "outputs": [
    {
     "name": "stdout",
     "output_type": "stream",
     "text": [
      "coefficients of fitted_global_warm_pipe_2 are:\n",
      " [1.1308572156189602,7.663611979644797,267.78935667875106,1.414477956736755]\n",
      "Y intercept of fitted_global_warm_pipe_2 is:\n",
      " -11097.361309915506\n"
     ]
    }
   ],
   "source": [
    "print(\"coefficients of fitted_global_warm_pipe_2 are:\\n\",fitted_global_warm_pipe_2.stages[1].coefficients)\n",
    "print(\"Y intercept of fitted_global_warm_pipe_2 is:\\n\",fitted_global_warm_pipe_2.stages[1].intercept)"
   ]
  },
  {
   "cell_type": "markdown",
   "metadata": {},
   "source": [
    "##### Grading Feedback Cell"
   ]
  },
  {
   "cell_type": "markdown",
   "metadata": {},
   "source": [
    "### Question 11 Test the linear regression pipeline (10 pts)"
   ]
  },
  {
   "cell_type": "markdown",
   "metadata": {},
   "source": [
    "### Question 11a (5 pts)\n",
    "- Compute mean squared error (MSE) using the transform method on each fitted model.\n",
    "- Print the resulting MSEs."
   ]
  },
  {
   "cell_type": "code",
   "execution_count": 39,
   "metadata": {},
   "outputs": [
    {
     "name": "stdout",
     "output_type": "stream",
     "text": [
      "The MSE of \n",
      "fitted_global_warm_pipe:\n",
      "+-----------------+\n",
      "|              mse|\n",
      "+-----------------+\n",
      "|84.19203375744239|\n",
      "+-----------------+\n",
      "\n"
     ]
    }
   ],
   "source": [
    "# your code here\n",
    "mse = fn.mean((fn.col('Temp') - fn.col('prediction'))**2).alias('mse')\n",
    "print('The MSE of \\nfitted_global_warm_pipe:')\n",
    "fitted_global_warm_pipe.transform(gw_test).select(mse).show()"
   ]
  },
  {
   "cell_type": "code",
   "execution_count": 40,
   "metadata": {},
   "outputs": [
    {
     "name": "stdout",
     "output_type": "stream",
     "text": [
      "The MSE of \n",
      "fitted_global_warm_pipe_2:\n",
      "+-----------------+\n",
      "|              mse|\n",
      "+-----------------+\n",
      "|81.39071782817888|\n",
      "+-----------------+\n",
      "\n"
     ]
    }
   ],
   "source": [
    "print('The MSE of \\nfitted_global_warm_pipe_2:')\n",
    "fitted_global_warm_pipe_2.transform(gw_test).select(mse).show()"
   ]
  },
  {
   "cell_type": "markdown",
   "metadata": {},
   "source": [
    "##### Grading Feedback Cell"
   ]
  },
  {
   "cell_type": "markdown",
   "metadata": {},
   "source": [
    "### Question 11b (5 pts)\n",
    "- Which of the 2 models have higher performance.  In the cell below, describe why you think the better performing model made the model perform better."
   ]
  },
  {
   "cell_type": "markdown",
   "metadata": {},
   "source": [
    "Model 2 (fitted_global_warm_pipe_2) has higher performance because its mse is lower than Model 1. The reason why Model 2 performs better is that it takes more predictor ('CO2', 'Solar', 'Transmission', 'IceShelf') than Model 1 (only 'CO2'). <br/>Though more predictors do not necessarily increase model's performance. In our case, two predictors are highly related to the target, 'CO2' and 'IceShelf'. Model 1 only contains 'CO2' while model 2 contains more variables and some are highly related to the target, so it performs better. As we can see, the predcitor 'IceShelf' in model 2 is highly negatively related to the target 'Temp', which means this predictor would be useful in predicting the target variable and increases the performance of model. <br/>"
   ]
  },
  {
   "cell_type": "markdown",
   "metadata": {},
   "source": [
    "### Question 12 Inference (10 pts)"
   ]
  },
  {
   "cell_type": "markdown",
   "metadata": {},
   "source": [
    "### Question 12a Data Scaling (5 pts)\n",
    "Add data scaling to fitted_global_warm_pipe_2 above. Name the resulting fitted model fitted_global_warm_pipe_3.  Print the resulting fitted model coefficients such that each coefficient is clearly labeled with it's corresponding feature name."
   ]
  },
  {
   "cell_type": "code",
   "execution_count": 41,
   "metadata": {
    "scrolled": false
   },
   "outputs": [
    {
     "name": "stdout",
     "output_type": "stream",
     "text": [
      "Y intercept of fitted_global_warm_pipe_3 is:\n",
      " 37.21052631579007\n",
      "\n",
      "\n",
      "Coefficients of fitted_global_warm_pipe_3 are:\n",
      "scaled_CO2: 17.896086967663898\n",
      "scaled_Solar: 3.163742218597929\n",
      "scaled_Transmission: 4.309546826953219\n",
      "scaled_IceShelf: 1.426320749007481\n"
     ]
    }
   ],
   "source": [
    "# your code here\n",
    "fitted_global_warm_pipe_3=Pipeline(stages=[feature.VectorAssembler(inputCols=['CO2', 'Solar', 'Transmission', 'IceShelf'], \\\n",
    "                                        outputCol='features'),feature.StandardScaler(withMean=True,withStd=True, \\\n",
    "                                                                                     inputCol='features',outputCol=\"scaled_features\"), \\\n",
    "                                           regression.LinearRegression(labelCol='Temp', featuresCol='scaled_features')]).fit(gw_train)\n",
    "\n",
    "coef=fitted_global_warm_pipe_3.stages[-1].coefficients.values\n",
    "print(\"Y intercept of fitted_global_warm_pipe_3 is:\\n\",fitted_global_warm_pipe_3.stages[-1].intercept)\n",
    "print(\"\\n\")\n",
    "print(\"Coefficients of fitted_global_warm_pipe_3 are:\")\n",
    "print(\"scaled_CO2: \"+str(coef[0]))\n",
    "print(\"scaled_Solar: \"+str(coef[1]))\n",
    "print(\"scaled_Transmission: \"+str(coef[2]))\n",
    "print(\"scaled_IceShelf: \"+str(coef[3]))"
   ]
  },
  {
   "cell_type": "code",
   "execution_count": 42,
   "metadata": {
    "scrolled": true
   },
   "outputs": [
    {
     "name": "stdout",
     "output_type": "stream",
     "text": [
      "P-Values of estimated coefficients and intercept of fitted_global_warm_pipe_3 are:\n",
      "scaled_CO2: 0.0028029614604871966\n",
      "scaled_Solar: 0.2810588707418993\n",
      "scaled_Transmission: 0.11148202014495778\n",
      "scaled_IceShelf: 0.790880423953976\n",
      "intercept: 1.0708522957258992e-10\n",
      "\n",
      "\n",
      "Adjusted Rsquared: 0.735653\n"
     ]
    }
   ],
   "source": [
    "# Summarize the model over the training set and print out some metrics\n",
    "# reference: https://spark.apache.org/docs/2.2.0/ml-classification-regression.html#generalized-linear-regression\n",
    "summary = fitted_global_warm_pipe_3.stages[-1].summary\n",
    "pValues=summary.pValues\n",
    "print(\"P-Values of estimated coefficients and intercept of fitted_global_warm_pipe_3 are:\")\n",
    "print(\"scaled_CO2: \"+str(pValues[0]))\n",
    "print(\"scaled_Solar: \"+str(pValues[1]))\n",
    "print(\"scaled_Transmission: \"+str(pValues[2]))\n",
    "print(\"scaled_IceShelf: \"+str(pValues[3]))\n",
    "print(\"intercept: \"+str(pValues[4]))\n",
    "print(\"\\n\")\n",
    "print(\"Adjusted Rsquared: %f\" % summary.r2adj)"
   ]
  },
  {
   "cell_type": "markdown",
   "metadata": {},
   "source": [
    "### Question 12b Inference (5 pts)  \n",
    "Use the coefficients printed above to gain insights into the global warming problem. Describe your inference conclusions in the cell below."
   ]
  },
  {
   "cell_type": "markdown",
   "metadata": {},
   "source": [
    "Coefficient inference conclusions here:<br/>\n",
    "<br/>\n",
    "Regression coefficients represent the mean change in the response variable for one unit of change in the predictor variable while holding other predictors in the model constant. <br/>\n",
    "<br/>\n",
    "The coefficient of scaled_CO2, 17.896, implies that in our sample each additional scaled_CO2 is associated with 17.896 higher temperature. <br/>\n",
    "<br/>\n",
    "The coefficient of scaled_Solar, 3.164, suggests that a single additional scaled_Solar is associated with an additional 3.164 in temperature. <br/>\n",
    "<br/>\n",
    "The coefficient of scaled_Transmission, 4.310, implies that in each additional scaled_Transmission is associated with 4.310 higher temperature. <br/>\n",
    "<br/>\n",
    "The coefficient of scaled_IceShelf, 1.426, suggests that a single additional scaled_IceShelf is associated with an additional 1.426 in temperature. <br/>\n",
    "<br/>\n",
    "These coefficients table implies the equation for the best fitting line is given by: <br/>\n",
    "**Temperature = 37.210 + 17.896 * scaled_CO2 + 3.164 * scaled_Solar + 4.310 *  scaled_Transmission + 1.426 * scaled_IceShelf.**\n",
    "\n",
    "However, by checking the P-value of these predictor, we can see that scaled_Solar, scaled_Transmission, scaled_IceShelf have a P-value higher than a significance level equal to 5%, suggests that changes in these predictor are not significantly associated with changes in the temperature. Typically, we use the coefficient p-values to determine which terms to keep in the regression model. In the model above, we should consider removing scaled_Solar, scaled_Transmission, scaled_IceShelf."
   ]
  },
  {
   "cell_type": "markdown",
   "metadata": {},
   "source": [
    "##### Grading Feedback Cell"
   ]
  },
  {
   "cell_type": "markdown",
   "metadata": {},
   "source": [
    "# Question 13 Extra Credit (10 pts)\n",
    "This question is optional.  No points will be deducted from your score if you do not attempt this problem.<br>\n",
    "\n",
    "Starting with the rdd class presented in lecture (maintaining all class method names), implement a my_reduce method in the rdd class.  Your implementation shall maintain rdd class immutability.  Your my_reduce method return type should be consistent with the return type in the real Spark reduce method. Do some research and see what the Spark reduce return type would be.  <br>\n",
    "\n",
    "Implement a function named times_3 which returns its input multiplied by 3. Implement a function named is_even that returns true if it's input is even, false otherwise.  Implement a my_sum function that returns the sum of its 2 inputs.  <br>\n",
    "\n",
    "Your overall implementation should not rely on receiving specific data types as inputs.  For example, the plus operator works on more than just ints and floats."
   ]
  },
  {
   "cell_type": "code",
   "execution_count": 43,
   "metadata": {},
   "outputs": [],
   "source": [
    "# your code here\n",
    "# define our own simple as possible rdd class\n",
    "def times_3(x):\n",
    "    return x*3 \n",
    "\n",
    "def is_even(x):\n",
    "    if x%2 == 0:\n",
    "        return True\n",
    "    else:\n",
    "        return False\n",
    "    \n",
    "def my_sum(x1,x2):\n",
    "    return x1+x2\n",
    "\n",
    "class rdd:\n",
    "    def __init__(self, arg_array):\n",
    "        self.local_array = arg_array\n",
    "    \n",
    "    # define our own map function\n",
    "    def my_map(self, fun):\n",
    "        if len(self.local_array) < 1:\n",
    "            raise Exception(\"my_map: len(local_array) < 1\")\n",
    "        \n",
    "        # create a new numpy array to hold the result\n",
    "        # remember that rdd's are supposed to be immutable\n",
    "        mapped = np.empty_like(self.local_array)\n",
    "        \n",
    "        # for each element in the local array\n",
    "        for i, el in enumerate(self.local_array):\n",
    "            # execute the user defined function on this element\n",
    "            mapped[i] = fun(self.local_array[i])\n",
    "        \n",
    "        # This is the key to how the data is passed.  The return value is another rdd object!\n",
    "        # The fact that we are returning a new rdd is the key to how chaining works\n",
    "        # create a new rdd using the array created by applying the user defined function\n",
    "        return rdd(mapped)\n",
    "    \n",
    "    def my_filter(self, fun):\n",
    "        # create a temporary list to store the filtered results\n",
    "        transformed = []\n",
    "\n",
    "        for el in self.local_array:\n",
    "            if fun(el):\n",
    "                transformed.append(el)\n",
    "                \n",
    "        return rdd(np.array(transformed))\n",
    "    \n",
    "    def my_reduce (self, fun):\n",
    "        total=self.local_array[0]\n",
    "        \n",
    "        for i in range(1,len(self.local_array)):\n",
    "            total=fun(total,self.local_array[i])\n",
    "            \n",
    "        return total\n",
    "        \n",
    "    def collect(self):\n",
    "        return self.local_array"
   ]
  },
  {
   "cell_type": "code",
   "execution_count": 44,
   "metadata": {
    "scrolled": true
   },
   "outputs": [
    {
     "name": "stdout",
     "output_type": "stream",
     "text": [
      "<class 'numpy.int64'>\n",
      "7350\n"
     ]
    }
   ],
   "source": [
    "# Simple test code\n",
    "test_rdd = rdd(np.arange(100))\n",
    "result = test_rdd.my_map(times_3).my_filter(is_even).my_reduce(my_sum)\n",
    "print(type(result))\n",
    "print(result)\n",
    "# secret grading test code follows"
   ]
  },
  {
   "cell_type": "markdown",
   "metadata": {},
   "source": [
    "# Grading Feedback Cell\n",
    "+10: Nicely done!"
   ]
  }
 ],
 "metadata": {
  "celltoolbar": "Edit Metadata",
  "kernelspec": {
   "display_name": "Python 3",
   "language": "python",
   "name": "python3"
  },
  "language_info": {
   "codemirror_mode": {
    "name": "ipython",
    "version": 3
   },
   "file_extension": ".py",
   "mimetype": "text/x-python",
   "name": "python",
   "nbconvert_exporter": "python",
   "pygments_lexer": "ipython3",
   "version": "3.7.3"
  }
 },
 "nbformat": 4,
 "nbformat_minor": 2
}
