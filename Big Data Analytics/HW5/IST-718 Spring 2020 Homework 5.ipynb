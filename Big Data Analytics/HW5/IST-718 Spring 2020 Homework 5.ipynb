{
 "cells": [
  {
   "cell_type": "markdown",
   "metadata": {},
   "source": [
    "##### Grading Feedback Cell\n",
    "93%"
   ]
  },
  {
   "cell_type": "markdown",
   "metadata": {
    "deletable": false,
    "nbgrader": {
     "checksum": "c51f80b694da894627ba37be28c86055",
     "grade": false,
     "grade_id": "cell-b038e38b5e3072a9",
     "locked": true,
     "schema_version": 1,
     "solution": false
    }
   },
   "source": [
    "# IST 718: Big Data Analytics\n",
    "\n",
    "- Professor: Willard Williamson <wewillia@syr.edu>\n",
    "- Faculty Assistant: Yash Pasar <yspasar@syr.edu>\n",
    "## General instructions:\n",
    "\n",
    "- You are welcome to discuss the problems with your classmates but __you are not allowed to copy any part of your answers from your classmates.  Short code snippets are allowed from the internet.  Code from the class text books or class provided code can be copied in its entirety.__\n",
    "- There could be tests in some cells (i.e., `assert` and `np.testing.` statements). These tests (if present) are used to grade your answers. **However, the professor and FAs could use __additional__ test for your answer. Think about cases where your code should run even if it passess all the tests you see.**\n",
    "- Before submitting your work, remember to check for run time errors with the following procedure:\n",
    "`Kernel`$\\rightarrow$`Restart and Run All`.  All runtime errors will result in a minimum penalty of half off.\n",
    "- Data Bricks is the official class runtime environment so you should test your code on Data Bricks before submission.  If there is a runtime problem in the grading environment, we will try your code on Data Bricks before making a final grading decision.\n",
    "- All plots shall include a title, and axis labels.\n",
    "- Grading feedback cells are there for graders to provide feedback to students.  Don't change or remove grading feedback cells.\n",
    "- Don't add or remove files from your git repo.\n",
    "- Do not change file names in your repo.  This also means don't change the title of the ipython notebook.\n",
    "- You are free to add additional code cells around the cells marked `your code here`.\n",
    "- __Only use spark, spark machine learning, spark data frames, RDD's, and map reduce to solve all problems unless instructed otherwise.__"
   ]
  },
  {
   "cell_type": "code",
   "execution_count": 1,
   "metadata": {},
   "outputs": [],
   "source": [
    "# import statements\n",
    "# Create Spark Session and Spark Context\n",
    "from pyspark.sql import SparkSession\n",
    "from pyspark.sql import Row\n",
    "spark = SparkSession.builder.getOrCreate()\n",
    "sc = spark.sparkContext\n",
    "import requests\n",
    "from pyspark.ml.feature import Tokenizer, CountVectorizer, IDF\n",
    "from pyspark.ml import clustering\n",
    "from pyspark.ml import feature, Pipeline\n",
    "from pyspark.sql import functions as fn\n",
    "from pyspark.sql.functions import isnan, when, count, col\n",
    "\n",
    "import numpy as np\n",
    "import pandas as pd\n",
    "import seaborn as sns\n",
    "import matplotlib.pyplot as plt\n",
    "\n",
    "pd.set_option('display.max_columns', None)  \n",
    "pd.set_option('display.expand_frame_repr', False)\n",
    "pd.set_option('max_colwidth', -1)"
   ]
  },
  {
   "cell_type": "markdown",
   "metadata": {},
   "source": [
    "The following cell is used to determine if the environment is databricks or personal computer and determine the correct data file path accordingly."
   ]
  },
  {
   "cell_type": "code",
   "execution_count": 2,
   "metadata": {
    "deletable": false,
    "editable": false,
    "nbgrader": {
     "checksum": "ed593a17eab4017a9129cd4ad457fc98",
     "grade": true,
     "grade_id": "cell-20fb7c865c3ddf0e",
     "locked": true,
     "points": 10,
     "schema_version": 1,
     "solution": false
    }
   },
   "outputs": [],
   "source": [
    "# Do not delete or change this cell\n",
    "\n",
    "import os\n",
    "\n",
    "# Define a function to determine if we are running on data bricks\n",
    "# Return true if running in the data bricks environment, false otherwise\n",
    "def is_databricks():\n",
    "    # get the databricks runtime version\n",
    "    db_env = os.getenv(\"DATABRICKS_RUNTIME_VERSION\")\n",
    "    \n",
    "    # if running on data bricks\n",
    "    if db_env != None:\n",
    "        return True\n",
    "    else:\n",
    "        return False\n",
    "\n",
    "# Define a function to read the data file.  The full path data file name is constructed\n",
    "# by checking runtime environment variables to determine if the runtime environment is \n",
    "# databricks, or a student's personal computer.  The full path file name is then\n",
    "# constructed based on the runtime env.\n",
    "# \n",
    "# Params\n",
    "#   data_file_name: The base name of the data file to load\n",
    "# \n",
    "# Returns the full path file name based on the runtime env\n",
    "#\n",
    "def get_training_filename(data_file_name):    \n",
    "    # if running on data bricks\n",
    "    if is_databricks():\n",
    "        # build the full path file name assuming data brick env\n",
    "        full_path_name = \"/FileStore/tables/%s\" % data_file_name\n",
    "    # else the data is assumed to be in the same dir as this notebook\n",
    "    else:\n",
    "        # Assume the student is running on their own computer and load the data\n",
    "        # file from the same dir as this notebook\n",
    "        full_path_name = data_file_name\n",
    "    \n",
    "    # return the full path file name to the caller\n",
    "    return full_path_name"
   ]
  },
  {
   "cell_type": "markdown",
   "metadata": {},
   "source": [
    "# Unsupervised learning"
   ]
  },
  {
   "cell_type": "markdown",
   "metadata": {},
   "source": [
    "The colleges_data_science_programs dataset contains information about dozens of \"data science\" programs across the US."
   ]
  },
  {
   "cell_type": "markdown",
   "metadata": {},
   "source": [
    "## Question 1: (10 pts)\n",
    "\n",
    "This dataset contains many columns that we can use to understand how these data science programs differ from one another."
   ]
  },
  {
   "cell_type": "markdown",
   "metadata": {},
   "source": [
    "## Question 1a (5 pts)\n",
    "Using get_training_filename, read the colleges_data_science_programs.csv data file into a data frame named raw_ds_programs_text_df.  Print the head of the raw_ds_programs_text_df using Pandas, and the shape using spark."
   ]
  },
  {
   "cell_type": "code",
   "execution_count": 3,
   "metadata": {},
   "outputs": [],
   "source": [
    "# Your code here\n",
    "# Using get_training_filename, read the colleges_data_science_programs.csv data file into a data frame\n",
    "raw_ds_programs_text_df = spark.read.csv(get_training_filename('colleges_data_science_programs.csv'), header=True, inferSchema=True)"
   ]
  },
  {
   "cell_type": "code",
   "execution_count": 4,
   "metadata": {
    "scrolled": false
   },
   "outputs": [
    {
     "data": {
      "text/html": [
       "<div>\n",
       "<style scoped>\n",
       "    .dataframe tbody tr th:only-of-type {\n",
       "        vertical-align: middle;\n",
       "    }\n",
       "\n",
       "    .dataframe tbody tr th {\n",
       "        vertical-align: top;\n",
       "    }\n",
       "\n",
       "    .dataframe thead th {\n",
       "        text-align: right;\n",
       "    }\n",
       "</style>\n",
       "<table border=\"1\" class=\"dataframe\">\n",
       "  <thead>\n",
       "    <tr style=\"text-align: right;\">\n",
       "      <th></th>\n",
       "      <th>id</th>\n",
       "      <th>name</th>\n",
       "      <th>url</th>\n",
       "      <th>program</th>\n",
       "      <th>degree</th>\n",
       "      <th>country</th>\n",
       "      <th>state</th>\n",
       "      <th>online</th>\n",
       "      <th>oncampus</th>\n",
       "      <th>department</th>\n",
       "      <th>created_at</th>\n",
       "      <th>updated_at</th>\n",
       "      <th>university_count</th>\n",
       "      <th>program_size</th>\n",
       "      <th>courses</th>\n",
       "      <th>admit_reqs</th>\n",
       "      <th>year_founded</th>\n",
       "      <th>notes</th>\n",
       "      <th>cost</th>\n",
       "      <th>visualization</th>\n",
       "      <th>machine learning</th>\n",
       "      <th>business</th>\n",
       "      <th>databases</th>\n",
       "      <th>programminglanguages</th>\n",
       "      <th>capstone</th>\n",
       "      <th>mapreduce</th>\n",
       "      <th>part-time</th>\n",
       "      <th>ethics</th>\n",
       "    </tr>\n",
       "  </thead>\n",
       "  <tbody>\n",
       "    <tr>\n",
       "      <td>0</td>\n",
       "      <td>1</td>\n",
       "      <td>South Dakota State University</td>\n",
       "      <td>http://www.sdstate.edu/mathstat/grad/masters-in-data-science.cfm</td>\n",
       "      <td>Data Science</td>\n",
       "      <td>Masters</td>\n",
       "      <td>US</td>\n",
       "      <td>SD</td>\n",
       "      <td>False</td>\n",
       "      <td>True</td>\n",
       "      <td>Mathematics and Statistics</td>\n",
       "      <td>2015-01-10 04:13:13 UTC</td>\n",
       "      <td>2015-01-10 04:13:13 UTC</td>\n",
       "      <td>1</td>\n",
       "      <td>None</td>\n",
       "      <td>None</td>\n",
       "      <td>None</td>\n",
       "      <td>NaN</td>\n",
       "      <td>None</td>\n",
       "      <td>None</td>\n",
       "      <td>None</td>\n",
       "      <td>None</td>\n",
       "      <td>None</td>\n",
       "      <td>None</td>\n",
       "      <td>None</td>\n",
       "      <td>None</td>\n",
       "      <td>None</td>\n",
       "      <td>None</td>\n",
       "      <td>None</td>\n",
       "    </tr>\n",
       "    <tr>\n",
       "      <td>1</td>\n",
       "      <td>2</td>\n",
       "      <td>Dakota State University</td>\n",
       "      <td>http://www.dsu.edu/msa/</td>\n",
       "      <td>Analytics</td>\n",
       "      <td>Masters</td>\n",
       "      <td>US</td>\n",
       "      <td>SD</td>\n",
       "      <td>True</td>\n",
       "      <td>True</td>\n",
       "      <td>Business and Information Systems</td>\n",
       "      <td>2015-01-10 04:13:13 UTC</td>\n",
       "      <td>2015-01-10 04:13:13 UTC</td>\n",
       "      <td>1</td>\n",
       "      <td>None</td>\n",
       "      <td>None</td>\n",
       "      <td>None</td>\n",
       "      <td>NaN</td>\n",
       "      <td>None</td>\n",
       "      <td>None</td>\n",
       "      <td>None</td>\n",
       "      <td>None</td>\n",
       "      <td>None</td>\n",
       "      <td>None</td>\n",
       "      <td>None</td>\n",
       "      <td>None</td>\n",
       "      <td>None</td>\n",
       "      <td>None</td>\n",
       "      <td>None</td>\n",
       "    </tr>\n",
       "    <tr>\n",
       "      <td>2</td>\n",
       "      <td>3</td>\n",
       "      <td>Lewis University</td>\n",
       "      <td>http://www.lewisu.edu/academics/data-science/index.htm</td>\n",
       "      <td>Data Science</td>\n",
       "      <td>Masters</td>\n",
       "      <td>US</td>\n",
       "      <td>IL</td>\n",
       "      <td>True</td>\n",
       "      <td>True</td>\n",
       "      <td>Computer Science</td>\n",
       "      <td>2015-01-10 04:13:13 UTC</td>\n",
       "      <td>2015-01-10 04:13:13 UTC</td>\n",
       "      <td>1</td>\n",
       "      <td>None</td>\n",
       "      <td>None</td>\n",
       "      <td>None</td>\n",
       "      <td>NaN</td>\n",
       "      <td>None</td>\n",
       "      <td>None</td>\n",
       "      <td>None</td>\n",
       "      <td>None</td>\n",
       "      <td>None</td>\n",
       "      <td>None</td>\n",
       "      <td>None</td>\n",
       "      <td>None</td>\n",
       "      <td>None</td>\n",
       "      <td>None</td>\n",
       "      <td>None</td>\n",
       "    </tr>\n",
       "    <tr>\n",
       "      <td>3</td>\n",
       "      <td>4</td>\n",
       "      <td>Saint Joseph's University</td>\n",
       "      <td>http://online.sju.edu/programs/business-intelligence-masters.asp</td>\n",
       "      <td>Business Intelligence &amp; Analytics</td>\n",
       "      <td>Masters</td>\n",
       "      <td>US</td>\n",
       "      <td>PA</td>\n",
       "      <td>True</td>\n",
       "      <td>True</td>\n",
       "      <td>Business</td>\n",
       "      <td>2015-01-10 04:13:13 UTC</td>\n",
       "      <td>2015-01-10 04:13:13 UTC</td>\n",
       "      <td>1</td>\n",
       "      <td>None</td>\n",
       "      <td>None</td>\n",
       "      <td>None</td>\n",
       "      <td>NaN</td>\n",
       "      <td>None</td>\n",
       "      <td>None</td>\n",
       "      <td>None</td>\n",
       "      <td>None</td>\n",
       "      <td>None</td>\n",
       "      <td>None</td>\n",
       "      <td>None</td>\n",
       "      <td>None</td>\n",
       "      <td>None</td>\n",
       "      <td>None</td>\n",
       "      <td>None</td>\n",
       "    </tr>\n",
       "    <tr>\n",
       "      <td>4</td>\n",
       "      <td>5</td>\n",
       "      <td>University Of Leeds</td>\n",
       "      <td>http://www.engineering.leeds.ac.uk/computing/postgraduate/masters-advanced-computer-science/</td>\n",
       "      <td>Advanced Computer Science(Data Analytics)</td>\n",
       "      <td>Masters</td>\n",
       "      <td>GB</td>\n",
       "      <td>None</td>\n",
       "      <td>False</td>\n",
       "      <td>True</td>\n",
       "      <td>Computer Science</td>\n",
       "      <td>2015-01-10 04:13:13 UTC</td>\n",
       "      <td>2015-01-10 04:13:13 UTC</td>\n",
       "      <td>1</td>\n",
       "      <td>None</td>\n",
       "      <td>None</td>\n",
       "      <td>None</td>\n",
       "      <td>NaN</td>\n",
       "      <td>None</td>\n",
       "      <td>None</td>\n",
       "      <td>None</td>\n",
       "      <td>None</td>\n",
       "      <td>None</td>\n",
       "      <td>None</td>\n",
       "      <td>None</td>\n",
       "      <td>None</td>\n",
       "      <td>None</td>\n",
       "      <td>None</td>\n",
       "      <td>None</td>\n",
       "    </tr>\n",
       "  </tbody>\n",
       "</table>\n",
       "</div>"
      ],
      "text/plain": [
       "   id                           name                                                                                           url                                    program   degree country state  online  oncampus                        department               created_at               updated_at  university_count program_size courses admit_reqs  year_founded notes  cost visualization machine learning business databases programminglanguages capstone mapreduce part-time ethics\n",
       "0  1   South Dakota State University  http://www.sdstate.edu/mathstat/grad/masters-in-data-science.cfm                              Data Science                               Masters  US      SD    False   True      Mathematics and Statistics        2015-01-10 04:13:13 UTC  2015-01-10 04:13:13 UTC  1                 None         None    None      NaN            None  None  None          None             None     None      None                 None     None      None      None \n",
       "1  2   Dakota State University        http://www.dsu.edu/msa/                                                                       Analytics                                  Masters  US      SD    True    True      Business and Information Systems  2015-01-10 04:13:13 UTC  2015-01-10 04:13:13 UTC  1                 None         None    None      NaN            None  None  None          None             None     None      None                 None     None      None      None \n",
       "2  3   Lewis University               http://www.lewisu.edu/academics/data-science/index.htm                                        Data Science                               Masters  US      IL    True    True      Computer Science                  2015-01-10 04:13:13 UTC  2015-01-10 04:13:13 UTC  1                 None         None    None      NaN            None  None  None          None             None     None      None                 None     None      None      None \n",
       "3  4   Saint Joseph's University      http://online.sju.edu/programs/business-intelligence-masters.asp                              Business Intelligence & Analytics          Masters  US      PA    True    True      Business                          2015-01-10 04:13:13 UTC  2015-01-10 04:13:13 UTC  1                 None         None    None      NaN            None  None  None          None             None     None      None                 None     None      None      None \n",
       "4  5   University Of Leeds            http://www.engineering.leeds.ac.uk/computing/postgraduate/masters-advanced-computer-science/  Advanced Computer Science(Data Analytics)  Masters  GB      None  False   True      Computer Science                  2015-01-10 04:13:13 UTC  2015-01-10 04:13:13 UTC  1                 None         None    None      NaN            None  None  None          None             None     None      None                 None     None      None      None "
      ]
     },
     "execution_count": 4,
     "metadata": {},
     "output_type": "execute_result"
    }
   ],
   "source": [
    "# Print the head of the raw_ds_programs_text_df using Pandas\n",
    "raw_ds_programs_text_df.toPandas().head()"
   ]
  },
  {
   "cell_type": "code",
   "execution_count": 5,
   "metadata": {},
   "outputs": [
    {
     "name": "stdout",
     "output_type": "stream",
     "text": [
      "The shape of raw_ds_programs_text_df is:  222 rows,  28 columns.\n"
     ]
    }
   ],
   "source": [
    "# Print the shape using spark.\n",
    "print('The shape of raw_ds_programs_text_df is: '\n",
    "      ,raw_ds_programs_text_df.count()\n",
    "      ,\"rows, \"\n",
    "      ,len(raw_ds_programs_text_df.columns),\"columns.\")"
   ]
  },
  {
   "cell_type": "code",
   "execution_count": 6,
   "metadata": {
    "scrolled": true
   },
   "outputs": [],
   "source": [
    "### Explore the dataset\n",
    "# check the structure of df\n",
    "# raw_ds_programs_text_df.printSchema()\n",
    "# check missing values\n",
    "# raw_ds_programs_text_df.select([count(when(col(c).isNull(), c)).alias(c) for c in raw_ds_programs_text_df.columns]).show()\n",
    "# there are 90 missing values in 'department' variable"
   ]
  },
  {
   "cell_type": "code",
   "execution_count": 7,
   "metadata": {},
   "outputs": [
    {
     "name": "stdout",
     "output_type": "stream",
     "text": [
      "+-------+------+----------+\n",
      "|program|degree|department|\n",
      "+-------+------+----------+\n",
      "|      0|     0|        90|\n",
      "+-------+------+----------+\n",
      "\n"
     ]
    }
   ],
   "source": [
    "# check missing values \n",
    "# raw_ds_programs_text_df.where(fn.col('department').isNull()).count()\n",
    "raw_ds_programs_text_df.select([count(when(col(c).isNull(), c)).alias(c) for c in ['program', 'degree', 'department']]).show()"
   ]
  },
  {
   "cell_type": "markdown",
   "metadata": {},
   "source": [
    "##### Grading Feedback Cell"
   ]
  },
  {
   "cell_type": "markdown",
   "metadata": {},
   "source": [
    "## Question 1b (5 pts)\n",
    "Starting with `raw_ds_programs_text_df`, create a new dataframe named`ds_programs_text_df` which simply adds a column `text` to the dataframe `raw_ds_programs_df`. This column will have the concatenation of the following columns separated by a space: `program`, `degree` and `department` (find the appropriate function in the `fn` package). <br>\n",
    "\n",
    "An example of the `ds_programs_text_df` should give you:\n",
    "\n",
    "```python\n",
    "ds_programs_text_df.orderBy('id').first().text\n",
    "```\n",
    "\n",
    "```console\n",
    "'Data Science Masters Mathematics and Statistics'\n",
    "```\n",
    "<br>\n",
    "- Print the head of the raw_ds_programs_text_df using Pandas, and the shape using spark.<br>\n",
    "- Print the text column in the first row of the ds_programs_text_df."
   ]
  },
  {
   "cell_type": "code",
   "execution_count": 8,
   "metadata": {
    "deletable": false,
    "nbgrader": {
     "checksum": "cb982914cbab5d8d552cafcab8a6f41b",
     "grade": false,
     "grade_id": "cell-18ebd4f77c37a8e3",
     "locked": false,
     "schema_version": 1,
     "solution": true
    }
   },
   "outputs": [
    {
     "data": {
      "text/plain": [
       "'Data Science Masters Mathematics and Statistics'"
      ]
     },
     "execution_count": 8,
     "metadata": {},
     "output_type": "execute_result"
    }
   ],
   "source": [
    "# Your code here\n",
    "\n",
    "# fill the missing values in department with white space\n",
    "raw_ds_programs_text_df = raw_ds_programs_text_df.na.fill({'department': ''})\n",
    "# the number of missing values in department is 0\n",
    "raw_ds_programs_text_df.where(fn.col('department').isNull()).count()\n",
    "\n",
    "# add a column text that has the concatenation of the following columns separated by a space: program, degree and department\n",
    "ds_programs_text_df = raw_ds_programs_text_df.withColumn('text',fn.concat(fn.col('program')\n",
    "                                                                         ,fn.lit(' '), fn.col('degree')\n",
    "                                                                         ,fn.lit(' '),fn.col('department')))\n",
    "# An example of the ds_programs_text_df\n",
    "ds_programs_text_df.orderBy('id').first().text"
   ]
  },
  {
   "cell_type": "code",
   "execution_count": 9,
   "metadata": {},
   "outputs": [
    {
     "data": {
      "text/html": [
       "<div>\n",
       "<style scoped>\n",
       "    .dataframe tbody tr th:only-of-type {\n",
       "        vertical-align: middle;\n",
       "    }\n",
       "\n",
       "    .dataframe tbody tr th {\n",
       "        vertical-align: top;\n",
       "    }\n",
       "\n",
       "    .dataframe thead th {\n",
       "        text-align: right;\n",
       "    }\n",
       "</style>\n",
       "<table border=\"1\" class=\"dataframe\">\n",
       "  <thead>\n",
       "    <tr style=\"text-align: right;\">\n",
       "      <th></th>\n",
       "      <th>id</th>\n",
       "      <th>name</th>\n",
       "      <th>url</th>\n",
       "      <th>program</th>\n",
       "      <th>degree</th>\n",
       "      <th>country</th>\n",
       "      <th>state</th>\n",
       "      <th>online</th>\n",
       "      <th>oncampus</th>\n",
       "      <th>department</th>\n",
       "      <th>created_at</th>\n",
       "      <th>updated_at</th>\n",
       "      <th>university_count</th>\n",
       "      <th>program_size</th>\n",
       "      <th>courses</th>\n",
       "      <th>admit_reqs</th>\n",
       "      <th>year_founded</th>\n",
       "      <th>notes</th>\n",
       "      <th>cost</th>\n",
       "      <th>visualization</th>\n",
       "      <th>machine learning</th>\n",
       "      <th>business</th>\n",
       "      <th>databases</th>\n",
       "      <th>programminglanguages</th>\n",
       "      <th>capstone</th>\n",
       "      <th>mapreduce</th>\n",
       "      <th>part-time</th>\n",
       "      <th>ethics</th>\n",
       "      <th>text</th>\n",
       "    </tr>\n",
       "  </thead>\n",
       "  <tbody>\n",
       "    <tr>\n",
       "      <td>0</td>\n",
       "      <td>1</td>\n",
       "      <td>South Dakota State University</td>\n",
       "      <td>http://www.sdstate.edu/mathstat/grad/masters-in-data-science.cfm</td>\n",
       "      <td>Data Science</td>\n",
       "      <td>Masters</td>\n",
       "      <td>US</td>\n",
       "      <td>SD</td>\n",
       "      <td>False</td>\n",
       "      <td>True</td>\n",
       "      <td>Mathematics and Statistics</td>\n",
       "      <td>2015-01-10 04:13:13 UTC</td>\n",
       "      <td>2015-01-10 04:13:13 UTC</td>\n",
       "      <td>1</td>\n",
       "      <td>None</td>\n",
       "      <td>None</td>\n",
       "      <td>None</td>\n",
       "      <td>NaN</td>\n",
       "      <td>None</td>\n",
       "      <td>None</td>\n",
       "      <td>None</td>\n",
       "      <td>None</td>\n",
       "      <td>None</td>\n",
       "      <td>None</td>\n",
       "      <td>None</td>\n",
       "      <td>None</td>\n",
       "      <td>None</td>\n",
       "      <td>None</td>\n",
       "      <td>None</td>\n",
       "      <td>Data Science Masters Mathematics and Statistics</td>\n",
       "    </tr>\n",
       "    <tr>\n",
       "      <td>1</td>\n",
       "      <td>2</td>\n",
       "      <td>Dakota State University</td>\n",
       "      <td>http://www.dsu.edu/msa/</td>\n",
       "      <td>Analytics</td>\n",
       "      <td>Masters</td>\n",
       "      <td>US</td>\n",
       "      <td>SD</td>\n",
       "      <td>True</td>\n",
       "      <td>True</td>\n",
       "      <td>Business and Information Systems</td>\n",
       "      <td>2015-01-10 04:13:13 UTC</td>\n",
       "      <td>2015-01-10 04:13:13 UTC</td>\n",
       "      <td>1</td>\n",
       "      <td>None</td>\n",
       "      <td>None</td>\n",
       "      <td>None</td>\n",
       "      <td>NaN</td>\n",
       "      <td>None</td>\n",
       "      <td>None</td>\n",
       "      <td>None</td>\n",
       "      <td>None</td>\n",
       "      <td>None</td>\n",
       "      <td>None</td>\n",
       "      <td>None</td>\n",
       "      <td>None</td>\n",
       "      <td>None</td>\n",
       "      <td>None</td>\n",
       "      <td>None</td>\n",
       "      <td>Analytics Masters Business and Information Systems</td>\n",
       "    </tr>\n",
       "    <tr>\n",
       "      <td>2</td>\n",
       "      <td>3</td>\n",
       "      <td>Lewis University</td>\n",
       "      <td>http://www.lewisu.edu/academics/data-science/index.htm</td>\n",
       "      <td>Data Science</td>\n",
       "      <td>Masters</td>\n",
       "      <td>US</td>\n",
       "      <td>IL</td>\n",
       "      <td>True</td>\n",
       "      <td>True</td>\n",
       "      <td>Computer Science</td>\n",
       "      <td>2015-01-10 04:13:13 UTC</td>\n",
       "      <td>2015-01-10 04:13:13 UTC</td>\n",
       "      <td>1</td>\n",
       "      <td>None</td>\n",
       "      <td>None</td>\n",
       "      <td>None</td>\n",
       "      <td>NaN</td>\n",
       "      <td>None</td>\n",
       "      <td>None</td>\n",
       "      <td>None</td>\n",
       "      <td>None</td>\n",
       "      <td>None</td>\n",
       "      <td>None</td>\n",
       "      <td>None</td>\n",
       "      <td>None</td>\n",
       "      <td>None</td>\n",
       "      <td>None</td>\n",
       "      <td>None</td>\n",
       "      <td>Data Science Masters Computer Science</td>\n",
       "    </tr>\n",
       "    <tr>\n",
       "      <td>3</td>\n",
       "      <td>4</td>\n",
       "      <td>Saint Joseph's University</td>\n",
       "      <td>http://online.sju.edu/programs/business-intelligence-masters.asp</td>\n",
       "      <td>Business Intelligence &amp; Analytics</td>\n",
       "      <td>Masters</td>\n",
       "      <td>US</td>\n",
       "      <td>PA</td>\n",
       "      <td>True</td>\n",
       "      <td>True</td>\n",
       "      <td>Business</td>\n",
       "      <td>2015-01-10 04:13:13 UTC</td>\n",
       "      <td>2015-01-10 04:13:13 UTC</td>\n",
       "      <td>1</td>\n",
       "      <td>None</td>\n",
       "      <td>None</td>\n",
       "      <td>None</td>\n",
       "      <td>NaN</td>\n",
       "      <td>None</td>\n",
       "      <td>None</td>\n",
       "      <td>None</td>\n",
       "      <td>None</td>\n",
       "      <td>None</td>\n",
       "      <td>None</td>\n",
       "      <td>None</td>\n",
       "      <td>None</td>\n",
       "      <td>None</td>\n",
       "      <td>None</td>\n",
       "      <td>None</td>\n",
       "      <td>Business Intelligence &amp; Analytics Masters Business</td>\n",
       "    </tr>\n",
       "    <tr>\n",
       "      <td>4</td>\n",
       "      <td>5</td>\n",
       "      <td>University Of Leeds</td>\n",
       "      <td>http://www.engineering.leeds.ac.uk/computing/postgraduate/masters-advanced-computer-science/</td>\n",
       "      <td>Advanced Computer Science(Data Analytics)</td>\n",
       "      <td>Masters</td>\n",
       "      <td>GB</td>\n",
       "      <td>None</td>\n",
       "      <td>False</td>\n",
       "      <td>True</td>\n",
       "      <td>Computer Science</td>\n",
       "      <td>2015-01-10 04:13:13 UTC</td>\n",
       "      <td>2015-01-10 04:13:13 UTC</td>\n",
       "      <td>1</td>\n",
       "      <td>None</td>\n",
       "      <td>None</td>\n",
       "      <td>None</td>\n",
       "      <td>NaN</td>\n",
       "      <td>None</td>\n",
       "      <td>None</td>\n",
       "      <td>None</td>\n",
       "      <td>None</td>\n",
       "      <td>None</td>\n",
       "      <td>None</td>\n",
       "      <td>None</td>\n",
       "      <td>None</td>\n",
       "      <td>None</td>\n",
       "      <td>None</td>\n",
       "      <td>None</td>\n",
       "      <td>Advanced Computer Science(Data Analytics) Masters Computer Science</td>\n",
       "    </tr>\n",
       "  </tbody>\n",
       "</table>\n",
       "</div>"
      ],
      "text/plain": [
       "   id                           name                                                                                           url                                    program   degree country state  online  oncampus                        department               created_at               updated_at  university_count program_size courses admit_reqs  year_founded notes  cost visualization machine learning business databases programminglanguages capstone mapreduce part-time ethics                                                                text\n",
       "0  1   South Dakota State University  http://www.sdstate.edu/mathstat/grad/masters-in-data-science.cfm                              Data Science                               Masters  US      SD    False   True      Mathematics and Statistics        2015-01-10 04:13:13 UTC  2015-01-10 04:13:13 UTC  1                 None         None    None      NaN            None  None  None          None             None     None      None                 None     None      None      None   Data Science Masters Mathematics and Statistics                   \n",
       "1  2   Dakota State University        http://www.dsu.edu/msa/                                                                       Analytics                                  Masters  US      SD    True    True      Business and Information Systems  2015-01-10 04:13:13 UTC  2015-01-10 04:13:13 UTC  1                 None         None    None      NaN            None  None  None          None             None     None      None                 None     None      None      None   Analytics Masters Business and Information Systems                \n",
       "2  3   Lewis University               http://www.lewisu.edu/academics/data-science/index.htm                                        Data Science                               Masters  US      IL    True    True      Computer Science                  2015-01-10 04:13:13 UTC  2015-01-10 04:13:13 UTC  1                 None         None    None      NaN            None  None  None          None             None     None      None                 None     None      None      None   Data Science Masters Computer Science                             \n",
       "3  4   Saint Joseph's University      http://online.sju.edu/programs/business-intelligence-masters.asp                              Business Intelligence & Analytics          Masters  US      PA    True    True      Business                          2015-01-10 04:13:13 UTC  2015-01-10 04:13:13 UTC  1                 None         None    None      NaN            None  None  None          None             None     None      None                 None     None      None      None   Business Intelligence & Analytics Masters Business                \n",
       "4  5   University Of Leeds            http://www.engineering.leeds.ac.uk/computing/postgraduate/masters-advanced-computer-science/  Advanced Computer Science(Data Analytics)  Masters  GB      None  False   True      Computer Science                  2015-01-10 04:13:13 UTC  2015-01-10 04:13:13 UTC  1                 None         None    None      NaN            None  None  None          None             None     None      None                 None     None      None      None   Advanced Computer Science(Data Analytics) Masters Computer Science"
      ]
     },
     "execution_count": 9,
     "metadata": {},
     "output_type": "execute_result"
    }
   ],
   "source": [
    "# Print the head of the raw_ds_programs_text_df using Pandas\n",
    "ds_programs_text_df.toPandas().head()"
   ]
  },
  {
   "cell_type": "code",
   "execution_count": 10,
   "metadata": {},
   "outputs": [
    {
     "name": "stdout",
     "output_type": "stream",
     "text": [
      "The shape of ds_programs_text_df is:  222 rows,  29 columns.\n"
     ]
    }
   ],
   "source": [
    "# Print the shape using spark.\n",
    "print('The shape of ds_programs_text_df is: '\n",
    "      ,ds_programs_text_df.count()\n",
    "      ,\"rows, \"\n",
    "      ,len(ds_programs_text_df.columns),\"columns.\")"
   ]
  },
  {
   "cell_type": "markdown",
   "metadata": {},
   "source": [
    "##### Grading Feedback Cell"
   ]
  },
  {
   "cell_type": "markdown",
   "metadata": {},
   "source": [
    "# Question 2: (10 pts) "
   ]
  },
  {
   "cell_type": "markdown",
   "metadata": {},
   "source": [
    "## Question 2a (5 pts)\n",
    "Create a pipeline named `pipe_features` that creates a new dataframe `ds_features_df`.  The pipe_features pipeline adds a column `features` to `ds_programs_text_df` that contains the `tfidf` of the `text` column.  Print the head of ds_features_df using Pandas and print the shape using spark."
   ]
  },
  {
   "cell_type": "code",
   "execution_count": 11,
   "metadata": {},
   "outputs": [],
   "source": [
    "# ds_programs_text_df.show(2)\n",
    "# ds_programs_text_df.select('text').show(3)"
   ]
  },
  {
   "cell_type": "code",
   "execution_count": 12,
   "metadata": {},
   "outputs": [],
   "source": [
    "# the tokenizer object\n",
    "tokenizer = Tokenizer().setInputCol('text').setOutputCol('words')\n",
    "\n",
    "# the stop words removal object\n",
    "stop_words = requests.get('http://ir.dcs.gla.ac.uk/resources/linguistic_utils/stop_words').text.split()\n",
    "sw_filter = feature.StopWordsRemover()\\\n",
    "  .setStopWords(stop_words)\\\n",
    "  .setCaseSensitive(False)\\\n",
    "  .setInputCol(\"words\")\\\n",
    "  .setOutputCol(\"filtered\")\n",
    "\n",
    "# the CountVectorizer(aka tf) object\n",
    "cv = CountVectorizer().setInputCol('filtered').setOutputCol('tf')\n",
    "# minTF=1., minDF=5., vocabSize=2**17\n",
    "# cv = CountVectorizer(inputCol=\"words\", outputCol=\"tf\", minDF=2.0)\n",
    "\n",
    "# the idf object\n",
    "idf = IDF().setInputCol('tf').setOutputCol('features')"
   ]
  },
  {
   "cell_type": "code",
   "execution_count": 13,
   "metadata": {
    "nbgrader": {
     "checksum": "2cb3933b05c489ba7cadcdc1a3abc02d",
     "grade": false,
     "grade_id": "cell-8d401e50a125c6f3",
     "locked": true,
     "schema_version": 1,
     "solution": false
    }
   },
   "outputs": [],
   "source": [
    "# Create ds_programs_text_df here\n",
    "pipe_features=Pipeline(stages=[tokenizer, sw_filter, cv, idf])\n",
    "pipe_features_fitted=pipe_features.fit(ds_programs_text_df)\n",
    "ds_features_df=pipe_features.fit(ds_programs_text_df).transform(ds_programs_text_df)"
   ]
  },
  {
   "cell_type": "code",
   "execution_count": 14,
   "metadata": {
    "scrolled": false
   },
   "outputs": [
    {
     "data": {
      "text/html": [
       "<div>\n",
       "<style scoped>\n",
       "    .dataframe tbody tr th:only-of-type {\n",
       "        vertical-align: middle;\n",
       "    }\n",
       "\n",
       "    .dataframe tbody tr th {\n",
       "        vertical-align: top;\n",
       "    }\n",
       "\n",
       "    .dataframe thead th {\n",
       "        text-align: right;\n",
       "    }\n",
       "</style>\n",
       "<table border=\"1\" class=\"dataframe\">\n",
       "  <thead>\n",
       "    <tr style=\"text-align: right;\">\n",
       "      <th></th>\n",
       "      <th>id</th>\n",
       "      <th>name</th>\n",
       "      <th>url</th>\n",
       "      <th>program</th>\n",
       "      <th>degree</th>\n",
       "      <th>country</th>\n",
       "      <th>state</th>\n",
       "      <th>online</th>\n",
       "      <th>oncampus</th>\n",
       "      <th>department</th>\n",
       "      <th>created_at</th>\n",
       "      <th>updated_at</th>\n",
       "      <th>university_count</th>\n",
       "      <th>program_size</th>\n",
       "      <th>courses</th>\n",
       "      <th>admit_reqs</th>\n",
       "      <th>year_founded</th>\n",
       "      <th>notes</th>\n",
       "      <th>cost</th>\n",
       "      <th>visualization</th>\n",
       "      <th>machine learning</th>\n",
       "      <th>business</th>\n",
       "      <th>databases</th>\n",
       "      <th>programminglanguages</th>\n",
       "      <th>capstone</th>\n",
       "      <th>mapreduce</th>\n",
       "      <th>part-time</th>\n",
       "      <th>ethics</th>\n",
       "      <th>text</th>\n",
       "      <th>words</th>\n",
       "      <th>filtered</th>\n",
       "      <th>tf</th>\n",
       "      <th>features</th>\n",
       "    </tr>\n",
       "  </thead>\n",
       "  <tbody>\n",
       "    <tr>\n",
       "      <td>0</td>\n",
       "      <td>1</td>\n",
       "      <td>South Dakota State University</td>\n",
       "      <td>http://www.sdstate.edu/mathstat/grad/masters-in-data-science.cfm</td>\n",
       "      <td>Data Science</td>\n",
       "      <td>Masters</td>\n",
       "      <td>US</td>\n",
       "      <td>SD</td>\n",
       "      <td>False</td>\n",
       "      <td>True</td>\n",
       "      <td>Mathematics and Statistics</td>\n",
       "      <td>2015-01-10 04:13:13 UTC</td>\n",
       "      <td>2015-01-10 04:13:13 UTC</td>\n",
       "      <td>1</td>\n",
       "      <td>None</td>\n",
       "      <td>None</td>\n",
       "      <td>None</td>\n",
       "      <td>NaN</td>\n",
       "      <td>None</td>\n",
       "      <td>None</td>\n",
       "      <td>None</td>\n",
       "      <td>None</td>\n",
       "      <td>None</td>\n",
       "      <td>None</td>\n",
       "      <td>None</td>\n",
       "      <td>None</td>\n",
       "      <td>None</td>\n",
       "      <td>None</td>\n",
       "      <td>None</td>\n",
       "      <td>Data Science Masters Mathematics and Statistics</td>\n",
       "      <td>[data, science, masters, mathematics, and, statistics]</td>\n",
       "      <td>[data, science, masters, mathematics, statistics]</td>\n",
       "      <td>(1.0, 1.0, 0.0, 0.0, 1.0, 0.0, 1.0, 0.0, 0.0, 0.0, 0.0, 0.0, 0.0, 0.0, 0.0, 0.0, 0.0, 0.0, 0.0, 0.0, 0.0, 0.0, 0.0, 0.0, 0.0, 0.0, 0.0, 0.0, 0.0, 0.0, 0.0, 1.0, 0.0, 0.0, 0.0, 0.0, 0.0, 0.0, 0.0, 0.0, 0.0, 0.0, 0.0, 0.0, 0.0, 0.0, 0.0, 0.0, 0.0, 0.0, 0.0, 0.0, 0.0, 0.0, 0.0, 0.0, 0.0, 0.0, 0.0, 0.0, 0.0, 0.0, 0.0, 0.0, 0.0, 0.0, 0.0, 0.0, 0.0, 0.0, 0.0, 0.0, 0.0, 0.0, 0.0, 0.0, 0.0, 0.0, 0.0, 0.0, 0.0, 0.0, 0.0, 0.0, 0.0, 0.0, 0.0, 0.0, 0.0, 0.0, 0.0, 0.0, 0.0, 0.0, 0.0, 0.0, 0.0, 0.0, 0.0, 0.0, ...)</td>\n",
       "      <td>(0.2538801769623398, 0.6709733230656233, 0.0, 0.0, 1.2962979072868075, 0.0, 2.462732792293678, 0.0, 0.0, 0.0, 0.0, 0.0, 0.0, 0.0, 0.0, 0.0, 0.0, 0.0, 0.0, 0.0, 0.0, 0.0, 0.0, 0.0, 0.0, 0.0, 0.0, 0.0, 0.0, 0.0, 0.0, 3.615412302232064, 0.0, 0.0, 0.0, 0.0, 0.0, 0.0, 0.0, 0.0, 0.0, 0.0, 0.0, 0.0, 0.0, 0.0, 0.0, 0.0, 0.0, 0.0, 0.0, 0.0, 0.0, 0.0, 0.0, 0.0, 0.0, 0.0, 0.0, 0.0, 0.0, 0.0, 0.0, 0.0, 0.0, 0.0, 0.0, 0.0, 0.0, 0.0, 0.0, 0.0, 0.0, 0.0, 0.0, 0.0, 0.0, 0.0, 0.0, 0.0, 0.0, 0.0, 0.0, 0.0, 0.0, 0.0, 0.0, 0.0, 0.0, 0.0, 0.0, 0.0, 0.0, 0.0, 0.0, 0.0, 0.0, 0.0, 0.0, 0.0, ...)</td>\n",
       "    </tr>\n",
       "    <tr>\n",
       "      <td>1</td>\n",
       "      <td>2</td>\n",
       "      <td>Dakota State University</td>\n",
       "      <td>http://www.dsu.edu/msa/</td>\n",
       "      <td>Analytics</td>\n",
       "      <td>Masters</td>\n",
       "      <td>US</td>\n",
       "      <td>SD</td>\n",
       "      <td>True</td>\n",
       "      <td>True</td>\n",
       "      <td>Business and Information Systems</td>\n",
       "      <td>2015-01-10 04:13:13 UTC</td>\n",
       "      <td>2015-01-10 04:13:13 UTC</td>\n",
       "      <td>1</td>\n",
       "      <td>None</td>\n",
       "      <td>None</td>\n",
       "      <td>None</td>\n",
       "      <td>NaN</td>\n",
       "      <td>None</td>\n",
       "      <td>None</td>\n",
       "      <td>None</td>\n",
       "      <td>None</td>\n",
       "      <td>None</td>\n",
       "      <td>None</td>\n",
       "      <td>None</td>\n",
       "      <td>None</td>\n",
       "      <td>None</td>\n",
       "      <td>None</td>\n",
       "      <td>None</td>\n",
       "      <td>Analytics Masters Business and Information Systems</td>\n",
       "      <td>[analytics, masters, business, and, information, systems]</td>\n",
       "      <td>[analytics, masters, business, information, systems]</td>\n",
       "      <td>(1.0, 0.0, 1.0, 1.0, 0.0, 0.0, 0.0, 1.0, 0.0, 0.0, 0.0, 0.0, 0.0, 0.0, 0.0, 0.0, 0.0, 0.0, 1.0, 0.0, 0.0, 0.0, 0.0, 0.0, 0.0, 0.0, 0.0, 0.0, 0.0, 0.0, 0.0, 0.0, 0.0, 0.0, 0.0, 0.0, 0.0, 0.0, 0.0, 0.0, 0.0, 0.0, 0.0, 0.0, 0.0, 0.0, 0.0, 0.0, 0.0, 0.0, 0.0, 0.0, 0.0, 0.0, 0.0, 0.0, 0.0, 0.0, 0.0, 0.0, 0.0, 0.0, 0.0, 0.0, 0.0, 0.0, 0.0, 0.0, 0.0, 0.0, 0.0, 0.0, 0.0, 0.0, 0.0, 0.0, 0.0, 0.0, 0.0, 0.0, 0.0, 0.0, 0.0, 0.0, 0.0, 0.0, 0.0, 0.0, 0.0, 0.0, 0.0, 0.0, 0.0, 0.0, 0.0, 0.0, 0.0, 0.0, 0.0, 0.0, ...)</td>\n",
       "      <td>(0.2538801769623398, 0.0, 1.0377239189930973, 0.8222042927895469, 0.0, 0.0, 0.0, 2.411439497906128, 0.0, 0.0, 0.0, 0.0, 0.0, 0.0, 0.0, 0.0, 0.0, 0.0, 3.009276498661748, 0.0, 0.0, 0.0, 0.0, 0.0, 0.0, 0.0, 0.0, 0.0, 0.0, 0.0, 0.0, 0.0, 0.0, 0.0, 0.0, 0.0, 0.0, 0.0, 0.0, 0.0, 0.0, 0.0, 0.0, 0.0, 0.0, 0.0, 0.0, 0.0, 0.0, 0.0, 0.0, 0.0, 0.0, 0.0, 0.0, 0.0, 0.0, 0.0, 0.0, 0.0, 0.0, 0.0, 0.0, 0.0, 0.0, 0.0, 0.0, 0.0, 0.0, 0.0, 0.0, 0.0, 0.0, 0.0, 0.0, 0.0, 0.0, 0.0, 0.0, 0.0, 0.0, 0.0, 0.0, 0.0, 0.0, 0.0, 0.0, 0.0, 0.0, 0.0, 0.0, 0.0, 0.0, 0.0, 0.0, 0.0, 0.0, 0.0, 0.0, 0.0, ...)</td>\n",
       "    </tr>\n",
       "    <tr>\n",
       "      <td>2</td>\n",
       "      <td>3</td>\n",
       "      <td>Lewis University</td>\n",
       "      <td>http://www.lewisu.edu/academics/data-science/index.htm</td>\n",
       "      <td>Data Science</td>\n",
       "      <td>Masters</td>\n",
       "      <td>US</td>\n",
       "      <td>IL</td>\n",
       "      <td>True</td>\n",
       "      <td>True</td>\n",
       "      <td>Computer Science</td>\n",
       "      <td>2015-01-10 04:13:13 UTC</td>\n",
       "      <td>2015-01-10 04:13:13 UTC</td>\n",
       "      <td>1</td>\n",
       "      <td>None</td>\n",
       "      <td>None</td>\n",
       "      <td>None</td>\n",
       "      <td>NaN</td>\n",
       "      <td>None</td>\n",
       "      <td>None</td>\n",
       "      <td>None</td>\n",
       "      <td>None</td>\n",
       "      <td>None</td>\n",
       "      <td>None</td>\n",
       "      <td>None</td>\n",
       "      <td>None</td>\n",
       "      <td>None</td>\n",
       "      <td>None</td>\n",
       "      <td>None</td>\n",
       "      <td>Data Science Masters Computer Science</td>\n",
       "      <td>[data, science, masters, computer, science]</td>\n",
       "      <td>[data, science, masters, science]</td>\n",
       "      <td>(1.0, 1.0, 0.0, 0.0, 2.0, 0.0, 0.0, 0.0, 0.0, 0.0, 0.0, 0.0, 0.0, 0.0, 0.0, 0.0, 0.0, 0.0, 0.0, 0.0, 0.0, 0.0, 0.0, 0.0, 0.0, 0.0, 0.0, 0.0, 0.0, 0.0, 0.0, 0.0, 0.0, 0.0, 0.0, 0.0, 0.0, 0.0, 0.0, 0.0, 0.0, 0.0, 0.0, 0.0, 0.0, 0.0, 0.0, 0.0, 0.0, 0.0, 0.0, 0.0, 0.0, 0.0, 0.0, 0.0, 0.0, 0.0, 0.0, 0.0, 0.0, 0.0, 0.0, 0.0, 0.0, 0.0, 0.0, 0.0, 0.0, 0.0, 0.0, 0.0, 0.0, 0.0, 0.0, 0.0, 0.0, 0.0, 0.0, 0.0, 0.0, 0.0, 0.0, 0.0, 0.0, 0.0, 0.0, 0.0, 0.0, 0.0, 0.0, 0.0, 0.0, 0.0, 0.0, 0.0, 0.0, 0.0, 0.0, 0.0, ...)</td>\n",
       "      <td>(0.2538801769623398, 0.6709733230656233, 0.0, 0.0, 2.592595814573615, 0.0, 0.0, 0.0, 0.0, 0.0, 0.0, 0.0, 0.0, 0.0, 0.0, 0.0, 0.0, 0.0, 0.0, 0.0, 0.0, 0.0, 0.0, 0.0, 0.0, 0.0, 0.0, 0.0, 0.0, 0.0, 0.0, 0.0, 0.0, 0.0, 0.0, 0.0, 0.0, 0.0, 0.0, 0.0, 0.0, 0.0, 0.0, 0.0, 0.0, 0.0, 0.0, 0.0, 0.0, 0.0, 0.0, 0.0, 0.0, 0.0, 0.0, 0.0, 0.0, 0.0, 0.0, 0.0, 0.0, 0.0, 0.0, 0.0, 0.0, 0.0, 0.0, 0.0, 0.0, 0.0, 0.0, 0.0, 0.0, 0.0, 0.0, 0.0, 0.0, 0.0, 0.0, 0.0, 0.0, 0.0, 0.0, 0.0, 0.0, 0.0, 0.0, 0.0, 0.0, 0.0, 0.0, 0.0, 0.0, 0.0, 0.0, 0.0, 0.0, 0.0, 0.0, 0.0, ...)</td>\n",
       "    </tr>\n",
       "    <tr>\n",
       "      <td>3</td>\n",
       "      <td>4</td>\n",
       "      <td>Saint Joseph's University</td>\n",
       "      <td>http://online.sju.edu/programs/business-intelligence-masters.asp</td>\n",
       "      <td>Business Intelligence &amp; Analytics</td>\n",
       "      <td>Masters</td>\n",
       "      <td>US</td>\n",
       "      <td>PA</td>\n",
       "      <td>True</td>\n",
       "      <td>True</td>\n",
       "      <td>Business</td>\n",
       "      <td>2015-01-10 04:13:13 UTC</td>\n",
       "      <td>2015-01-10 04:13:13 UTC</td>\n",
       "      <td>1</td>\n",
       "      <td>None</td>\n",
       "      <td>None</td>\n",
       "      <td>None</td>\n",
       "      <td>NaN</td>\n",
       "      <td>None</td>\n",
       "      <td>None</td>\n",
       "      <td>None</td>\n",
       "      <td>None</td>\n",
       "      <td>None</td>\n",
       "      <td>None</td>\n",
       "      <td>None</td>\n",
       "      <td>None</td>\n",
       "      <td>None</td>\n",
       "      <td>None</td>\n",
       "      <td>None</td>\n",
       "      <td>Business Intelligence &amp; Analytics Masters Business</td>\n",
       "      <td>[business, intelligence, &amp;, analytics, masters, business]</td>\n",
       "      <td>[business, intelligence, &amp;, analytics, masters, business]</td>\n",
       "      <td>(1.0, 0.0, 2.0, 1.0, 0.0, 0.0, 0.0, 0.0, 1.0, 0.0, 0.0, 0.0, 0.0, 0.0, 0.0, 0.0, 0.0, 0.0, 0.0, 0.0, 0.0, 0.0, 0.0, 1.0, 0.0, 0.0, 0.0, 0.0, 0.0, 0.0, 0.0, 0.0, 0.0, 0.0, 0.0, 0.0, 0.0, 0.0, 0.0, 0.0, 0.0, 0.0, 0.0, 0.0, 0.0, 0.0, 0.0, 0.0, 0.0, 0.0, 0.0, 0.0, 0.0, 0.0, 0.0, 0.0, 0.0, 0.0, 0.0, 0.0, 0.0, 0.0, 0.0, 0.0, 0.0, 0.0, 0.0, 0.0, 0.0, 0.0, 0.0, 0.0, 0.0, 0.0, 0.0, 0.0, 0.0, 0.0, 0.0, 0.0, 0.0, 0.0, 0.0, 0.0, 0.0, 0.0, 0.0, 0.0, 0.0, 0.0, 0.0, 0.0, 0.0, 0.0, 0.0, 0.0, 0.0, 0.0, 0.0, 0.0, ...)</td>\n",
       "      <td>(0.2538801769623398, 0.0, 2.0754478379861947, 0.8222042927895469, 0.0, 0.0, 0.0, 0.0, 2.316129318101803, 0.0, 0.0, 0.0, 0.0, 0.0, 0.0, 0.0, 0.0, 0.0, 0.0, 0.0, 0.0, 0.0, 0.0, 3.3277302297802827, 0.0, 0.0, 0.0, 0.0, 0.0, 0.0, 0.0, 0.0, 0.0, 0.0, 0.0, 0.0, 0.0, 0.0, 0.0, 0.0, 0.0, 0.0, 0.0, 0.0, 0.0, 0.0, 0.0, 0.0, 0.0, 0.0, 0.0, 0.0, 0.0, 0.0, 0.0, 0.0, 0.0, 0.0, 0.0, 0.0, 0.0, 0.0, 0.0, 0.0, 0.0, 0.0, 0.0, 0.0, 0.0, 0.0, 0.0, 0.0, 0.0, 0.0, 0.0, 0.0, 0.0, 0.0, 0.0, 0.0, 0.0, 0.0, 0.0, 0.0, 0.0, 0.0, 0.0, 0.0, 0.0, 0.0, 0.0, 0.0, 0.0, 0.0, 0.0, 0.0, 0.0, 0.0, 0.0, 0.0, ...)</td>\n",
       "    </tr>\n",
       "    <tr>\n",
       "      <td>4</td>\n",
       "      <td>5</td>\n",
       "      <td>University Of Leeds</td>\n",
       "      <td>http://www.engineering.leeds.ac.uk/computing/postgraduate/masters-advanced-computer-science/</td>\n",
       "      <td>Advanced Computer Science(Data Analytics)</td>\n",
       "      <td>Masters</td>\n",
       "      <td>GB</td>\n",
       "      <td>None</td>\n",
       "      <td>False</td>\n",
       "      <td>True</td>\n",
       "      <td>Computer Science</td>\n",
       "      <td>2015-01-10 04:13:13 UTC</td>\n",
       "      <td>2015-01-10 04:13:13 UTC</td>\n",
       "      <td>1</td>\n",
       "      <td>None</td>\n",
       "      <td>None</td>\n",
       "      <td>None</td>\n",
       "      <td>NaN</td>\n",
       "      <td>None</td>\n",
       "      <td>None</td>\n",
       "      <td>None</td>\n",
       "      <td>None</td>\n",
       "      <td>None</td>\n",
       "      <td>None</td>\n",
       "      <td>None</td>\n",
       "      <td>None</td>\n",
       "      <td>None</td>\n",
       "      <td>None</td>\n",
       "      <td>None</td>\n",
       "      <td>Advanced Computer Science(Data Analytics) Masters Computer Science</td>\n",
       "      <td>[advanced, computer, science(data, analytics), masters, computer, science]</td>\n",
       "      <td>[advanced, science(data, analytics), masters, science]</td>\n",
       "      <td>(1.0, 0.0, 0.0, 0.0, 1.0, 0.0, 0.0, 0.0, 0.0, 0.0, 0.0, 0.0, 0.0, 0.0, 0.0, 0.0, 0.0, 0.0, 0.0, 0.0, 0.0, 0.0, 0.0, 0.0, 0.0, 0.0, 0.0, 0.0, 0.0, 0.0, 0.0, 0.0, 0.0, 0.0, 0.0, 0.0, 0.0, 0.0, 1.0, 0.0, 0.0, 0.0, 0.0, 0.0, 0.0, 0.0, 0.0, 0.0, 0.0, 0.0, 0.0, 0.0, 0.0, 0.0, 0.0, 0.0, 0.0, 0.0, 0.0, 0.0, 0.0, 0.0, 0.0, 0.0, 0.0, 0.0, 0.0, 0.0, 0.0, 0.0, 0.0, 0.0, 0.0, 0.0, 0.0, 0.0, 0.0, 0.0, 0.0, 0.0, 0.0, 0.0, 0.0, 0.0, 0.0, 0.0, 0.0, 0.0, 0.0, 0.0, 0.0, 0.0, 0.0, 1.0, 0.0, 0.0, 0.0, 0.0, 0.0, 0.0, ...)</td>\n",
       "      <td>(0.2538801769623398, 0.0, 0.0, 0.0, 1.2962979072868075, 0.0, 0.0, 0.0, 0.0, 0.0, 0.0, 0.0, 0.0, 0.0, 0.0, 0.0, 0.0, 0.0, 0.0, 0.0, 0.0, 0.0, 0.0, 0.0, 0.0, 0.0, 0.0, 0.0, 0.0, 0.0, 0.0, 0.0, 0.0, 0.0, 0.0, 0.0, 0.0, 0.0, 4.020877410340228, 0.0, 0.0, 0.0, 0.0, 0.0, 0.0, 0.0, 0.0, 0.0, 0.0, 0.0, 0.0, 0.0, 0.0, 0.0, 0.0, 0.0, 0.0, 0.0, 0.0, 0.0, 0.0, 0.0, 0.0, 0.0, 0.0, 0.0, 0.0, 0.0, 0.0, 0.0, 0.0, 0.0, 0.0, 0.0, 0.0, 0.0, 0.0, 0.0, 0.0, 0.0, 0.0, 0.0, 0.0, 0.0, 0.0, 0.0, 0.0, 0.0, 0.0, 0.0, 0.0, 0.0, 0.0, 4.7140245909001735, 0.0, 0.0, 0.0, 0.0, 0.0, 0.0, ...)</td>\n",
       "    </tr>\n",
       "  </tbody>\n",
       "</table>\n",
       "</div>"
      ],
      "text/plain": [
       "   id                           name                                                                                           url                                    program   degree country state  online  oncampus                        department               created_at               updated_at  university_count program_size courses admit_reqs  year_founded notes  cost visualization machine learning business databases programminglanguages capstone mapreduce part-time ethics                                                                text                                                                       words                                                   filtered                                                                                                                                                                                                                                                                                                                                                                                                                                                                                                                         tf                                                                                                                                                                                                                                                                                                                                                                                                                                                                                                                                                                                             features\n",
       "0  1   South Dakota State University  http://www.sdstate.edu/mathstat/grad/masters-in-data-science.cfm                              Data Science                               Masters  US      SD    False   True      Mathematics and Statistics        2015-01-10 04:13:13 UTC  2015-01-10 04:13:13 UTC  1                 None         None    None      NaN            None  None  None          None             None     None      None                 None     None      None      None   Data Science Masters Mathematics and Statistics                     [data, science, masters, mathematics, and, statistics]                      [data, science, masters, mathematics, statistics]          (1.0, 1.0, 0.0, 0.0, 1.0, 0.0, 1.0, 0.0, 0.0, 0.0, 0.0, 0.0, 0.0, 0.0, 0.0, 0.0, 0.0, 0.0, 0.0, 0.0, 0.0, 0.0, 0.0, 0.0, 0.0, 0.0, 0.0, 0.0, 0.0, 0.0, 0.0, 1.0, 0.0, 0.0, 0.0, 0.0, 0.0, 0.0, 0.0, 0.0, 0.0, 0.0, 0.0, 0.0, 0.0, 0.0, 0.0, 0.0, 0.0, 0.0, 0.0, 0.0, 0.0, 0.0, 0.0, 0.0, 0.0, 0.0, 0.0, 0.0, 0.0, 0.0, 0.0, 0.0, 0.0, 0.0, 0.0, 0.0, 0.0, 0.0, 0.0, 0.0, 0.0, 0.0, 0.0, 0.0, 0.0, 0.0, 0.0, 0.0, 0.0, 0.0, 0.0, 0.0, 0.0, 0.0, 0.0, 0.0, 0.0, 0.0, 0.0, 0.0, 0.0, 0.0, 0.0, 0.0, 0.0, 0.0, 0.0, 0.0, ...)  (0.2538801769623398, 0.6709733230656233, 0.0, 0.0, 1.2962979072868075, 0.0, 2.462732792293678, 0.0, 0.0, 0.0, 0.0, 0.0, 0.0, 0.0, 0.0, 0.0, 0.0, 0.0, 0.0, 0.0, 0.0, 0.0, 0.0, 0.0, 0.0, 0.0, 0.0, 0.0, 0.0, 0.0, 0.0, 3.615412302232064, 0.0, 0.0, 0.0, 0.0, 0.0, 0.0, 0.0, 0.0, 0.0, 0.0, 0.0, 0.0, 0.0, 0.0, 0.0, 0.0, 0.0, 0.0, 0.0, 0.0, 0.0, 0.0, 0.0, 0.0, 0.0, 0.0, 0.0, 0.0, 0.0, 0.0, 0.0, 0.0, 0.0, 0.0, 0.0, 0.0, 0.0, 0.0, 0.0, 0.0, 0.0, 0.0, 0.0, 0.0, 0.0, 0.0, 0.0, 0.0, 0.0, 0.0, 0.0, 0.0, 0.0, 0.0, 0.0, 0.0, 0.0, 0.0, 0.0, 0.0, 0.0, 0.0, 0.0, 0.0, 0.0, 0.0, 0.0, 0.0, ...) \n",
       "1  2   Dakota State University        http://www.dsu.edu/msa/                                                                       Analytics                                  Masters  US      SD    True    True      Business and Information Systems  2015-01-10 04:13:13 UTC  2015-01-10 04:13:13 UTC  1                 None         None    None      NaN            None  None  None          None             None     None      None                 None     None      None      None   Analytics Masters Business and Information Systems                  [analytics, masters, business, and, information, systems]                   [analytics, masters, business, information, systems]       (1.0, 0.0, 1.0, 1.0, 0.0, 0.0, 0.0, 1.0, 0.0, 0.0, 0.0, 0.0, 0.0, 0.0, 0.0, 0.0, 0.0, 0.0, 1.0, 0.0, 0.0, 0.0, 0.0, 0.0, 0.0, 0.0, 0.0, 0.0, 0.0, 0.0, 0.0, 0.0, 0.0, 0.0, 0.0, 0.0, 0.0, 0.0, 0.0, 0.0, 0.0, 0.0, 0.0, 0.0, 0.0, 0.0, 0.0, 0.0, 0.0, 0.0, 0.0, 0.0, 0.0, 0.0, 0.0, 0.0, 0.0, 0.0, 0.0, 0.0, 0.0, 0.0, 0.0, 0.0, 0.0, 0.0, 0.0, 0.0, 0.0, 0.0, 0.0, 0.0, 0.0, 0.0, 0.0, 0.0, 0.0, 0.0, 0.0, 0.0, 0.0, 0.0, 0.0, 0.0, 0.0, 0.0, 0.0, 0.0, 0.0, 0.0, 0.0, 0.0, 0.0, 0.0, 0.0, 0.0, 0.0, 0.0, 0.0, 0.0, ...)  (0.2538801769623398, 0.0, 1.0377239189930973, 0.8222042927895469, 0.0, 0.0, 0.0, 2.411439497906128, 0.0, 0.0, 0.0, 0.0, 0.0, 0.0, 0.0, 0.0, 0.0, 0.0, 3.009276498661748, 0.0, 0.0, 0.0, 0.0, 0.0, 0.0, 0.0, 0.0, 0.0, 0.0, 0.0, 0.0, 0.0, 0.0, 0.0, 0.0, 0.0, 0.0, 0.0, 0.0, 0.0, 0.0, 0.0, 0.0, 0.0, 0.0, 0.0, 0.0, 0.0, 0.0, 0.0, 0.0, 0.0, 0.0, 0.0, 0.0, 0.0, 0.0, 0.0, 0.0, 0.0, 0.0, 0.0, 0.0, 0.0, 0.0, 0.0, 0.0, 0.0, 0.0, 0.0, 0.0, 0.0, 0.0, 0.0, 0.0, 0.0, 0.0, 0.0, 0.0, 0.0, 0.0, 0.0, 0.0, 0.0, 0.0, 0.0, 0.0, 0.0, 0.0, 0.0, 0.0, 0.0, 0.0, 0.0, 0.0, 0.0, 0.0, 0.0, 0.0, 0.0, ...) \n",
       "2  3   Lewis University               http://www.lewisu.edu/academics/data-science/index.htm                                        Data Science                               Masters  US      IL    True    True      Computer Science                  2015-01-10 04:13:13 UTC  2015-01-10 04:13:13 UTC  1                 None         None    None      NaN            None  None  None          None             None     None      None                 None     None      None      None   Data Science Masters Computer Science                               [data, science, masters, computer, science]                                 [data, science, masters, science]                          (1.0, 1.0, 0.0, 0.0, 2.0, 0.0, 0.0, 0.0, 0.0, 0.0, 0.0, 0.0, 0.0, 0.0, 0.0, 0.0, 0.0, 0.0, 0.0, 0.0, 0.0, 0.0, 0.0, 0.0, 0.0, 0.0, 0.0, 0.0, 0.0, 0.0, 0.0, 0.0, 0.0, 0.0, 0.0, 0.0, 0.0, 0.0, 0.0, 0.0, 0.0, 0.0, 0.0, 0.0, 0.0, 0.0, 0.0, 0.0, 0.0, 0.0, 0.0, 0.0, 0.0, 0.0, 0.0, 0.0, 0.0, 0.0, 0.0, 0.0, 0.0, 0.0, 0.0, 0.0, 0.0, 0.0, 0.0, 0.0, 0.0, 0.0, 0.0, 0.0, 0.0, 0.0, 0.0, 0.0, 0.0, 0.0, 0.0, 0.0, 0.0, 0.0, 0.0, 0.0, 0.0, 0.0, 0.0, 0.0, 0.0, 0.0, 0.0, 0.0, 0.0, 0.0, 0.0, 0.0, 0.0, 0.0, 0.0, 0.0, ...)  (0.2538801769623398, 0.6709733230656233, 0.0, 0.0, 2.592595814573615, 0.0, 0.0, 0.0, 0.0, 0.0, 0.0, 0.0, 0.0, 0.0, 0.0, 0.0, 0.0, 0.0, 0.0, 0.0, 0.0, 0.0, 0.0, 0.0, 0.0, 0.0, 0.0, 0.0, 0.0, 0.0, 0.0, 0.0, 0.0, 0.0, 0.0, 0.0, 0.0, 0.0, 0.0, 0.0, 0.0, 0.0, 0.0, 0.0, 0.0, 0.0, 0.0, 0.0, 0.0, 0.0, 0.0, 0.0, 0.0, 0.0, 0.0, 0.0, 0.0, 0.0, 0.0, 0.0, 0.0, 0.0, 0.0, 0.0, 0.0, 0.0, 0.0, 0.0, 0.0, 0.0, 0.0, 0.0, 0.0, 0.0, 0.0, 0.0, 0.0, 0.0, 0.0, 0.0, 0.0, 0.0, 0.0, 0.0, 0.0, 0.0, 0.0, 0.0, 0.0, 0.0, 0.0, 0.0, 0.0, 0.0, 0.0, 0.0, 0.0, 0.0, 0.0, 0.0, ...)                              \n",
       "3  4   Saint Joseph's University      http://online.sju.edu/programs/business-intelligence-masters.asp                              Business Intelligence & Analytics          Masters  US      PA    True    True      Business                          2015-01-10 04:13:13 UTC  2015-01-10 04:13:13 UTC  1                 None         None    None      NaN            None  None  None          None             None     None      None                 None     None      None      None   Business Intelligence & Analytics Masters Business                  [business, intelligence, &, analytics, masters, business]                   [business, intelligence, &, analytics, masters, business]  (1.0, 0.0, 2.0, 1.0, 0.0, 0.0, 0.0, 0.0, 1.0, 0.0, 0.0, 0.0, 0.0, 0.0, 0.0, 0.0, 0.0, 0.0, 0.0, 0.0, 0.0, 0.0, 0.0, 1.0, 0.0, 0.0, 0.0, 0.0, 0.0, 0.0, 0.0, 0.0, 0.0, 0.0, 0.0, 0.0, 0.0, 0.0, 0.0, 0.0, 0.0, 0.0, 0.0, 0.0, 0.0, 0.0, 0.0, 0.0, 0.0, 0.0, 0.0, 0.0, 0.0, 0.0, 0.0, 0.0, 0.0, 0.0, 0.0, 0.0, 0.0, 0.0, 0.0, 0.0, 0.0, 0.0, 0.0, 0.0, 0.0, 0.0, 0.0, 0.0, 0.0, 0.0, 0.0, 0.0, 0.0, 0.0, 0.0, 0.0, 0.0, 0.0, 0.0, 0.0, 0.0, 0.0, 0.0, 0.0, 0.0, 0.0, 0.0, 0.0, 0.0, 0.0, 0.0, 0.0, 0.0, 0.0, 0.0, 0.0, ...)  (0.2538801769623398, 0.0, 2.0754478379861947, 0.8222042927895469, 0.0, 0.0, 0.0, 0.0, 2.316129318101803, 0.0, 0.0, 0.0, 0.0, 0.0, 0.0, 0.0, 0.0, 0.0, 0.0, 0.0, 0.0, 0.0, 0.0, 3.3277302297802827, 0.0, 0.0, 0.0, 0.0, 0.0, 0.0, 0.0, 0.0, 0.0, 0.0, 0.0, 0.0, 0.0, 0.0, 0.0, 0.0, 0.0, 0.0, 0.0, 0.0, 0.0, 0.0, 0.0, 0.0, 0.0, 0.0, 0.0, 0.0, 0.0, 0.0, 0.0, 0.0, 0.0, 0.0, 0.0, 0.0, 0.0, 0.0, 0.0, 0.0, 0.0, 0.0, 0.0, 0.0, 0.0, 0.0, 0.0, 0.0, 0.0, 0.0, 0.0, 0.0, 0.0, 0.0, 0.0, 0.0, 0.0, 0.0, 0.0, 0.0, 0.0, 0.0, 0.0, 0.0, 0.0, 0.0, 0.0, 0.0, 0.0, 0.0, 0.0, 0.0, 0.0, 0.0, 0.0, 0.0, ...)\n",
       "4  5   University Of Leeds            http://www.engineering.leeds.ac.uk/computing/postgraduate/masters-advanced-computer-science/  Advanced Computer Science(Data Analytics)  Masters  GB      None  False   True      Computer Science                  2015-01-10 04:13:13 UTC  2015-01-10 04:13:13 UTC  1                 None         None    None      NaN            None  None  None          None             None     None      None                 None     None      None      None   Advanced Computer Science(Data Analytics) Masters Computer Science  [advanced, computer, science(data, analytics), masters, computer, science]  [advanced, science(data, analytics), masters, science]     (1.0, 0.0, 0.0, 0.0, 1.0, 0.0, 0.0, 0.0, 0.0, 0.0, 0.0, 0.0, 0.0, 0.0, 0.0, 0.0, 0.0, 0.0, 0.0, 0.0, 0.0, 0.0, 0.0, 0.0, 0.0, 0.0, 0.0, 0.0, 0.0, 0.0, 0.0, 0.0, 0.0, 0.0, 0.0, 0.0, 0.0, 0.0, 1.0, 0.0, 0.0, 0.0, 0.0, 0.0, 0.0, 0.0, 0.0, 0.0, 0.0, 0.0, 0.0, 0.0, 0.0, 0.0, 0.0, 0.0, 0.0, 0.0, 0.0, 0.0, 0.0, 0.0, 0.0, 0.0, 0.0, 0.0, 0.0, 0.0, 0.0, 0.0, 0.0, 0.0, 0.0, 0.0, 0.0, 0.0, 0.0, 0.0, 0.0, 0.0, 0.0, 0.0, 0.0, 0.0, 0.0, 0.0, 0.0, 0.0, 0.0, 0.0, 0.0, 0.0, 0.0, 1.0, 0.0, 0.0, 0.0, 0.0, 0.0, 0.0, ...)  (0.2538801769623398, 0.0, 0.0, 0.0, 1.2962979072868075, 0.0, 0.0, 0.0, 0.0, 0.0, 0.0, 0.0, 0.0, 0.0, 0.0, 0.0, 0.0, 0.0, 0.0, 0.0, 0.0, 0.0, 0.0, 0.0, 0.0, 0.0, 0.0, 0.0, 0.0, 0.0, 0.0, 0.0, 0.0, 0.0, 0.0, 0.0, 0.0, 0.0, 4.020877410340228, 0.0, 0.0, 0.0, 0.0, 0.0, 0.0, 0.0, 0.0, 0.0, 0.0, 0.0, 0.0, 0.0, 0.0, 0.0, 0.0, 0.0, 0.0, 0.0, 0.0, 0.0, 0.0, 0.0, 0.0, 0.0, 0.0, 0.0, 0.0, 0.0, 0.0, 0.0, 0.0, 0.0, 0.0, 0.0, 0.0, 0.0, 0.0, 0.0, 0.0, 0.0, 0.0, 0.0, 0.0, 0.0, 0.0, 0.0, 0.0, 0.0, 0.0, 0.0, 0.0, 0.0, 0.0, 4.7140245909001735, 0.0, 0.0, 0.0, 0.0, 0.0, 0.0, ...)               "
      ]
     },
     "execution_count": 14,
     "metadata": {},
     "output_type": "execute_result"
    }
   ],
   "source": [
    "# Print the head of ds_features_df using Pandas\n",
    "ds_features_df.toPandas().head()"
   ]
  },
  {
   "cell_type": "code",
   "execution_count": 15,
   "metadata": {},
   "outputs": [
    {
     "name": "stdout",
     "output_type": "stream",
     "text": [
      "The shape of ds_features_df is:  222 rows,  33 columns.\n"
     ]
    }
   ],
   "source": [
    "# Print the shape using spark.\n",
    "print('The shape of ds_features_df is: '\n",
    "      ,ds_features_df.count()\n",
    "      ,\"rows, \"\n",
    "      ,len(ds_features_df.columns),\"columns.\")"
   ]
  },
  {
   "cell_type": "markdown",
   "metadata": {},
   "source": [
    "##### Grading Feedback Cell"
   ]
  },
  {
   "cell_type": "markdown",
   "metadata": {},
   "source": [
    "## Question 2b (5 pts)\n",
    "Create a pipeline model `pipe_pca` that computes the two first principal components of the `features` column as computed by `pipe_features` and creates a column named `scores`. Use that pipeline to create a dataframe `ds_features_df` with the columns `id`, `name`, `url`, and `scores`."
   ]
  },
  {
   "cell_type": "markdown",
   "metadata": {},
   "source": [
    "idf => centered_idf => pca scores"
   ]
  },
  {
   "cell_type": "code",
   "execution_count": 16,
   "metadata": {
    "deletable": false,
    "nbgrader": {
     "checksum": "fe5246f975004002ec6318349b882137",
     "grade": false,
     "grade_id": "cell-cab09e882ef8f6d1",
     "locked": false,
     "schema_version": 1,
     "solution": true
    },
    "scrolled": true
   },
   "outputs": [
    {
     "data": {
      "text/html": [
       "<div>\n",
       "<style scoped>\n",
       "    .dataframe tbody tr th:only-of-type {\n",
       "        vertical-align: middle;\n",
       "    }\n",
       "\n",
       "    .dataframe tbody tr th {\n",
       "        vertical-align: top;\n",
       "    }\n",
       "\n",
       "    .dataframe thead th {\n",
       "        text-align: right;\n",
       "    }\n",
       "</style>\n",
       "<table border=\"1\" class=\"dataframe\">\n",
       "  <thead>\n",
       "    <tr style=\"text-align: right;\">\n",
       "      <th></th>\n",
       "      <th>id</th>\n",
       "      <th>name</th>\n",
       "      <th>url</th>\n",
       "      <th>scores</th>\n",
       "    </tr>\n",
       "  </thead>\n",
       "  <tbody>\n",
       "    <tr>\n",
       "      <td>0</td>\n",
       "      <td>1</td>\n",
       "      <td>South Dakota State University</td>\n",
       "      <td>http://www.sdstate.edu/mathstat/grad/masters-in-data-science.cfm</td>\n",
       "      <td>[-0.2687441591874628, -0.4344302182472158]</td>\n",
       "    </tr>\n",
       "    <tr>\n",
       "      <td>1</td>\n",
       "      <td>2</td>\n",
       "      <td>Dakota State University</td>\n",
       "      <td>http://www.dsu.edu/msa/</td>\n",
       "      <td>[-0.3286481706567633, 2.104257913227512]</td>\n",
       "    </tr>\n",
       "    <tr>\n",
       "      <td>2</td>\n",
       "      <td>3</td>\n",
       "      <td>Lewis University</td>\n",
       "      <td>http://www.lewisu.edu/academics/data-science/index.htm</td>\n",
       "      <td>[-0.002820606988135067, -0.41690483200529677]</td>\n",
       "    </tr>\n",
       "    <tr>\n",
       "      <td>3</td>\n",
       "      <td>4</td>\n",
       "      <td>Saint Joseph's University</td>\n",
       "      <td>http://online.sju.edu/programs/business-intelligence-masters.asp</td>\n",
       "      <td>[-0.8485791207087877, -0.0012554062193079398]</td>\n",
       "    </tr>\n",
       "    <tr>\n",
       "      <td>4</td>\n",
       "      <td>5</td>\n",
       "      <td>University Of Leeds</td>\n",
       "      <td>http://www.engineering.leeds.ac.uk/computing/postgraduate/masters-advanced-computer-science/</td>\n",
       "      <td>[-0.19402822664110167, -0.41119573075412363]</td>\n",
       "    </tr>\n",
       "  </tbody>\n",
       "</table>\n",
       "</div>"
      ],
      "text/plain": [
       "   id                           name                                                                                           url                                         scores\n",
       "0  1   South Dakota State University  http://www.sdstate.edu/mathstat/grad/masters-in-data-science.cfm                              [-0.2687441591874628, -0.4344302182472158]   \n",
       "1  2   Dakota State University        http://www.dsu.edu/msa/                                                                       [-0.3286481706567633, 2.104257913227512]     \n",
       "2  3   Lewis University               http://www.lewisu.edu/academics/data-science/index.htm                                        [-0.002820606988135067, -0.41690483200529677]\n",
       "3  4   Saint Joseph's University      http://online.sju.edu/programs/business-intelligence-masters.asp                              [-0.8485791207087877, -0.0012554062193079398]\n",
       "4  5   University Of Leeds            http://www.engineering.leeds.ac.uk/computing/postgraduate/masters-advanced-computer-science/  [-0.19402822664110167, -0.41119573075412363] "
      ]
     },
     "execution_count": 16,
     "metadata": {},
     "output_type": "execute_result"
    }
   ],
   "source": [
    "# create ds_features_df here\n",
    "# standardize features\n",
    "center = feature.StandardScaler(withMean=True, withStd=False, inputCol='features', outputCol='centered_features')\n",
    "# define a PCA transformer. \n",
    "pca=feature.PCA(k=2, inputCol='centered_features', outputCol='scores')\n",
    "# Create pipe_pca that computes the two first principal components of the features column\n",
    "pipe_pca=Pipeline(stages=[center, pca])\n",
    "pipe_pca_fitted=pipe_pca.fit(ds_features_df)\n",
    "# use pipe_pca pipeline to create a dataframe ds_features_df \n",
    "ds_features_df_2b=pipe_pca_fitted.transform(ds_features_df)\n",
    "# ds_features_df with the columns id, name, url, and scores.\n",
    "ds_features_df_2b=ds_features_df_2b.select([c for c in ds_features_df_2b.columns if c in ['id', 'name', 'url', 'scores']])\n",
    "ds_features_df_2b.toPandas().head()"
   ]
  },
  {
   "cell_type": "markdown",
   "metadata": {},
   "source": [
    "idf => norm_idf => centered_idf => pca scores"
   ]
  },
  {
   "cell_type": "code",
   "execution_count": 17,
   "metadata": {
    "nbgrader": {
     "checksum": "fe5246f975004002ec6318349b882137",
     "grade": false,
     "grade_id": "cell-cab09e882ef8f6d1",
     "locked": false,
     "schema_version": 1,
     "solution": true
    }
   },
   "outputs": [],
   "source": [
    "# # create ds_features_df here\n",
    "# # normalize features\n",
    "# norm=feature.Normalizer(inputCol='features', outputCol='norm_features')\n",
    "# # standardize features\n",
    "# center = feature.StandardScaler(withMean=True, withStd=False, inputCol='norm_features', outputCol='centered_features')\n",
    "# # define a PCA transformer. \n",
    "# pca=feature.PCA(k=2, inputCol='centered_features', outputCol='scores')\n",
    "# # Create pipe_pca that computes the two first principal components of the features column\n",
    "# pipe_pca=Pipeline(stages=[norm, center, pca])\n",
    "# pipe_pca_fitted=pipe_pca.fit(ds_features_df)\n",
    "# # use pipe_pca pipeline to create a dataframe ds_features_df \n",
    "# ds_features_df=pipe_pca_fitted.transform(ds_features_df)\n",
    "# # ds_features_df with the columns id, name, url, and scores.\n",
    "# ds_features_df=ds_features_df.select([c for c in ds_features_df.columns if c in ['id', 'name', 'url', 'scores']])\n",
    "# ds_features_df.toPandas().head()"
   ]
  },
  {
   "cell_type": "markdown",
   "metadata": {},
   "source": [
    "##### Grading Feedback Cell"
   ]
  },
  {
   "cell_type": "markdown",
   "metadata": {},
   "source": [
    "# Question 3: (10 pts)\n",
    "\n",
    "Create a scatter plot with the x axis containing the first principal component (loading) and the y axis containing the second principal component (loading) of `ds_features_df`"
   ]
  },
  {
   "cell_type": "markdown",
   "metadata": {},
   "source": [
    "idf => centered_idf => pca scores"
   ]
  },
  {
   "cell_type": "code",
   "execution_count": 18,
   "metadata": {
    "deletable": false,
    "nbgrader": {
     "checksum": "25f8bfc0359ff722d557a39233e1bfe2",
     "grade": true,
     "grade_id": "cell-cfe761874325794d",
     "locked": false,
     "points": 10,
     "schema_version": 1,
     "solution": true
    },
    "scrolled": false
   },
   "outputs": [
    {
     "data": {
      "image/png": "[encoded data removed]",
      "text/plain": [
       "<Figure size 504x504 with 1 Axes>"
      ]
     },
     "metadata": {
      "needs_background": "light"
     },
     "output_type": "display_data"
    }
   ],
   "source": [
    "# Your code here\n",
    "X = np.array(ds_features_df_2b.select('scores').rdd.map(lambda x: x['scores']).collect())\n",
    "# now plot the data\n",
    "fig, ax = plt.subplots();\n",
    "fig.set_figheight(7)\n",
    "fig.set_figwidth(7)\n",
    "ax.scatter(X[:,0], X[:,1])\n",
    "fig.suptitle(\"Data Science Programs Data PC2 Scores vs. PC1 Scores\", y=.92)\n",
    "ax.set_xlabel(\"PC1\")\n",
    "ax.set_ylabel(\"PC2\")\n",
    "\n",
    "# for i, txt in enumerate(uni_names):\n",
    "#     ax.annotate(txt, (X[i,0], X[i,1]))\n",
    "plt.show();"
   ]
  },
  {
   "cell_type": "markdown",
   "metadata": {},
   "source": [
    "idf => norm_idf => centered_idf => pca scores"
   ]
  },
  {
   "cell_type": "code",
   "execution_count": 19,
   "metadata": {
    "nbgrader": {
     "checksum": "25f8bfc0359ff722d557a39233e1bfe2",
     "grade": true,
     "grade_id": "cell-cfe761874325794d",
     "locked": false,
     "points": 10,
     "schema_version": 1,
     "solution": true
    },
    "scrolled": false
   },
   "outputs": [],
   "source": [
    "# # Your code here\n",
    "# X = np.array(ds_features_df.select('scores').rdd.map(lambda x: x['scores']).collect())\n",
    "# # now plot the data\n",
    "# fig, ax = plt.subplots();\n",
    "# fig.set_figheight(7)\n",
    "# fig.set_figwidth(7)\n",
    "# ax.scatter(X[:,0], X[:,1])\n",
    "# fig.suptitle(\"Data Science Programs Data PC2 Scores vs. PC1 Scores\", y=.92)\n",
    "# ax.set_xlabel(\"PC1\")\n",
    "# ax.set_ylabel(\"PC2\")\n",
    "\n",
    "# # for i, txt in enumerate(uni_names):\n",
    "# #     ax.annotate(txt, (X[i,0], X[i,1]))\n",
    "# plt.show();"
   ]
  },
  {
   "cell_type": "markdown",
   "metadata": {},
   "source": [
    "##### Grading Feedback Cell"
   ]
  },
  {
   "cell_type": "markdown",
   "metadata": {},
   "source": [
    "# Question 4 (10 pts)\n",
    "\n",
    "Create two Pandas dataframes `pc1_pd` and `pc2_pd` with the columns `word` and `abs_loading` that contain the top 5 words and absolute loadings for the principal components 1 and 2, respetively.  Print both dataframes. Interpret the loadings."
   ]
  },
  {
   "cell_type": "code",
   "execution_count": 20,
   "metadata": {
    "deletable": false,
    "nbgrader": {
     "checksum": "21ba70a5a4393b6c5f5d5ce14bca6f26",
     "grade": false,
     "grade_id": "cell-f9d1641edcc927e5",
     "locked": false,
     "schema_version": 1,
     "solution": true
    }
   },
   "outputs": [],
   "source": [
    "# your code here (5 pts)\n",
    "\n",
    "# loadings are in pipe_pca_fitted.stages[-1]\n",
    "loadings = pipe_pca_fitted.stages[-1].pc.toArray()\n",
    "pc1 = pipe_pca_fitted.stages[-1].pc.toArray()[:, 0].tolist() #loading vector\n",
    "pc2 = pipe_pca_fitted.stages[-1].pc.toArray()[:, 1].tolist()\n",
    "\n",
    "# word col is in thepipe_features_fitted.stages[2]\n",
    "vocabulary=pipe_features_fitted.stages[2].vocabulary\n",
    "# len(vocabulary) is 112\n",
    "\n",
    "# create the Pandas dataframes of word and loadings\n",
    "pc_loadings = pd.DataFrame([vocabulary, pc1, pc2]).T.rename(columns={0: 'word', \n",
    "                                                                     1: 'load_pc1',\n",
    "                                                                     2: 'load_pc2'})\n",
    "# print(pc_loadings.shape) is (112,3)"
   ]
  },
  {
   "cell_type": "code",
   "execution_count": 21,
   "metadata": {},
   "outputs": [
    {
     "name": "stdout",
     "output_type": "stream",
     "text": [
      "the top 5 words and absolute loadings for the principal components 1\n"
     ]
    },
    {
     "data": {
      "text/html": [
       "<div>\n",
       "<style scoped>\n",
       "    .dataframe tbody tr th:only-of-type {\n",
       "        vertical-align: middle;\n",
       "    }\n",
       "\n",
       "    .dataframe tbody tr th {\n",
       "        vertical-align: top;\n",
       "    }\n",
       "\n",
       "    .dataframe thead th {\n",
       "        text-align: right;\n",
       "    }\n",
       "</style>\n",
       "<table border=\"1\" class=\"dataframe\">\n",
       "  <thead>\n",
       "    <tr style=\"text-align: right;\">\n",
       "      <th></th>\n",
       "      <th>word</th>\n",
       "      <th>abs_loading</th>\n",
       "    </tr>\n",
       "  </thead>\n",
       "  <tbody>\n",
       "    <tr>\n",
       "      <td>2</td>\n",
       "      <td>business</td>\n",
       "      <td>0.136173</td>\n",
       "    </tr>\n",
       "    <tr>\n",
       "      <td>5</td>\n",
       "      <td>mining</td>\n",
       "      <td>0.0738799</td>\n",
       "    </tr>\n",
       "    <tr>\n",
       "      <td>3</td>\n",
       "      <td>analytics</td>\n",
       "      <td>0.068668</td>\n",
       "    </tr>\n",
       "    <tr>\n",
       "      <td>8</td>\n",
       "      <td>intelligence</td>\n",
       "      <td>0.0608523</td>\n",
       "    </tr>\n",
       "    <tr>\n",
       "      <td>6</td>\n",
       "      <td>statistics</td>\n",
       "      <td>0.04373</td>\n",
       "    </tr>\n",
       "  </tbody>\n",
       "</table>\n",
       "</div>"
      ],
      "text/plain": [
       "           word abs_loading\n",
       "2  business      0.136173  \n",
       "5  mining        0.0738799 \n",
       "3  analytics     0.068668  \n",
       "8  intelligence  0.0608523 \n",
       "6  statistics    0.04373   "
      ]
     },
     "execution_count": 21,
     "metadata": {},
     "output_type": "execute_result"
    }
   ],
   "source": [
    "pc1_pd =pc_loadings.sort_values('load_pc1').\\\n",
    "    apply({'word': lambda x: x, 'load_pc1': np.abs}, axis=0).rename(columns = {'load_pc1':'abs_loading'}).head(5)\n",
    "print('the top 5 words and absolute loadings for the principal components 1')\n",
    "pc1_pd"
   ]
  },
  {
   "cell_type": "code",
   "execution_count": 22,
   "metadata": {
    "scrolled": true
   },
   "outputs": [
    {
     "name": "stdout",
     "output_type": "stream",
     "text": [
      "the top 5 words and absolute loadings for the principal components 2\n"
     ]
    },
    {
     "data": {
      "text/html": [
       "<div>\n",
       "<style scoped>\n",
       "    .dataframe tbody tr th:only-of-type {\n",
       "        vertical-align: middle;\n",
       "    }\n",
       "\n",
       "    .dataframe tbody tr th {\n",
       "        vertical-align: top;\n",
       "    }\n",
       "\n",
       "    .dataframe thead th {\n",
       "        text-align: right;\n",
       "    }\n",
       "</style>\n",
       "<table border=\"1\" class=\"dataframe\">\n",
       "  <thead>\n",
       "    <tr style=\"text-align: right;\">\n",
       "      <th></th>\n",
       "      <th>word</th>\n",
       "      <th>abs_loading</th>\n",
       "    </tr>\n",
       "  </thead>\n",
       "  <tbody>\n",
       "    <tr>\n",
       "      <td>5</td>\n",
       "      <td>mining</td>\n",
       "      <td>0.168956</td>\n",
       "    </tr>\n",
       "    <tr>\n",
       "      <td>16</td>\n",
       "      <td>computational</td>\n",
       "      <td>0.168375</td>\n",
       "    </tr>\n",
       "    <tr>\n",
       "      <td>17</td>\n",
       "      <td>machine</td>\n",
       "      <td>0.164223</td>\n",
       "    </tr>\n",
       "    <tr>\n",
       "      <td>20</td>\n",
       "      <td>learning</td>\n",
       "      <td>0.164223</td>\n",
       "    </tr>\n",
       "    <tr>\n",
       "      <td>1</td>\n",
       "      <td>data</td>\n",
       "      <td>0.0826223</td>\n",
       "    </tr>\n",
       "  </tbody>\n",
       "</table>\n",
       "</div>"
      ],
      "text/plain": [
       "             word abs_loading\n",
       "5   mining         0.168956  \n",
       "16  computational  0.168375  \n",
       "17  machine        0.164223  \n",
       "20  learning       0.164223  \n",
       "1   data           0.0826223 "
      ]
     },
     "execution_count": 22,
     "metadata": {},
     "output_type": "execute_result"
    }
   ],
   "source": [
    "pc2_pd=pc_loadings.sort_values('load_pc2').\\\n",
    "    apply({'word': lambda x: x, 'load_pc2': np.abs}, axis=0).rename(columns = {'load_pc2':'abs_loading'}).head(5)\n",
    "print('the top 5 words and absolute loadings for the principal components 2')\n",
    "pc2_pd"
   ]
  },
  {
   "cell_type": "markdown",
   "metadata": {},
   "source": [
    "##### Grading Feedback Cell\n",
    "-1: Need to sort the absolute values, not sort then take absolute value"
   ]
  },
  {
   "cell_type": "markdown",
   "metadata": {},
   "source": [
    "Your interpretation here (5 pts): <br>\n",
    "   Loadings describe how much each variable contributes to a particular principal component. Large loadings (positive or negative) indicate that a particular variable has a strong relationship to a particular principal component.<br>\n",
    "As we can see, the variables that contribute most to principal component 1 are business, mining, analytics, intelligence, statistics.<br>\n",
    "The variables that contribute most to principal component 2 are mining, computational, machine, learning and data.<br>\n",
    "The variable \"mining\" contributes a lot to both principal components. The loading for \"mining\" on the first component is 0.07, and its loading on the second principal component is 0.17.<br>\n",
    "My assumption is that the principal component 1 is more \"business-related\", while principal component 2 is more \"technology-related\". The principal component 1 likely reflects the broad application of data science in business world while principal component 2 may reflect the scientific researches aspect of data science programs. The word \"mining\" are important in both aspects in data science."
   ]
  },
  {
   "cell_type": "markdown",
   "metadata": {},
   "source": [
    "##### Grading Feedback Cell\n",
    "Nice interpretation.  The loading vector coefficients represent covariance between the words and the loading vector if withStd=False in the standard scaler.  If withStd=True, the loading vector coefficients would represent correlation between the words and the loading vector."
   ]
  },
  {
   "cell_type": "markdown",
   "metadata": {},
   "source": [
    "# Question 5: (10 pts)\n",
    "\n",
    "Create a new pipeline for PCA called `pipe_pca2` where you fit 50 principal components. Extract the `PCAModel` from the stages of this pipeline, and assign to a variable named `explainedVariance` which represents the variance explained by components of the model. Finally, assign to a variable named `best_k` the value $k$ such that ($k+1$)-th component is not able to explain more than 0.01 variance. You can use a for-loop to find such best k.  The value best_k should be be 0 based - in other words present best_k assuming that you started counting at 0."
   ]
  },
  {
   "cell_type": "code",
   "execution_count": 23,
   "metadata": {
    "deletable": false,
    "nbgrader": {
     "checksum": "8f1eb781acb7a61a4176067666602247",
     "grade": false,
     "grade_id": "cell-3c9669871f98d13c",
     "locked": false,
     "schema_version": 1,
     "solution": true
    }
   },
   "outputs": [],
   "source": [
    "# your code here\n",
    "# Reset ds_features_df\n",
    "# ds_features_df=pipe_features.fit(ds_programs_text_df).transform(ds_programs_text_df)\n",
    "# define a PCA transformer    \n",
    "pca2=feature.PCA(k=50, inputCol='centered_features', outputCol='scores')\n",
    "# Create a new pipeline pipe_pca2\n",
    "pipe_pca2=Pipeline(stages=[center, pca2]).fit(ds_features_df)\n",
    "# pipe_pca2=Pipeline(stages=[norm, center, pca2]).fit(ds_features_df)"
   ]
  },
  {
   "cell_type": "code",
   "execution_count": 24,
   "metadata": {},
   "outputs": [],
   "source": [
    "# assign to 'explainedVariance' which represents the variance explained by components of the model.\n",
    "explainedVariance=pipe_pca2.stages[-1].explainedVariance\n",
    "# len(explainedVariance) is 50\n",
    "# explainedVariance[0] is 0.07127759759886564"
   ]
  },
  {
   "cell_type": "code",
   "execution_count": 25,
   "metadata": {},
   "outputs": [
    {
     "name": "stdout",
     "output_type": "stream",
     "text": [
      "the best_k is: 30\n"
     ]
    }
   ],
   "source": [
    "# Method 1\n",
    "for k in range(len(explainedVariance)-1): \n",
    "    best_k=k\n",
    "    if (explainedVariance[k+1]<0.01):\n",
    "        break\n",
    "print(\"the best_k is:\",best_k)"
   ]
  },
  {
   "cell_type": "code",
   "execution_count": 26,
   "metadata": {},
   "outputs": [],
   "source": [
    "# Method 2\n",
    "# best_k=next(k for k in range(len(explainedVariance)-1) if explainedVariance[k+1]<0.01)\n",
    "# best_k"
   ]
  },
  {
   "cell_type": "markdown",
   "metadata": {},
   "source": [
    "##### Grading Feedback Cell"
   ]
  },
  {
   "cell_type": "markdown",
   "metadata": {},
   "source": [
    "# Question 6: (10 pts)\n",
    "\n",
    "Create a new pipeline for PCA called pipe_pca3 (similar to pipe_pca2 above) where you fit the maximum possible number of principal components for this dataset. Create a scree plot and a plot of cumulative variance explained."
   ]
  },
  {
   "cell_type": "code",
   "execution_count": 27,
   "metadata": {
    "scrolled": true
   },
   "outputs": [],
   "source": [
    "# your code here\n",
    "# Reset ds_features_df\n",
    "# ds_features_df=pipe_features.fit(ds_programs_text_df).transform(ds_programs_text_df)\n",
    "# define a PCA transformer    \n",
    "pca3=feature.PCA(k=len(vocabulary), inputCol='centered_features', outputCol='scores')\n",
    "# pca3.getK() is 112\n",
    "pipe_pca3=Pipeline(stages=[center, pca3]).fit(ds_features_df)"
   ]
  },
  {
   "cell_type": "code",
   "execution_count": 28,
   "metadata": {},
   "outputs": [
    {
     "data": {
      "image/png": "[encoded data removed]",
      "text/plain": [
       "<Figure size 432x288 with 1 Axes>"
      ]
     },
     "metadata": {
      "needs_background": "light"
     },
     "output_type": "display_data"
    }
   ],
   "source": [
    "# Create a scree plot \n",
    "plt.figure()\n",
    "explained_var = pipe_pca3.stages[-1].explainedVariance\n",
    "plt.plot(np.arange(1, len(explained_var)+1), explained_var)\n",
    "plt.title(\"DS Program Dataset Scree Plot\")\n",
    "plt.xlabel(\"Principal Component\")\n",
    "plt.ylabel(\"Proportion Variance Explained\");"
   ]
  },
  {
   "cell_type": "code",
   "execution_count": 29,
   "metadata": {
    "scrolled": false
   },
   "outputs": [
    {
     "data": {
      "image/png": "[encoded data removed]",
      "text/plain": [
       "<Figure size 432x288 with 1 Axes>"
      ]
     },
     "metadata": {
      "needs_background": "light"
     },
     "output_type": "display_data"
    }
   ],
   "source": [
    "# a plot of cumulative variance explained.\n",
    "cum_sum = np.cumsum(explained_var)\n",
    "plt.figure()\n",
    "plt.plot(np.arange(1, len(explained_var)+1), cum_sum)\n",
    "plt.title(\"DS Program Dataset Cumulative Sum of Variance Explained\")\n",
    "plt.xlabel(\"Cumulative Components\")\n",
    "plt.ylabel(\"Cumulative Sum of Variance Explained\");"
   ]
  },
  {
   "cell_type": "code",
   "execution_count": 30,
   "metadata": {},
   "outputs": [],
   "source": [
    "## check the k that can explain 80% of the original data\n",
    "# for k in range(len(cum_sum)-1): \n",
    "#     best_k=k\n",
    "#     if (cum_sum[k+1]>0.8):\n",
    "#         break\n",
    "# print(best_k) gives us 33.\n",
    "\n",
    "# cum_sum[40] gives us 0.852108403998239\n",
    "# cum_sum[50] gives us 0.9087077288810588\n",
    "# cum_sum[10] 0.4413387368510648"
   ]
  },
  {
   "cell_type": "markdown",
   "metadata": {},
   "source": [
    "##### Grading Feedback Cell"
   ]
  },
  {
   "cell_type": "markdown",
   "metadata": {},
   "source": [
    "# Question 7: (10 pts)\n",
    "Create a pipeline named pipe_pca4 (similar to pipe_pca3 above) that computes the first 2 principal components.  Add a kmeans objects to the end of pipe_pca4 and compute kmeans with k = 5.  Create a scatter plot PC2 vs. PC1 where each scatter dot is colored by the cluster assignment.  Include a plot legend."
   ]
  },
  {
   "cell_type": "code",
   "execution_count": 31,
   "metadata": {},
   "outputs": [],
   "source": [
    "# your code here\n",
    "# Reset ds_features_df\n",
    "# ds_features_df=pipe_features.fit(ds_programs_text_df).transform(ds_programs_text_df)   \n",
    "# define a Normalizer transformer which will normalize vectors to unit length.\n",
    "norm = feature.Normalizer(inputCol=\"centered_features\", outputCol=\"norm_features\", p=2.0)\n",
    "# the PCA transformer is defined above\n",
    "# define a KMeans clustering object\n",
    "kmeans = clustering.KMeans(k=5, featuresCol='norm_features', predictionCol='kmeans_feat')\n",
    "# Create a pipeline named pipe_pca4\n",
    "pipe_pca4=Pipeline(stages=[center, norm, pca, kmeans]).fit(ds_features_df)"
   ]
  },
  {
   "cell_type": "code",
   "execution_count": 32,
   "metadata": {},
   "outputs": [],
   "source": [
    "ds_pca4_df=pipe_pca4.transform(ds_features_df)\n",
    "# ds_pca4_df.groupBy('kmeans_feat').count().show()"
   ]
  },
  {
   "cell_type": "code",
   "execution_count": 33,
   "metadata": {},
   "outputs": [],
   "source": [
    "# PCA socres\n",
    "X = np.array(ds_pca4_df.select('scores').rdd.map(lambda x: x['scores']).collect())\n",
    "# Kmeans_feat\n",
    "clusters = np.array(ds_pca4_df.select(\"kmeans_feat\").rdd.map(lambda x: x['kmeans_feat']).collect())\n",
    "# clusters = ds_pca4_df.select(\"kmeans_feat\").rdd.map(lambda x: x['kmeans_feat']).collect()\n",
    "# np.unique(clusters) gives us array([0, 1, 2, 3, 4])"
   ]
  },
  {
   "cell_type": "code",
   "execution_count": 34,
   "metadata": {},
   "outputs": [
    {
     "data": {
      "image/png": "[encoded data removed]",
      "text/plain": [
       "<Figure size 432x288 with 1 Axes>"
      ]
     },
     "metadata": {
      "needs_background": "light"
     },
     "output_type": "display_data"
    }
   ],
   "source": [
    "# Create a scatter plot PC2 vs. PC1 where each scatter dot is colored by the cluster assignment. \n",
    "# Include a plot legend.\n",
    "legend = []\n",
    "for i in np.unique(clusters):\n",
    "    legend.append('Cluster {0}'.format(i))\n",
    "sns.scatterplot(x=X[:,0], y=X[:,1], hue=clusters,palette=['g','r','c','m','y'],legend='full') #\"\n",
    "plt.title('Data Science Programs Data PC2 Scores vs. PC1 Scores')\n",
    "plt.legend(legend,title='K-means Clutser')\n",
    "plt.show();"
   ]
  },
  {
   "cell_type": "markdown",
   "metadata": {},
   "source": [
    "##### Grading Feedback Cell\n",
    "-1 The title is explicit but I do prefer to have axis labels"
   ]
  },
  {
   "cell_type": "markdown",
   "metadata": {},
   "source": [
    "# Question 8: (10 pts)\n",
    "Starting with pipe_pca2, transform the pipeline and save the resulting dataframe to a variable named `pca_fun`.  Extract the output from the standard scaler column from the first row of pca_fun and store in a variable called `z`. Manually compute 10 PCA scores by projecting z onto the first 10 loading vectors. Save the 10 projected pca scores in a varialbe called `projection`.  Extract the first 10 PCA scores from the first row of pca_fun and save them in a variable named `model_scores`.  Print `projection` and `model_scores`.  Compare `projection` to `model_scores` and explain why they are the same or different. "
   ]
  },
  {
   "cell_type": "code",
   "execution_count": 35,
   "metadata": {},
   "outputs": [],
   "source": [
    "# your code here (5 pts)\n",
    "# Reset ds_features_df\n",
    "# ds_features_df=pipe_features.fit(ds_programs_text_df).transform(ds_programs_text_df)\n",
    "# ds_features_df.count() gives us 222\n",
    "# transform the pipe_pca2 and save the resulting as pca_fun\n",
    "pca_fun=pipe_pca2.transform(ds_features_df)\n",
    "# pca_fun.toPandas().head()"
   ]
  },
  {
   "cell_type": "code",
   "execution_count": 36,
   "metadata": {},
   "outputs": [],
   "source": [
    "# Extract the output from the standard scaler column from the first row of pca_fun \n",
    "# and store in a variable called z.\n",
    "z=pca_fun.select('centered_features', 'scores').first()['centered_features']\n",
    "# len(z) gives us 112"
   ]
  },
  {
   "cell_type": "code",
   "execution_count": 48,
   "metadata": {},
   "outputs": [
    {
     "name": "stdout",
     "output_type": "stream",
     "text": [
      "(112, 50)\n"
     ]
    }
   ],
   "source": [
    "# Manually compute 10 PCA scores by projecting z onto the first 10 loading vectors.\n",
    "loadings = pipe_pca2.stages[-1].pc.toArray()\n",
    "# loadings.shape is (112, 50)\n",
    "projection = z.dot(loadings[:,:10])"
   ]
  },
  {
   "cell_type": "code",
   "execution_count": 38,
   "metadata": {
    "scrolled": true
   },
   "outputs": [],
   "source": [
    "# Extract the first 10 PCA scores from the first row of pca_fun and save them in a variable named model_scores\n",
    "model_scores=pca_fun.select('centered_features', 'scores').first()['scores'][:10]"
   ]
  },
  {
   "cell_type": "code",
   "execution_count": 39,
   "metadata": {
    "scrolled": false
   },
   "outputs": [
    {
     "name": "stdout",
     "output_type": "stream",
     "text": [
      "projection:  [-0.26874416 -0.43443022 -1.99990463 -0.45846524  0.14171739 -0.78124129\n",
      " -1.46182952 -0.38379532  0.01341778 -0.24463091]\n",
      "model_scores:  [-0.26874416 -0.43443022 -1.99990463 -0.45846524  0.14171739 -0.78124129\n",
      " -1.46182952 -0.38379532  0.01341778 -0.24463091]\n"
     ]
    }
   ],
   "source": [
    "# Print projection and model_scores. \n",
    "print('projection: ',projection)\n",
    "print('model_scores: ',model_scores)"
   ]
  },
  {
   "cell_type": "code",
   "execution_count": 40,
   "metadata": {},
   "outputs": [
    {
     "data": {
      "text/plain": [
       "array([-1.11022302e-16, -1.11022302e-16,  2.22044605e-16,  1.11022302e-16,\n",
       "        5.55111512e-17, -7.77156117e-16,  8.88178420e-16,  5.55111512e-17,\n",
       "        7.45931095e-17,  1.94289029e-16])"
      ]
     },
     "execution_count": 40,
     "metadata": {},
     "output_type": "execute_result"
    }
   ],
   "source": [
    "# Compare projection to model_scores and explain why they are the same or different.\n",
    "diffs = model_scores-projection\n",
    "diffs"
   ]
  },
  {
   "cell_type": "markdown",
   "metadata": {},
   "source": [
    "##### Grading Feedback Cell"
   ]
  },
  {
   "cell_type": "markdown",
   "metadata": {},
   "source": [
    "Your explanation here (5 pts): <br>\n",
    "As we can we, the projection and model_scores are different from each other. However, the difference is so small that it can be ignored.<br>\n",
    "\n",
    "\n",
    "The reason why they are almost the same is that we fit pipe_pca2 with 50 principal components. \n",
    "As we can see from the plot of cumulative variance explained in question 6, 50 principal components explain about 90% of variance of the original data set. 50 is big enough to make the lost infomration sifficiently small. Though we cannot restore the exact original data set from the 50 principal components, we are able to capture about 90% of the original variance, which is really close to the original data set.\n",
    "\n"
   ]
  },
  {
   "cell_type": "markdown",
   "metadata": {},
   "source": [
    "##### Grading Feedback Cell\n",
    "-5: I think you are confusing the forward transform and inverse transorm.  In this question you are manually computing the scores.  The fact that the manually computed scores match the scores in the scores column indicate you did the projection correct.  Using more or less than 10 loading vectors to compute the scores will only affect how many scores are calculated, not how accurate the scores are.  A more appropriate answer is that the manual projection is shown to be correct because it matches the projection made by the PCA object to a small rounding error."
   ]
  },
  {
   "cell_type": "markdown",
   "metadata": {},
   "source": [
    "# Question 9: (10 pts)\n",
    "Using PCA loading vectors, perform an inverse transform on the `projection` variable and store the result in a variable named inverse.  Print `inverse` and the original `z` data.  Explain why the inverse data is the same as `z` (or really close to `z`), or why it is different than `z`.  "
   ]
  },
  {
   "cell_type": "code",
   "execution_count": 41,
   "metadata": {
    "scrolled": false
   },
   "outputs": [],
   "source": [
    "# your code here (5 pts)\n",
    "# Using PCA loading vectors perform an inverse transform on the projection variable and store the result in a variable named inverse.\n",
    "inverse=loadings[:,:10].dot(projection[:10])\n",
    "# or inverse=projection.dot(loadings[:,:10].T)\n",
    "# len(inverse) is 112\n",
    "# loadings[:,:10].shape is (112, 10)\n",
    "# projection[:10].shape is (10,)"
   ]
  },
  {
   "cell_type": "code",
   "execution_count": 42,
   "metadata": {},
   "outputs": [
    {
     "name": "stdout",
     "output_type": "stream",
     "text": [
      "inverse:  [-3.98181012e-02  2.43205863e-01 -6.31585720e-01 -2.69959353e-01\n",
      "  3.39563694e-01  1.21250081e-01  2.06481351e+00 -2.51147047e-01\n",
      " -3.90968288e-01  7.39924107e-03  6.38829687e-02  2.89489245e-01\n",
      " -1.12177016e-01  1.90822768e-01 -1.07907430e-01  1.00266093e-01\n",
      " -1.26910287e-01 -1.42628181e-01 -3.52566821e-01  3.04623232e-01\n",
      " -1.42628181e-01 -3.62013312e-01 -2.75872731e-01 -2.98456354e-01\n",
      " -2.46281587e-01 -2.45085926e-01 -1.10652164e-01  2.57462252e-01\n",
      "  3.40325429e-02  8.61291153e-01 -9.60684737e-03  5.19727913e-01\n",
      " -3.16747128e-02  6.26197071e-02 -3.28031053e-02 -1.08211389e-01\n",
      " -1.59284445e-01 -1.08211389e-01 -1.29053476e-02  8.86374457e-03\n",
      " -7.29644989e-02 -3.45722474e-02 -5.95006813e-02 -3.99589979e-02\n",
      "  8.33838510e-03 -3.24773205e-02 -3.21988135e-02  2.53951184e-01\n",
      " -6.21821418e-02 -4.86672631e-02 -8.90724282e-02 -1.16611637e-01\n",
      " -4.86672631e-02 -7.92319432e-02 -5.01017567e-03  4.68632526e-02\n",
      " -1.92067776e-02 -1.28394580e-02  1.07116525e-02 -5.48752959e-02\n",
      " -1.14649098e-01 -1.95766702e-03  6.25895433e-03 -1.28394580e-02\n",
      " -5.48752959e-02 -1.79668562e-02  1.32594644e-02 -3.67118814e-02\n",
      "  7.35779029e-03 -1.14649098e-01  3.45597258e-02  3.45597258e-02\n",
      " -3.15131996e-02 -1.14649098e-01 -6.39451684e-02 -1.16330328e-02\n",
      " -4.45362141e-02 -2.41204068e-02 -1.06529448e-01 -1.16330328e-02\n",
      " -3.43958335e-02 -2.03136058e-02 -1.06529448e-01 -2.37711947e-02\n",
      " -2.27430461e-02  3.29299970e-03 -2.94759929e-02 -3.15131996e-02\n",
      " -1.14649098e-01 -1.28394580e-02 -3.35647504e-02 -5.39852141e-02\n",
      " -2.35959107e-02  3.33324370e-03 -5.39852141e-02  1.32594644e-02\n",
      " -1.14649098e-01  2.41758610e-01 -3.62343291e-02 -1.05712850e-03\n",
      " -2.94759929e-02 -1.92067776e-02 -1.28394580e-02 -1.05712850e-03\n",
      " -3.41077782e-02  3.33324370e-03  3.93435797e-03 -8.59200313e-02\n",
      "  1.49797182e-02 -1.22300120e-02 -8.51785138e-03 -1.61906671e-02]\n",
      "original z:  [0.057180220036563034,0.30526263797129705,-0.4954897991588665,-0.36295504816835844,0.8641986048578716,-0.24098572336347818,2.2186781912555658,-0.23897148177448116,-0.21909331387449488,-0.20638446153250645,-0.2086993319516678,-0.19968103721300093,-0.19710492462101953,-0.17021487380635458,-0.17923925133324392,-0.16209679163956386,-0.1590514375466797,-0.13555299543521387,-0.13555299543521387,-0.144592215951527,-0.13555299543521387,-0.13555299543521387,-0.13984624677775104,-0.10492843066874764,-0.10492843066874764,-0.10492843066874764,-0.10492843066874764,-0.0935476114163461,-0.09771384600627199,-0.08142820500522666,-0.08142820500522666,3.533984097226837,-0.0684276370995679,-0.0684276370995679,-0.0684276370995679,-0.05433618122081389,-0.05433618122081389,-0.05433618122081389,-0.05433618122081389,-0.03881585119632441,-0.03881585119632441,-0.03881585119632441,-0.03881585119632441,-0.03881585119632441,-0.03881585119632441,-0.03881585119632441,-0.03881585119632441,-0.03881585119632441,-0.03881585119632441,-0.03881585119632441,-0.04246869000810967,-0.03881585119632441,-0.03881585119632441,-0.03881585119632441,-0.03881585119632441,-0.03881585119632441,-0.021234345004054835,-0.021234345004054835,-0.021234345004054835,-0.021234345004054835,-0.021234345004054835,-0.021234345004054835,-0.021234345004054835,-0.021234345004054835,-0.021234345004054835,-0.021234345004054835,-0.021234345004054835,-0.021234345004054835,-0.021234345004054835,-0.021234345004054835,-0.021234345004054835,-0.021234345004054835,-0.021234345004054835,-0.021234345004054835,-0.021234345004054835,-0.021234345004054835,-0.021234345004054835,-0.021234345004054835,-0.021234345004054835,-0.021234345004054835,-0.021234345004054835,-0.021234345004054835,-0.021234345004054835,-0.021234345004054835,-0.021234345004054835,-0.021234345004054835,-0.021234345004054835,-0.021234345004054835,-0.021234345004054835,-0.021234345004054835,-0.021234345004054835,-0.021234345004054835,-0.021234345004054835,-0.021234345004054835,-0.021234345004054835,-0.021234345004054835,-0.021234345004054835,-0.021234345004054835,-0.021234345004054835,-0.021234345004054835,-0.021234345004054835,-0.021234345004054835,-0.021234345004054835,-0.021234345004054835,-0.021234345004054835,-0.021234345004054835,-0.021234345004054835,-0.021234345004054835,-0.021234345004054835,-0.021234345004054835,-0.021234345004054835,-0.021234345004054835]\n"
     ]
    }
   ],
   "source": [
    "# Print inverse and the original z data.\n",
    "print(\"inverse: \",inverse)\n",
    "print(\"original z: \",z)"
   ]
  },
  {
   "cell_type": "code",
   "execution_count": 43,
   "metadata": {},
   "outputs": [
    {
     "data": {
      "text/plain": [
       "DenseVector([0.097, 0.0621, 0.1361, -0.093, 0.5246, -0.3622, 0.1539, 0.0122, 0.1719, -0.2138, -0.2726, -0.4892, -0.0849, -0.361, -0.0713, -0.2624, -0.0321, 0.0071, 0.217, -0.4492, 0.0071, 0.2265, 0.136, 0.1935, 0.1414, 0.1402, 0.0057, -0.351, -0.1317, -0.9427, -0.0718, 3.0143, -0.0368, -0.131, -0.0356, 0.0539, 0.1049, 0.0539, -0.0414, -0.0477, 0.0341, -0.0042, 0.0207, 0.0011, -0.0472, -0.0063, -0.0066, -0.2928, 0.0234, 0.0099, 0.0466, 0.0778, 0.0099, 0.0404, -0.0338, -0.0857, -0.002, -0.0084, -0.0319, 0.0336, 0.0934, -0.0193, -0.0275, -0.0084, 0.0336, -0.0033, -0.0345, 0.0155, -0.0286, 0.0934, -0.0558, -0.0558, 0.0103, 0.0934, 0.0427, -0.0096, 0.0233, 0.0029, 0.0853, -0.0096, 0.0132, -0.0009, 0.0853, 0.0025, 0.0015, -0.0245, 0.0082, 0.0103, 0.0934, -0.0084, 0.0123, 0.0328, 0.0024, -0.0246, 0.0328, -0.0345, 0.0934, -0.263, 0.015, -0.0202, 0.0082, -0.002, -0.0084, -0.0202, 0.0129, -0.0246, -0.0252, 0.0647, -0.0362, -0.009, -0.0127, -0.005])"
      ]
     },
     "execution_count": 43,
     "metadata": {},
     "output_type": "execute_result"
    }
   ],
   "source": [
    "# Compare the inverse data with z\n",
    "diff=z-inverse\n",
    "diff"
   ]
  },
  {
   "cell_type": "markdown",
   "metadata": {},
   "source": [
    "##### Grading Feedback Cell"
   ]
  },
  {
   "cell_type": "markdown",
   "metadata": {},
   "source": [
    "Your explanation here (5 pts):<br>\n",
    "The inverse data is different than z.<br>\n",
    "\n",
    "The more loadings we use for the inverse transform, the closer the approximation to the original observation row. In this case, we only use 10 principal components to restore the original dataset. 112x10 loadings and 10x1 projection only capture about 45% of the variance of the original dataset. So the inverse data is different than z."
   ]
  },
  {
   "cell_type": "markdown",
   "metadata": {},
   "source": [
    "##### Grading Feedbck Cell"
   ]
  },
  {
   "cell_type": "markdown",
   "metadata": {},
   "source": [
    "# Question 10: (10 pts)\n",
    "\n",
    "Think about the cumulative variance and the scree plot from the question above.  If you were building a machine learning model, how many principal components would you pick for your model.  Explain why.  "
   ]
  },
  {
   "cell_type": "markdown",
   "metadata": {},
   "source": [
    "Your Answer Here:<br>\n",
    "\n",
    "I would pick 35 to 40 principal components to build a machine learning model.\n",
    "\n",
    "To find the proper number of principal components, we should check a marked drop in the percentage of explained variation in the scree plot and ignore those principal components that explain relatively little variation. Here, first 35 to 40 principal components are able to explain more than 0.01 variance, and subsequent principal components explain much less.\n",
    "\n",
    "\n",
    "The Cumulative variance plot gives us the percentage of variance accounted for by the first n components. The acceptable level of variance depends on our application. For descriptive purposes, I would like 80% of the variance explained. However, if I will perform other analyses on the data, I may need at least 90% of the variance explained by the principal components."
   ]
  },
  {
   "cell_type": "markdown",
   "metadata": {},
   "source": [
    "##### Grading Feedback Cell"
   ]
  }
 ],
 "metadata": {
  "celltoolbar": "Edit Metadata",
  "kernelspec": {
   "display_name": "Python 3",
   "language": "python",
   "name": "python3"
  },
  "language_info": {
   "codemirror_mode": {
    "name": "ipython",
    "version": 3
   },
   "file_extension": ".py",
   "mimetype": "text/x-python",
   "name": "python",
   "nbconvert_exporter": "python",
   "pygments_lexer": "ipython3",
   "version": "3.7.6"
  }
 },
 "nbformat": 4,
 "nbformat_minor": 2
}
